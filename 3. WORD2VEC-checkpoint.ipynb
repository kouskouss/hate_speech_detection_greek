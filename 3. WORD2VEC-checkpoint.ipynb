{
 "cells": [
  {
   "cell_type": "code",
   "execution_count": 1,
   "id": "5d5a7b5d",
   "metadata": {},
   "outputs": [],
   "source": [
    "import pandas as pd\n",
    "import numpy as np\n",
    "\n",
    "# PRE-PROCESSING\n",
    "import string\n",
    "from nltk.corpus import stopwords\n",
    "from nltk.stem import WordNetLemmatizer\n",
    "import spacy\n",
    "\n",
    "# TD-IDF\n",
    "from sklearn.feature_extraction.text import TfidfVectorizer\n",
    "\n",
    "# TRAIN/TEST SET\n",
    "from sklearn.model_selection import StratifiedKFold, train_test_split\n",
    "\n",
    "from sklearn import model_selection, naive_bayes, svm\n",
    "from sklearn.metrics import accuracy_score\n",
    "from sklearn.metrics import classification_report \n",
    "\n",
    "# from sklearn.model_selection import GridSearchCV\n",
    "from sklearn.model_selection import RandomizedSearchCV\n"
   ]
  },
  {
   "cell_type": "code",
   "execution_count": 2,
   "id": "2f01667e",
   "metadata": {},
   "outputs": [],
   "source": [
    "nlp = spacy.load(\"el_core_news_sm\")"
   ]
  },
  {
   "cell_type": "code",
   "execution_count": 3,
   "id": "07011cb0",
   "metadata": {},
   "outputs": [
    {
     "data": {
      "text/html": [
       "<div>\n",
       "<style scoped>\n",
       "    .dataframe tbody tr th:only-of-type {\n",
       "        vertical-align: middle;\n",
       "    }\n",
       "\n",
       "    .dataframe tbody tr th {\n",
       "        vertical-align: top;\n",
       "    }\n",
       "\n",
       "    .dataframe thead th {\n",
       "        text-align: right;\n",
       "    }\n",
       "</style>\n",
       "<table border=\"1\" class=\"dataframe\">\n",
       "  <thead>\n",
       "    <tr style=\"text-align: right;\">\n",
       "      <th></th>\n",
       "      <th>Tweet</th>\n",
       "      <th>class</th>\n",
       "    </tr>\n",
       "  </thead>\n",
       "  <tbody>\n",
       "    <tr>\n",
       "      <th>0</th>\n",
       "      <td>Η απορία της ημέρας!!\\n\\nΓιατί σε φωτογραφία π...</td>\n",
       "      <td>0.0</td>\n",
       "    </tr>\n",
       "    <tr>\n",
       "      <th>1</th>\n",
       "      <td>Ρε κόψτε την σύνδεση με τον βλακα Καραγιάννη έ...</td>\n",
       "      <td>1.0</td>\n",
       "    </tr>\n",
       "    <tr>\n",
       "      <th>2</th>\n",
       "      <td>Ότι ήσουν μαλάκω το ξέραμε. Ότι ήσουν αμπαλη ...</td>\n",
       "      <td>1.0</td>\n",
       "    </tr>\n",
       "    <tr>\n",
       "      <th>3</th>\n",
       "      <td>ΠΟΙΟΣ ΓΑΜΙΟΛΗΣ ΚΡΥΒΕΤΑΙ ΠΙΣΩ ΑΠΤΗΝΕ ΑΝΑΠΑΤΕΧΗ ...</td>\n",
       "      <td>1.0</td>\n",
       "    </tr>\n",
       "    <tr>\n",
       "      <th>4</th>\n",
       "      <td>Βλεπω αυτόν τον πατέρα στην Σκατιανα και μου έ...</td>\n",
       "      <td>1.0</td>\n",
       "    </tr>\n",
       "  </tbody>\n",
       "</table>\n",
       "</div>"
      ],
      "text/plain": [
       "                                               Tweet  class\n",
       "0  Η απορία της ημέρας!!\\n\\nΓιατί σε φωτογραφία π...    0.0\n",
       "1  Ρε κόψτε την σύνδεση με τον βλακα Καραγιάννη έ...    1.0\n",
       "2   Ότι ήσουν μαλάκω το ξέραμε. Ότι ήσουν αμπαλη ...    1.0\n",
       "3  ΠΟΙΟΣ ΓΑΜΙΟΛΗΣ ΚΡΥΒΕΤΑΙ ΠΙΣΩ ΑΠΤΗΝΕ ΑΝΑΠΑΤΕΧΗ ...    1.0\n",
       "4  Βλεπω αυτόν τον πατέρα στην Σκατιανα και μου έ...    1.0"
      ]
     },
     "execution_count": 3,
     "metadata": {},
     "output_type": "execute_result"
    }
   ],
   "source": [
    "# testing  = pd.read_csv('TWEETS_nolinks.csv')\n",
    "testing  = pd.read_csv('CHATGPT TWEETS_nolinks.csv')\n",
    "\n",
    "# Replace empty strings with NaN\n",
    "testing['class'] = testing['class'].replace(' ', np.nan)\n",
    "final = testing[testing['class'].notnull()]\n",
    "final = final.reset_index()\n",
    "final = final[['Tweet', 'class']]\n",
    "# Use astype to convert to float\n",
    "final['class'] = final['class'].astype(float)\n",
    "final.head()"
   ]
  },
  {
   "cell_type": "code",
   "execution_count": null,
   "id": "70b76608",
   "metadata": {},
   "outputs": [],
   "source": []
  },
  {
   "cell_type": "code",
   "execution_count": 7,
   "id": "f004c292",
   "metadata": {},
   "outputs": [
    {
     "data": {
      "image/png": "[encoded data removed]",
      "text/plain": [
       "<Figure size 640x480 with 1 Axes>"
      ]
     },
     "metadata": {},
     "output_type": "display_data"
    }
   ],
   "source": [
    "import matplotlib.pyplot as plt\n",
    "\n",
    "plt.pie(final['Label'].value_counts().values,\n",
    "        labels = final['Label'].value_counts().index,\n",
    "        autopct='%1.1f%%')\n",
    "\n",
    "# Add a title\n",
    "# plt.title(\"Annotated Dataset\")\n",
    "\n",
    "# Add a legend\n",
    "plt.legend(['Neutral', 'Offensive', 'Hate'], title=\"Labels\")\n",
    "\n",
    "plt.show()"
   ]
  },
  {
   "cell_type": "code",
   "execution_count": 24,
   "id": "ae75d7ad",
   "metadata": {},
   "outputs": [],
   "source": [
    "def replaceMultiple(main, replacements, new):\n",
    "    for elem in replacements:\n",
    "        if elem in main:\n",
    "            main = main.replace(elem, new)\n",
    "\n",
    "    return main\n",
    "\n",
    "\n",
    "def normalize(x):\n",
    "    x = x.replace('ά', 'α')\n",
    "    x = x.replace('έ', 'ε')\n",
    "    x = x.replace('ή', 'η')\n",
    "    x = replaceMultiple(x, ['ί', 'ΐ', 'ϊ'], 'ι')\n",
    "    x = x.replace('ό', 'ο')\n",
    "    x = replaceMultiple(x, ['ύ', 'ΰ', 'ϋ'], 'υ')\n",
    "    x = x.replace('ώ', 'ω')\n",
    "    return x\n",
    "\n",
    "def remove_stopwords(text):\n",
    "    stop_words = stopwords.words('greek')\n",
    " \n",
    "    imp_words = []\n",
    " \n",
    "    # Storing the important words\n",
    "    for word in str(text).split():\n",
    " \n",
    "        if word not in stop_words:\n",
    " \n",
    "            # Let's Lemmatize the word as well -- to fernw stin arxiki tou morfi\n",
    "#             before appending to the imp_words list.\n",
    " \n",
    "            lemmatizer = WordNetLemmatizer()\n",
    "            lemmatizer.lemmatize(word) #doesnt really work\n",
    " \n",
    "            imp_words.append(word)\n",
    " \n",
    "    output = \" \".join(imp_words)\n",
    " \n",
    "    return output\n",
    "\n",
    "\n",
    "punctuations_list = string.punctuation\n",
    "def remove_punctuations(text):\n",
    "    temp = str.maketrans('', '', punctuations_list)\n",
    "    return text.translate(temp)"
   ]
  },
  {
   "cell_type": "markdown",
   "id": "a70d2aff",
   "metadata": {},
   "source": [
    "ΟΧΙ ΛΕΜΜΑ ΚΑΙ ΣΤΟΠΓΟΡΝΤΣ"
   ]
  },
  {
   "cell_type": "code",
   "execution_count": 25,
   "id": "5b97741c",
   "metadata": {},
   "outputs": [],
   "source": [
    "def text_processing(text): \n",
    "    text = normalize(text)  #diwxnw tonous\n",
    "    text = text.lower() #ola mikra\n",
    "    text = remove_punctuations(text) #diwxnw punctiations\n",
    "#     text = remove_stopwords(text) #diwxnw stopwords\n",
    "#     text  = \" \".join([w.lemma_ for w in nlp(text)]) #lemmatization is not really working well either\n",
    "    return text\n",
    "#     return [word for word in text.split() ] #tokenization"
   ]
  },
  {
   "cell_type": "code",
   "execution_count": 26,
   "id": "7797f4fc",
   "metadata": {},
   "outputs": [],
   "source": [
    "final['Tweet'] = final['Tweet'].apply(lambda x: text_processing(x))"
   ]
  },
  {
   "cell_type": "markdown",
   "id": "de4bce2d",
   "metadata": {},
   "source": [
    "WORD2VEC"
   ]
  },
  {
   "cell_type": "code",
   "execution_count": 27,
   "id": "e7cc418f",
   "metadata": {},
   "outputs": [],
   "source": [
    "from sklearn.model_selection import StratifiedKFold, train_test_split\n",
    "\n",
    "kfold = StratifiedKFold(n_splits=5, random_state=10, shuffle=True)\n",
    "for i, (train_index, test_index) in enumerate(kfold.split(final['Tweet'], final['class'])):\n",
    "       X_train, X_test, Y_train, Y_test = final['Tweet'][train_index], final['Tweet'][test_index], final['class'][train_index], final['class'][test_index]"
   ]
  },
  {
   "cell_type": "code",
   "execution_count": 28,
   "id": "6150c786",
   "metadata": {},
   "outputs": [],
   "source": [
    "from gensim.models import Word2Vec\n",
    "\n",
    "sentences = [sentence.split() for sentence in X_train]\n",
    "# einai hdh san protaseis\n",
    "w2v_model = Word2Vec(sentences, vector_size=100, window=5, min_count=5, workers=4)"
   ]
  },
  {
   "cell_type": "code",
   "execution_count": 29,
   "id": "67923738",
   "metadata": {},
   "outputs": [
    {
     "data": {
      "text/plain": [
       "308"
      ]
     },
     "execution_count": 29,
     "metadata": {},
     "output_type": "execute_result"
    }
   ],
   "source": [
    "len(w2v_model.wv) #total number of words in model"
   ]
  },
  {
   "cell_type": "code",
   "execution_count": 30,
   "id": "704d05e8",
   "metadata": {},
   "outputs": [],
   "source": [
    "def vectorize(sentence):\n",
    "    words = sentence.split()\n",
    "    words_vecs = [w2v_model.wv[word] for word in words if word in w2v_model.wv]\n",
    "    if len(words_vecs) == 0:\n",
    "        return np.zeros(100)\n",
    "    words_vecs = np.array(words_vecs)\n",
    "    return words_vecs.mean(axis=0)"
   ]
  },
  {
   "cell_type": "code",
   "execution_count": 31,
   "id": "730334b1",
   "metadata": {},
   "outputs": [],
   "source": [
    "X_train = np.array([vectorize(sentence) for sentence in X_train])\n",
    "X_test = np.array([vectorize(sentence) for sentence in X_test])"
   ]
  },
  {
   "cell_type": "markdown",
   "id": "48fa315c",
   "metadata": {},
   "source": [
    "Train a classification model\n",
    "\n",
    "Train a classification model such as logistic regression, random forests, or support vector machines using the vectorised training data and the sentiment labels.\n",
    "\n",
    "!!NAIVE BAYES DOESNT TAKE NEGATIVE VALUES!!!"
   ]
  },
  {
   "cell_type": "markdown",
   "id": "439aa91e",
   "metadata": {},
   "source": [
    "SVM"
   ]
  },
  {
   "cell_type": "code",
   "execution_count": 32,
   "id": "873869c5",
   "metadata": {
    "scrolled": true
   },
   "outputs": [
    {
     "name": "stdout",
     "output_type": "stream",
     "text": [
      "Fitting 3 folds for each of 10 candidates, totalling 30 fits\n",
      "[CV] END .........................C=0.1, gamma=1, kernel=rbf; total time=   0.0s\n",
      "[CV] END .........................C=0.1, gamma=1, kernel=rbf; total time=   0.0s\n",
      "[CV] END .........................C=0.1, gamma=1, kernel=rbf; total time=   0.0s\n",
      "[CV] END ...................C=0.1, gamma=0.01, kernel=linear; total time=   0.0s\n",
      "[CV] END ...................C=0.1, gamma=0.01, kernel=linear; total time=   0.0s\n",
      "[CV] END ...................C=0.1, gamma=0.01, kernel=linear; total time=   0.0s\n",
      "[CV] END .........................C=100, gamma=1, kernel=rbf; total time=   0.0s\n",
      "[CV] END .........................C=100, gamma=1, kernel=rbf; total time=   0.0s\n",
      "[CV] END .........................C=100, gamma=1, kernel=rbf; total time=   0.0s\n",
      "[CV] END .................C=100, gamma=0.0001, kernel=linear; total time=   0.0s\n",
      "[CV] END .................C=100, gamma=0.0001, kernel=linear; total time=   0.0s\n",
      "[CV] END .................C=100, gamma=0.0001, kernel=linear; total time=   0.0s\n",
      "[CV] END ........................C=1, gamma=1, kernel=linear; total time=   0.0s\n",
      "[CV] END ........................C=1, gamma=1, kernel=linear; total time=   0.0s\n",
      "[CV] END ........................C=1, gamma=1, kernel=linear; total time=   0.0s\n",
      "[CV] END ....................C=1000, gamma=0.001, kernel=rbf; total time=   0.0s\n",
      "[CV] END ....................C=1000, gamma=0.001, kernel=rbf; total time=   0.0s\n",
      "[CV] END ....................C=1000, gamma=0.001, kernel=rbf; total time=   0.0s\n",
      "[CV] END ..................C=10, gamma=0.0001, kernel=linear; total time=   0.0s\n",
      "[CV] END ..................C=10, gamma=0.0001, kernel=linear; total time=   0.0s\n",
      "[CV] END ..................C=10, gamma=0.0001, kernel=linear; total time=   0.0s\n",
      "[CV] END ........................C=1000, gamma=1, kernel=rbf; total time=   0.0s\n",
      "[CV] END ........................C=1000, gamma=1, kernel=rbf; total time=   0.0s\n",
      "[CV] END ........................C=1000, gamma=1, kernel=rbf; total time=   0.0s\n",
      "[CV] END ...........................C=1, gamma=1, kernel=rbf; total time=   0.0s\n",
      "[CV] END ...........................C=1, gamma=1, kernel=rbf; total time=   0.0s\n",
      "[CV] END ...........................C=1, gamma=1, kernel=rbf; total time=   0.0s\n",
      "[CV] END ................C=1000, gamma=0.0001, kernel=linear; total time=   0.0s\n",
      "[CV] END ................C=1000, gamma=0.0001, kernel=linear; total time=   0.0s\n",
      "[CV] END ................C=1000, gamma=0.0001, kernel=linear; total time=   0.0s\n",
      "{'kernel': 'linear', 'gamma': 0.0001, 'C': 1000}\n",
      "SVC(C=1000, class_weight='balanced', gamma=0.0001, kernel='linear')\n",
      "              precision    recall  f1-score   support\n",
      "\n",
      "         0.0       0.72      0.81      0.76        57\n",
      "         1.0       0.77      0.67      0.71        54\n",
      "\n",
      "    accuracy                           0.74       111\n",
      "   macro avg       0.74      0.74      0.74       111\n",
      "weighted avg       0.74      0.74      0.74       111\n",
      "\n"
     ]
    }
   ],
   "source": [
    "\n",
    "\n",
    "\n",
    "# defining parameter range\n",
    "param_grid = {'C': [0.1, 1, 10, 100, 1000], \n",
    "              'gamma': [1, 0.1, 0.01, 0.001, 0.0001, 'scale'],\n",
    "              'kernel': ['rbf', 'linear']} \n",
    "\n",
    "# grid = GridSearchCV(svm.SVC(), param_grid, refit = True, verbose = 3)\n",
    "grid = RandomizedSearchCV(svm.SVC(class_weight='balanced'),  param_grid, cv=3, random_state=42, refit = True, verbose = 2)\n",
    "\n",
    "# fitting the model for grid search\n",
    "grid.fit(X_train, Y_train)\n",
    "# print best parameter after tuning\n",
    "print(grid.best_params_)\n",
    "# print how our model looks after hyper-parameter tuning\n",
    "print(grid.best_estimator_)\n",
    "\n",
    "grid_predictions = grid.predict(X_test)\n",
    "  \n",
    "# print classification report\n",
    "print(classification_report(Y_test, grid_predictions))"
   ]
  },
  {
   "cell_type": "markdown",
   "id": "581c6cae",
   "metadata": {},
   "source": [
    "# Random Forest "
   ]
  },
  {
   "cell_type": "code",
   "execution_count": 33,
   "id": "f6e9e2f7",
   "metadata": {},
   "outputs": [
    {
     "name": "stdout",
     "output_type": "stream",
     "text": [
      "Fitting 3 folds for each of 10 candidates, totalling 30 fits\n",
      "[CV] END bootstrap=True, criterion=gini, max_depth=100, min_samples_leaf=2, min_samples_split=10, n_estimators=200; total time=   0.4s\n",
      "[CV] END bootstrap=True, criterion=gini, max_depth=100, min_samples_leaf=2, min_samples_split=10, n_estimators=200; total time=   0.3s\n",
      "[CV] END bootstrap=True, criterion=gini, max_depth=100, min_samples_leaf=2, min_samples_split=10, n_estimators=200; total time=   0.4s\n",
      "[CV] END bootstrap=False, criterion=entropy, max_depth=60, min_samples_leaf=4, min_samples_split=10, n_estimators=222; total time=   1.0s\n",
      "[CV] END bootstrap=False, criterion=entropy, max_depth=60, min_samples_leaf=4, min_samples_split=10, n_estimators=222; total time=   1.2s\n",
      "[CV] END bootstrap=False, criterion=entropy, max_depth=60, min_samples_leaf=4, min_samples_split=10, n_estimators=222; total time=   1.1s\n",
      "[CV] END bootstrap=False, criterion=gini, max_depth=110, min_samples_leaf=2, min_samples_split=2, n_estimators=222; total time=   0.6s\n",
      "[CV] END bootstrap=False, criterion=gini, max_depth=110, min_samples_leaf=2, min_samples_split=2, n_estimators=222; total time=   0.6s\n",
      "[CV] END bootstrap=False, criterion=gini, max_depth=110, min_samples_leaf=2, min_samples_split=2, n_estimators=222; total time=   0.5s\n",
      "[CV] END bootstrap=True, criterion=gini, max_depth=60, min_samples_leaf=1, min_samples_split=5, n_estimators=266; total time=   0.5s\n",
      "[CV] END bootstrap=True, criterion=gini, max_depth=60, min_samples_leaf=1, min_samples_split=5, n_estimators=266; total time=   0.5s\n",
      "[CV] END bootstrap=True, criterion=gini, max_depth=60, min_samples_leaf=1, min_samples_split=5, n_estimators=266; total time=   0.5s\n",
      "[CV] END bootstrap=False, criterion=entropy, max_depth=30, min_samples_leaf=1, min_samples_split=10, n_estimators=244; total time=   1.2s\n",
      "[CV] END bootstrap=False, criterion=entropy, max_depth=30, min_samples_leaf=1, min_samples_split=10, n_estimators=244; total time=   1.1s\n",
      "[CV] END bootstrap=False, criterion=entropy, max_depth=30, min_samples_leaf=1, min_samples_split=10, n_estimators=244; total time=   1.2s\n",
      "[CV] END bootstrap=False, criterion=gini, max_depth=None, min_samples_leaf=1, min_samples_split=10, n_estimators=211; total time=   0.8s\n",
      "[CV] END bootstrap=False, criterion=gini, max_depth=None, min_samples_leaf=1, min_samples_split=10, n_estimators=211; total time=   0.6s\n",
      "[CV] END bootstrap=False, criterion=gini, max_depth=None, min_samples_leaf=1, min_samples_split=10, n_estimators=211; total time=   0.7s\n",
      "[CV] END bootstrap=False, criterion=gini, max_depth=90, min_samples_leaf=2, min_samples_split=2, n_estimators=300; total time=   0.9s\n",
      "[CV] END bootstrap=False, criterion=gini, max_depth=90, min_samples_leaf=2, min_samples_split=2, n_estimators=300; total time=   1.2s\n",
      "[CV] END bootstrap=False, criterion=gini, max_depth=90, min_samples_leaf=2, min_samples_split=2, n_estimators=300; total time=   1.1s\n",
      "[CV] END bootstrap=True, criterion=gini, max_depth=20, min_samples_leaf=2, min_samples_split=5, n_estimators=200; total time=   0.6s\n",
      "[CV] END bootstrap=True, criterion=gini, max_depth=20, min_samples_leaf=2, min_samples_split=5, n_estimators=200; total time=   0.9s\n",
      "[CV] END bootstrap=True, criterion=gini, max_depth=20, min_samples_leaf=2, min_samples_split=5, n_estimators=200; total time=   0.6s\n",
      "[CV] END bootstrap=True, criterion=entropy, max_depth=70, min_samples_leaf=4, min_samples_split=2, n_estimators=255; total time=   0.8s\n",
      "[CV] END bootstrap=True, criterion=entropy, max_depth=70, min_samples_leaf=4, min_samples_split=2, n_estimators=255; total time=   0.7s\n",
      "[CV] END bootstrap=True, criterion=entropy, max_depth=70, min_samples_leaf=4, min_samples_split=2, n_estimators=255; total time=   0.7s\n",
      "[CV] END bootstrap=True, criterion=gini, max_depth=90, min_samples_leaf=2, min_samples_split=5, n_estimators=300; total time=   0.8s\n",
      "[CV] END bootstrap=True, criterion=gini, max_depth=90, min_samples_leaf=2, min_samples_split=5, n_estimators=300; total time=   0.6s\n",
      "[CV] END bootstrap=True, criterion=gini, max_depth=90, min_samples_leaf=2, min_samples_split=5, n_estimators=300; total time=   0.6s\n",
      "{'n_estimators': 266, 'min_samples_split': 5, 'min_samples_leaf': 1, 'max_depth': 60, 'criterion': 'gini', 'bootstrap': True}\n",
      "RandomForestClassifier(class_weight='balanced', max_depth=60,\n",
      "                       min_samples_split=5, n_estimators=266, random_state=0)\n",
      "              precision    recall  f1-score   support\n",
      "\n",
      "         0.0       0.69      0.72      0.71        57\n",
      "         1.0       0.69      0.67      0.68        54\n",
      "\n",
      "    accuracy                           0.69       111\n",
      "   macro avg       0.69      0.69      0.69       111\n",
      "weighted avg       0.69      0.69      0.69       111\n",
      "\n"
     ]
    }
   ],
   "source": [
    "# defining parameter range\n",
    "\n",
    "# Number of trees in random forest\n",
    "n_estimators = [int(x) for x in np.linspace(start = 200, stop = 300, num = 10)]\n",
    "# Maximum number of levels in tree\n",
    "max_depth = [int(x) for x in np.linspace(10, 110, num = 11)]\n",
    "max_depth.append(None)\n",
    "# Minimum number of samples required to split a node\n",
    "min_samples_split = [2, 5, 10]\n",
    "# Minimum number of samples required at each leaf node\n",
    "min_samples_leaf = [1, 2, 4]\n",
    "# Method of selecting samples for training each tree\n",
    "bootstrap = [True, False]\n",
    "\n",
    "# Create the random grid\n",
    "random_grid = {'n_estimators': n_estimators,\n",
    "               'criterion': ['gini', 'entropy'],\n",
    "               'max_depth': max_depth,\n",
    "               'min_samples_split': min_samples_split,\n",
    "               'min_samples_leaf': min_samples_leaf,\n",
    "               'bootstrap': bootstrap}\n",
    "\n",
    "from sklearn.ensemble import RandomForestClassifier\n",
    "RandomForest = RandomForestClassifier(random_state =0, class_weight='balanced')\n",
    "\n",
    "grid = RandomizedSearchCV(RandomForest, random_grid, cv=3, random_state=42, refit = True, verbose = 2)\n",
    "# fitting the model for grid search\n",
    "grid.fit(X_train, Y_train)\n",
    "# print best parameter after tuning\n",
    "print(grid.best_params_)\n",
    "# print how our model looks after hyper-parameter tuning\n",
    "print(grid.best_estimator_)\n",
    "\n",
    "grid_predictions = grid.predict(X_test)\n",
    "  \n",
    "# print classification report\n",
    "print(classification_report(Y_test, grid_predictions))"
   ]
  },
  {
   "cell_type": "markdown",
   "id": "bba98af4",
   "metadata": {},
   "source": [
    "# SGDClassifier "
   ]
  },
  {
   "cell_type": "markdown",
   "id": "3bd4b1c4",
   "metadata": {},
   "source": [
    "https://scikit-learn.org/stable/modules/generated/sklearn.linear_model.SGDClassifier.html\n",
    "\n",
    "Linear classifiers (SVM, logistic regression, etc.) with SGD training. -stochastic gradient descent (SGD) learning"
   ]
  },
  {
   "cell_type": "code",
   "execution_count": 34,
   "id": "e7a81fe5",
   "metadata": {},
   "outputs": [
    {
     "name": "stdout",
     "output_type": "stream",
     "text": [
      "Fitting 3 folds for each of 10 candidates, totalling 30 fits\n",
      "[CV] END alpha=0.001, loss=squared_hinge, penalty=elasticnet; total time=   0.0s\n",
      "[CV] END alpha=0.001, loss=squared_hinge, penalty=elasticnet; total time=   0.0s\n",
      "[CV] END alpha=0.001, loss=squared_hinge, penalty=elasticnet; total time=   0.0s\n",
      "[CV] END ...............alpha=0.0001, loss=hinge, penalty=l2; total time=   0.0s\n",
      "[CV] END ...............alpha=0.0001, loss=hinge, penalty=l2; total time=   0.0s\n",
      "[CV] END ...............alpha=0.0001, loss=hinge, penalty=l2; total time=   0.0s\n",
      "[CV] END ........alpha=0.001, loss=hinge, penalty=elasticnet; total time=   0.0s\n",
      "[CV] END ........alpha=0.001, loss=hinge, penalty=elasticnet; total time=   0.0s\n",
      "[CV] END ........alpha=0.001, loss=hinge, penalty=elasticnet; total time=   0.0s\n",
      "[CV] END ......alpha=0.001, loss=squared_hinge, penalty=none; total time=   0.0s\n",
      "[CV] END ......alpha=0.001, loss=squared_hinge, penalty=none; total time=   0.0s\n",
      "[CV] END ......alpha=0.001, loss=squared_hinge, penalty=none; total time=   0.0s\n",
      "[CV] END ..alpha=0.0001, loss=perceptron, penalty=elasticnet; total time=   0.0s\n",
      "[CV] END ..alpha=0.0001, loss=perceptron, penalty=elasticnet; total time=   0.0s\n",
      "[CV] END ..alpha=0.0001, loss=perceptron, penalty=elasticnet; total time=   0.0s\n",
      "[CV] END ........alpha=0.001, loss=squared_hinge, penalty=l2; total time=   0.0s\n",
      "[CV] END ........alpha=0.001, loss=squared_hinge, penalty=l2; total time=   0.0s\n",
      "[CV] END ........alpha=0.001, loss=squared_hinge, penalty=l2; total time=   0.0s\n",
      "[CV] END alpha=0.0001, loss=squared_hinge, penalty=elasticnet; total time=   0.0s\n",
      "[CV] END alpha=0.0001, loss=squared_hinge, penalty=elasticnet; total time=   0.0s\n",
      "[CV] END alpha=0.0001, loss=squared_hinge, penalty=elasticnet; total time=   0.0s\n",
      "[CV] END ..alpha=0.1, loss=squared_hinge, penalty=elasticnet; total time=   0.1s\n"
     ]
    },
    {
     "name": "stderr",
     "output_type": "stream",
     "text": [
      "C:\\Users\\konst\\anaconda3\\envs\\udemy\\lib\\site-packages\\sklearn\\linear_model\\_stochastic_gradient.py:705: ConvergenceWarning: Maximum number of iteration reached before convergence. Consider increasing max_iter to improve the fit.\n",
      "  warnings.warn(\n",
      "C:\\Users\\konst\\anaconda3\\envs\\udemy\\lib\\site-packages\\sklearn\\linear_model\\_stochastic_gradient.py:705: ConvergenceWarning: Maximum number of iteration reached before convergence. Consider increasing max_iter to improve the fit.\n",
      "  warnings.warn(\n"
     ]
    },
    {
     "name": "stdout",
     "output_type": "stream",
     "text": [
      "[CV] END ..alpha=0.1, loss=squared_hinge, penalty=elasticnet; total time=   0.1s\n",
      "[CV] END ..alpha=0.1, loss=squared_hinge, penalty=elasticnet; total time=   0.1s\n",
      "[CV] END .................alpha=0.0001, loss=log, penalty=l2; total time=   0.0s\n",
      "[CV] END .................alpha=0.0001, loss=log, penalty=l2; total time=   0.0s\n",
      "[CV] END .................alpha=0.0001, loss=log, penalty=l2; total time=   0.0s\n",
      "[CV] END ......alpha=0.0001, loss=modified_huber, penalty=l2; total time=   0.0s\n",
      "[CV] END ......alpha=0.0001, loss=modified_huber, penalty=l2; total time=   0.0s\n",
      "[CV] END ......alpha=0.0001, loss=modified_huber, penalty=l2; total time=   0.0s\n",
      "{'penalty': 'elasticnet', 'loss': 'squared_hinge', 'alpha': 0.001}\n",
      "SGDClassifier(alpha=0.001, class_weight='balanced', loss='squared_hinge',\n",
      "              penalty='elasticnet')\n",
      "              precision    recall  f1-score   support\n",
      "\n",
      "         0.0       0.73      0.82      0.78        57\n",
      "         1.0       0.79      0.69      0.73        54\n",
      "\n",
      "    accuracy                           0.76       111\n",
      "   macro avg       0.76      0.75      0.75       111\n",
      "weighted avg       0.76      0.76      0.76       111\n",
      "\n"
     ]
    },
    {
     "name": "stderr",
     "output_type": "stream",
     "text": [
      "C:\\Users\\konst\\anaconda3\\envs\\udemy\\lib\\site-packages\\sklearn\\linear_model\\_stochastic_gradient.py:705: ConvergenceWarning: Maximum number of iteration reached before convergence. Consider increasing max_iter to improve the fit.\n",
      "  warnings.warn(\n",
      "C:\\Users\\konst\\anaconda3\\envs\\udemy\\lib\\site-packages\\sklearn\\linear_model\\_stochastic_gradient.py:173: FutureWarning: The loss 'log' was deprecated in v1.1 and will be removed in version 1.3. Use `loss='log_loss'` which is equivalent.\n",
      "  warnings.warn(\n",
      "C:\\Users\\konst\\anaconda3\\envs\\udemy\\lib\\site-packages\\sklearn\\linear_model\\_stochastic_gradient.py:173: FutureWarning: The loss 'log' was deprecated in v1.1 and will be removed in version 1.3. Use `loss='log_loss'` which is equivalent.\n",
      "  warnings.warn(\n",
      "C:\\Users\\konst\\anaconda3\\envs\\udemy\\lib\\site-packages\\sklearn\\linear_model\\_stochastic_gradient.py:173: FutureWarning: The loss 'log' was deprecated in v1.1 and will be removed in version 1.3. Use `loss='log_loss'` which is equivalent.\n",
      "  warnings.warn(\n"
     ]
    }
   ],
   "source": [
    "from sklearn.linear_model import SGDClassifier\n",
    "\n",
    "SGDC = SGDClassifier(class_weight='balanced')\n",
    "\"hinge\", \"log\", \"squared_hinge\", \"modified_huber\", \"perceptron\"\n",
    "# Create the random grid\n",
    "random_grid = { \"loss\" : [\"hinge\", \"log\", \"squared_hinge\", \"modified_huber\", \"perceptron\"],\n",
    "                \"alpha\" : [0.0001, 0.001, 0.01, 0.1],\n",
    "                \"penalty\" : [\"l2\", \"l1\", \"elasticnet\", \"none\"]}\n",
    "\n",
    "grid = RandomizedSearchCV(SGDC, random_grid, cv=3, random_state=42, refit = True, verbose = 2)\n",
    "\n",
    "\n",
    "# fitting the model for grid search\n",
    "grid.fit(X_train, Y_train)\n",
    "# print best parameter after tuning\n",
    "print(grid.best_params_)\n",
    "# print how our model looks after hyper-parameter tuning\n",
    "print(grid.best_estimator_)\n",
    "\n",
    "grid_predictions = grid.predict(X_test)\n",
    "  \n",
    "# print classification report\n",
    "print(classification_report(Y_test, grid_predictions))"
   ]
  },
  {
   "cell_type": "markdown",
   "id": "99935f71",
   "metadata": {},
   "source": [
    "# XGBoost "
   ]
  },
  {
   "cell_type": "code",
   "execution_count": 35,
   "id": "38d9bad9",
   "metadata": {},
   "outputs": [
    {
     "name": "stdout",
     "output_type": "stream",
     "text": [
      "Fitting 3 folds for each of 10 candidates, totalling 30 fits\n",
      "[CV] END gamma=0.2, learning_rate=0.2, max_depth=5, min_child_weight=3, n_estimators=500; total time=   1.0s\n",
      "[CV] END gamma=0.2, learning_rate=0.2, max_depth=5, min_child_weight=3, n_estimators=500; total time=   0.9s\n",
      "[CV] END gamma=0.2, learning_rate=0.2, max_depth=5, min_child_weight=3, n_estimators=500; total time=   0.8s\n",
      "[CV] END gamma=0.3, learning_rate=0.15, max_depth=6, min_child_weight=7, n_estimators=1500; total time=   2.3s\n",
      "[CV] END gamma=0.3, learning_rate=0.15, max_depth=6, min_child_weight=7, n_estimators=1500; total time=   1.6s\n",
      "[CV] END gamma=0.3, learning_rate=0.15, max_depth=6, min_child_weight=7, n_estimators=1500; total time=   2.0s\n",
      "[CV] END gamma=0.2, learning_rate=0.05, max_depth=10, min_child_weight=1, n_estimators=100; total time=   0.3s\n",
      "[CV] END gamma=0.2, learning_rate=0.05, max_depth=10, min_child_weight=1, n_estimators=100; total time=   0.3s\n",
      "[CV] END gamma=0.2, learning_rate=0.05, max_depth=10, min_child_weight=1, n_estimators=100; total time=   0.3s\n",
      "[CV] END gamma=0.3, learning_rate=0.05, max_depth=15, min_child_weight=5, n_estimators=1500; total time=   2.1s\n",
      "[CV] END gamma=0.3, learning_rate=0.05, max_depth=15, min_child_weight=5, n_estimators=1500; total time=   2.1s\n",
      "[CV] END gamma=0.3, learning_rate=0.05, max_depth=15, min_child_weight=5, n_estimators=1500; total time=   2.2s\n",
      "[CV] END gamma=0.2, learning_rate=0.2, max_depth=5, min_child_weight=5, n_estimators=100; total time=   0.1s\n",
      "[CV] END gamma=0.2, learning_rate=0.2, max_depth=5, min_child_weight=5, n_estimators=100; total time=   0.1s\n",
      "[CV] END gamma=0.2, learning_rate=0.2, max_depth=5, min_child_weight=5, n_estimators=100; total time=   0.1s\n",
      "[CV] END gamma=0.2, learning_rate=0.15, max_depth=15, min_child_weight=7, n_estimators=100; total time=   0.1s\n",
      "[CV] END gamma=0.2, learning_rate=0.15, max_depth=15, min_child_weight=7, n_estimators=100; total time=   0.1s\n",
      "[CV] END gamma=0.2, learning_rate=0.15, max_depth=15, min_child_weight=7, n_estimators=100; total time=   0.1s\n",
      "[CV] END gamma=0.4, learning_rate=0.1, max_depth=5, min_child_weight=1, n_estimators=1500; total time=   3.8s\n",
      "[CV] END gamma=0.4, learning_rate=0.1, max_depth=5, min_child_weight=1, n_estimators=1500; total time=   3.5s\n",
      "[CV] END gamma=0.4, learning_rate=0.1, max_depth=5, min_child_weight=1, n_estimators=1500; total time=   3.5s\n",
      "[CV] END gamma=0.2, learning_rate=0.15, max_depth=6, min_child_weight=1, n_estimators=1500; total time=   3.9s\n",
      "[CV] END gamma=0.2, learning_rate=0.15, max_depth=6, min_child_weight=1, n_estimators=1500; total time=   4.6s\n",
      "[CV] END gamma=0.2, learning_rate=0.15, max_depth=6, min_child_weight=1, n_estimators=1500; total time=   4.8s\n",
      "[CV] END gamma=0.4, learning_rate=0.05, max_depth=5, min_child_weight=7, n_estimators=1100; total time=   2.4s\n",
      "[CV] END gamma=0.4, learning_rate=0.05, max_depth=5, min_child_weight=7, n_estimators=1100; total time=   2.0s\n",
      "[CV] END gamma=0.4, learning_rate=0.05, max_depth=5, min_child_weight=7, n_estimators=1100; total time=   1.5s\n",
      "[CV] END gamma=0.0, learning_rate=0.1, max_depth=5, min_child_weight=1, n_estimators=500; total time=   1.0s\n",
      "[CV] END gamma=0.0, learning_rate=0.1, max_depth=5, min_child_weight=1, n_estimators=500; total time=   1.0s\n",
      "[CV] END gamma=0.0, learning_rate=0.1, max_depth=5, min_child_weight=1, n_estimators=500; total time=   1.0s\n",
      "{'n_estimators': 100, 'min_child_weight': 5, 'max_depth': 5, 'learning_rate': 0.2, 'gamma': 0.2}\n",
      "XGBClassifier(base_score=None, booster=None, callbacks=None,\n",
      "              colsample_bylevel=None, colsample_bynode=None,\n",
      "              colsample_bytree=None, early_stopping_rounds=None,\n",
      "              enable_categorical=False, eval_metric=None, feature_types=None,\n",
      "              gamma=0.2, gpu_id=None, grow_policy=None, importance_type=None,\n",
      "              interaction_constraints=None, learning_rate=0.2, max_bin=None,\n",
      "              max_cat_threshold=None, max_cat_to_onehot=None,\n",
      "              max_delta_step=None, max_depth=5, max_leaves=None,\n",
      "              min_child_weight=5, missing=nan, monotone_constraints=None,\n",
      "              n_estimators=100, n_jobs=None, num_parallel_tree=None,\n",
      "              predictor=None, random_state=None, ...)\n",
      "              precision    recall  f1-score   support\n",
      "\n",
      "         0.0       0.69      0.61      0.65        57\n",
      "         1.0       0.63      0.70      0.67        54\n",
      "\n",
      "    accuracy                           0.66       111\n",
      "   macro avg       0.66      0.66      0.66       111\n",
      "weighted avg       0.66      0.66      0.66       111\n",
      "\n"
     ]
    }
   ],
   "source": [
    "from xgboost import XGBClassifier\n",
    "\n",
    "from sklearn.utils.class_weight import compute_sample_weight\n",
    "\n",
    "sample_weights = compute_sample_weight(\n",
    "    class_weight='balanced',\n",
    "    y=Y_train \n",
    ")\n",
    "\n",
    "xgb = XGBClassifier()\n",
    "\n",
    "# Create the random grid\n",
    "random_grid = { \"learning_rate\" : [0.05,0.1,0.15,0.20],\n",
    "                 \"n_estimators\" : [100, 500, 900, 1100, 1500],\n",
    "                 \"max_depth\" : [ 3, 5, 6, 10, 15],\n",
    "                 \"min_child_weight\" : [ 1, 3, 5, 7 ],\n",
    "                 \"gamma\" : [ 0.0, 0.1, 0.2 , 0.3, 0.4 ]}\n",
    "\n",
    "grid = RandomizedSearchCV(xgb, random_grid, cv=3, random_state=42, refit = True, verbose = 2)\n",
    "\n",
    "# fitting the model for grid search\n",
    "grid.fit(X_train, Y_train, sample_weight=sample_weights)\n",
    "# print best parameter after tuning\n",
    "print(grid.best_params_)\n",
    "# print how our model looks after hyper-parameter tuning\n",
    "print(grid.best_estimator_)\n",
    "\n",
    "grid_predictions = grid.predict(X_test)\n",
    "  \n",
    "# print classification report\n",
    "print(classification_report(Y_test, grid_predictions))"
   ]
  },
  {
   "cell_type": "code",
   "execution_count": null,
   "id": "7111417c",
   "metadata": {},
   "outputs": [],
   "source": []
  }
 ],
 "metadata": {
  "kernelspec": {
   "display_name": "Python 3 (ipykernel)",
   "language": "python",
   "name": "python3"
  },
  "language_info": {
   "codemirror_mode": {
    "name": "ipython",
    "version": 3
   },
   "file_extension": ".py",
   "mimetype": "text/x-python",
   "name": "python",
   "nbconvert_exporter": "python",
   "pygments_lexer": "ipython3",
   "version": "3.10.6"
  }
 },
 "nbformat": 4,
 "nbformat_minor": 5
}
