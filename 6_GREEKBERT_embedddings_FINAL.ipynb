{
  "cells": [
    {
      "cell_type": "markdown",
      "metadata": {
        "id": "sKgDNzS8LsuA"
      },
      "source": [
        "# A Visual Guide to Using BERT for the First Time\n",
        "https://jalammar.github.io/a-visual-guide-to-using-bert-for-the-first-time/"
      ]
    },
    {
      "cell_type": "markdown",
      "metadata": {
        "id": "thwSfZayPzAQ"
      },
      "source": [
        "config = RobertaConfig.from_pretrained(PreTrained_Model)\n",
        "\n",
        "config.output_hidden_states = False\n",
        "\n",
        "model = TFRobertaModel.from_pretrained(PreTrained_Model, from_pt=True, config = config)\n",
        "\n",
        "embedding_layer = model.roberta(tokens,attention_mask=masks,token_type_ids=segs)[0]\n",
        "\n",
        "Features = embedding_layer[:,0,:].numpy()\n",
        "\n",
        "\n",
        "\n"
      ]
    },
    {
      "cell_type": "code",
      "execution_count": null,
      "metadata": {
        "colab": {
          "base_uri": "https://localhost:8080/"
        },
        "id": "d2NdqLfIQJ7y",
        "outputId": "051f4da1-8f73-4e38-f86c-b89cc91ebd5b"
      },
      "outputs": [
        {
          "output_type": "stream",
          "name": "stdout",
          "text": [
            "Collecting transformers\n",
            "  Downloading transformers-4.34.1-py3-none-any.whl (7.7 MB)\n",
            "\u001b[2K     \u001b[90m━━━━━━━━━━━━━━━━━━━━━━━━━━━━━━━━━━━━━━━━\u001b[0m \u001b[32m7.7/7.7 MB\u001b[0m \u001b[31m47.3 MB/s\u001b[0m eta \u001b[36m0:00:00\u001b[0m\n",
            "\u001b[?25hRequirement already satisfied: filelock in /usr/local/lib/python3.10/dist-packages (from transformers) (3.12.4)\n",
            "Collecting huggingface-hub<1.0,>=0.16.4 (from transformers)\n",
            "  Downloading huggingface_hub-0.18.0-py3-none-any.whl (301 kB)\n",
            "\u001b[2K     \u001b[90m━━━━━━━━━━━━━━━━━━━━━━━━━━━━━━━━━━━━━━━━\u001b[0m \u001b[32m302.0/302.0 kB\u001b[0m \u001b[31m28.4 MB/s\u001b[0m eta \u001b[36m0:00:00\u001b[0m\n",
            "\u001b[?25hRequirement already satisfied: numpy>=1.17 in /usr/local/lib/python3.10/dist-packages (from transformers) (1.23.5)\n",
            "Requirement already satisfied: packaging>=20.0 in /usr/local/lib/python3.10/dist-packages (from transformers) (23.2)\n",
            "Requirement already satisfied: pyyaml>=5.1 in /usr/local/lib/python3.10/dist-packages (from transformers) (6.0.1)\n",
            "Requirement already satisfied: regex!=2019.12.17 in /usr/local/lib/python3.10/dist-packages (from transformers) (2023.6.3)\n",
            "Requirement already satisfied: requests in /usr/local/lib/python3.10/dist-packages (from transformers) (2.31.0)\n",
            "Collecting tokenizers<0.15,>=0.14 (from transformers)\n",
            "  Downloading tokenizers-0.14.1-cp310-cp310-manylinux_2_17_x86_64.manylinux2014_x86_64.whl (3.8 MB)\n",
            "\u001b[2K     \u001b[90m━━━━━━━━━━━━━━━━━━━━━━━━━━━━━━━━━━━━━━━━\u001b[0m \u001b[32m3.8/3.8 MB\u001b[0m \u001b[31m86.1 MB/s\u001b[0m eta \u001b[36m0:00:00\u001b[0m\n",
            "\u001b[?25hCollecting safetensors>=0.3.1 (from transformers)\n",
            "  Downloading safetensors-0.4.0-cp310-cp310-manylinux_2_17_x86_64.manylinux2014_x86_64.whl (1.3 MB)\n",
            "\u001b[2K     \u001b[90m━━━━━━━━━━━━━━━━━━━━━━━━━━━━━━━━━━━━━━━━\u001b[0m \u001b[32m1.3/1.3 MB\u001b[0m \u001b[31m65.9 MB/s\u001b[0m eta \u001b[36m0:00:00\u001b[0m\n",
            "\u001b[?25hRequirement already satisfied: tqdm>=4.27 in /usr/local/lib/python3.10/dist-packages (from transformers) (4.66.1)\n",
            "Requirement already satisfied: fsspec>=2023.5.0 in /usr/local/lib/python3.10/dist-packages (from huggingface-hub<1.0,>=0.16.4->transformers) (2023.6.0)\n",
            "Requirement already satisfied: typing-extensions>=3.7.4.3 in /usr/local/lib/python3.10/dist-packages (from huggingface-hub<1.0,>=0.16.4->transformers) (4.5.0)\n",
            "Collecting huggingface-hub<1.0,>=0.16.4 (from transformers)\n",
            "  Downloading huggingface_hub-0.17.3-py3-none-any.whl (295 kB)\n",
            "\u001b[2K     \u001b[90m━━━━━━━━━━━━━━━━━━━━━━━━━━━━━━━━━━━━━━━━\u001b[0m \u001b[32m295.0/295.0 kB\u001b[0m \u001b[31m29.8 MB/s\u001b[0m eta \u001b[36m0:00:00\u001b[0m\n",
            "\u001b[?25hRequirement already satisfied: charset-normalizer<4,>=2 in /usr/local/lib/python3.10/dist-packages (from requests->transformers) (3.3.0)\n",
            "Requirement already satisfied: idna<4,>=2.5 in /usr/local/lib/python3.10/dist-packages (from requests->transformers) (3.4)\n",
            "Requirement already satisfied: urllib3<3,>=1.21.1 in /usr/local/lib/python3.10/dist-packages (from requests->transformers) (2.0.7)\n",
            "Requirement already satisfied: certifi>=2017.4.17 in /usr/local/lib/python3.10/dist-packages (from requests->transformers) (2023.7.22)\n",
            "Installing collected packages: safetensors, huggingface-hub, tokenizers, transformers\n",
            "Successfully installed huggingface-hub-0.17.3 safetensors-0.4.0 tokenizers-0.14.1 transformers-4.34.1\n"
          ]
        }
      ],
      "source": [
        "!pip install transformers"
      ]
    },
    {
      "cell_type": "code",
      "execution_count": null,
      "metadata": {
        "id": "LZL47TlzQJwt"
      },
      "outputs": [],
      "source": [
        "from sklearn.model_selection import train_test_split\n",
        "from sklearn.linear_model import LogisticRegression\n",
        "from sklearn.model_selection import GridSearchCV\n",
        "from sklearn.model_selection import cross_val_score\n",
        "import torch\n",
        "import transformers as ppb\n",
        "import warnings\n",
        "warnings.filterwarnings('ignore')"
      ]
    },
    {
      "cell_type": "code",
      "execution_count": null,
      "metadata": {
        "colab": {
          "base_uri": "https://localhost:8080/"
        },
        "id": "lW36etWDWrkn",
        "outputId": "10496486-deb8-46ef-e795-83f108d3672b"
      },
      "outputs": [
        {
          "output_type": "stream",
          "name": "stdout",
          "text": [
            "Requirement already satisfied: huggingface_hub in /usr/local/lib/python3.10/dist-packages (0.17.3)\n",
            "Requirement already satisfied: filelock in /usr/local/lib/python3.10/dist-packages (from huggingface_hub) (3.12.4)\n",
            "Requirement already satisfied: fsspec in /usr/local/lib/python3.10/dist-packages (from huggingface_hub) (2023.6.0)\n",
            "Requirement already satisfied: requests in /usr/local/lib/python3.10/dist-packages (from huggingface_hub) (2.31.0)\n",
            "Requirement already satisfied: tqdm>=4.42.1 in /usr/local/lib/python3.10/dist-packages (from huggingface_hub) (4.66.1)\n",
            "Requirement already satisfied: pyyaml>=5.1 in /usr/local/lib/python3.10/dist-packages (from huggingface_hub) (6.0.1)\n",
            "Requirement already satisfied: typing-extensions>=3.7.4.3 in /usr/local/lib/python3.10/dist-packages (from huggingface_hub) (4.5.0)\n",
            "Requirement already satisfied: packaging>=20.9 in /usr/local/lib/python3.10/dist-packages (from huggingface_hub) (23.2)\n",
            "Requirement already satisfied: charset-normalizer<4,>=2 in /usr/local/lib/python3.10/dist-packages (from requests->huggingface_hub) (3.3.0)\n",
            "Requirement already satisfied: idna<4,>=2.5 in /usr/local/lib/python3.10/dist-packages (from requests->huggingface_hub) (3.4)\n",
            "Requirement already satisfied: urllib3<3,>=1.21.1 in /usr/local/lib/python3.10/dist-packages (from requests->huggingface_hub) (2.0.7)\n",
            "Requirement already satisfied: certifi>=2017.4.17 in /usr/local/lib/python3.10/dist-packages (from requests->huggingface_hub) (2023.7.22)\n"
          ]
        }
      ],
      "source": [
        "!pip install huggingface_hub"
      ]
    },
    {
      "cell_type": "code",
      "execution_count": null,
      "metadata": {
        "id": "aJTrgoHlWk1c"
      },
      "outputs": [],
      "source": [
        "import pandas as pd\n",
        "import numpy as np\n",
        "\n",
        "# # PRE-PROCESSING\n",
        "# import string\n",
        "# from nltk.corpus import stopwords\n",
        "# from nltk.stem import WordNetLemmatizer\n",
        "# import spacy\n",
        "\n",
        "# TRAIN/TEST SET\n",
        "from sklearn.model_selection import StratifiedKFold, train_test_split\n",
        "# from sklearn.model_selection import GridSearchCV\n",
        "from sklearn.model_selection import RandomizedSearchCV\n",
        "\n",
        "from sklearn import model_selection, naive_bayes, svm\n",
        "from sklearn.metrics import accuracy_score\n",
        "from sklearn.metrics import classification_report\n",
        "\n",
        "# nlp = spacy.load(\"el_core_news_sm\")"
      ]
    },
    {
      "cell_type": "code",
      "execution_count": null,
      "metadata": {
        "id": "Jw-Vxv_5Lnxw"
      },
      "outputs": [],
      "source": [
        "# testing  = pd.read_csv('TWEETS_nolinks.csv')\n",
        "testing  = pd.read_csv('CHATGPT TWEETS_nolinks.csv')\n",
        "\n",
        "# Replace empty strings with NaN\n",
        "testing['class'] = testing['class'].replace(' ', np.nan)\n",
        "final = testing[testing['class'].notnull()]\n",
        "final = final.reset_index()\n",
        "final = final[['Tweet', 'class']]\n",
        "# Use astype to convert to float\n",
        "final['class'] = final['class'].astype(float)\n",
        "# final.head()"
      ]
    },
    {
      "cell_type": "code",
      "source": [
        "len(final[final['class']==0])"
      ],
      "metadata": {
        "colab": {
          "base_uri": "https://localhost:8080/"
        },
        "id": "smOuyI8AYEkP",
        "outputId": "dae922fd-e9c6-4fea-8556-7746311c9f17"
      },
      "execution_count": null,
      "outputs": [
        {
          "output_type": "execute_result",
          "data": {
            "text/plain": [
              "287"
            ]
          },
          "metadata": {},
          "execution_count": 28
        }
      ]
    },
    {
      "cell_type": "code",
      "source": [
        "len(final[final['class']==1])"
      ],
      "metadata": {
        "colab": {
          "base_uri": "https://localhost:8080/"
        },
        "id": "QfcYNM3LYKQQ",
        "outputId": "49249151-8d83-4560-8c06-0e8c14fb927c"
      },
      "execution_count": null,
      "outputs": [
        {
          "output_type": "execute_result",
          "data": {
            "text/plain": [
              "269"
            ]
          },
          "metadata": {},
          "execution_count": 29
        }
      ]
    },
    {
      "cell_type": "code",
      "source": [
        "import matplotlib.pyplot as plt\n",
        "\n",
        "plt.pie(final['Label'].value_counts().values,\n",
        "        labels = final['Label'].value_counts().index,\n",
        "        autopct='%1.1f%%')\n",
        "plt.show()"
      ],
      "metadata": {
        "colab": {
          "base_uri": "https://localhost:8080/",
          "height": 406
        },
        "id": "1W5xLtsyUx3n",
        "outputId": "efc4b1eb-f953-449f-d4af-42e97e356b56"
      },
      "execution_count": null,
      "outputs": [
        {
          "output_type": "display_data",
          "data": {
            "text/plain": [
              "<Figure size 640x480 with 1 Axes>"
            ],
            "image/png": "[encoded data removed]"
          },
          "metadata": {}
        }
      ]
    },
    {
      "cell_type": "markdown",
      "metadata": {
        "id": "08-wc1aLXRDu"
      },
      "source": [
        "Loading the Pre-trained BERT model"
      ]
    },
    {
      "cell_type": "code",
      "execution_count": null,
      "metadata": {
        "colab": {
          "base_uri": "https://localhost:8080/",
          "height": 177,
          "referenced_widgets": [
            "80d2649073f44c3eb5be4ebb3019f243",
            "271cdf2d5b604e0fa8d895d51992c637",
            "039cf63c73b44a16b3c9e6adfdaf094d",
            "8624338b21554f15876d4bcdc736cd3f",
            "9b61f6b533c04b08a3fc5d0959b82697",
            "68ca276b935c423ea93c223080dbe3d8",
            "e4cb0246af854e8091676559610be5f4",
            "f9ec173ee8774f7880ae0479ec6256eb",
            "9a09f047b6164f8b9479236cbc7aa91c",
            "8a7b0a33fb6145e1bfbf83b7cf8b27f3",
            "4d095418a491433f8b53bbbc05f54456",
            "06cc1a1d3bcd487fad7e623c7bd276ac",
            "e6d45d7a5dfb4a68b2e9cb37e0cbb35f",
            "5e9106e717d4419594a0cf6fc33c6ee0",
            "22fe48dd75fe49f0a68d5b10ae3e6912",
            "df4ee49cb1a94f688708bbdfbf05745b",
            "ed66a21ce71b47ceaee08e22770d66eb",
            "26414fb2827049b391b53a9e2f855d5c",
            "fa2a9ae9a897449790f33ddd9ba60cda",
            "9769fc998e224b69a3212121e38c72e2",
            "019138d27c23407980bccfdf0de5b3c0",
            "7cd275af43ec4f56bcf4981bed1fdb3c",
            "0450238e81c84703a3d4412eb84a3917",
            "fcdbeaf38a7a4b9a868a2492fd4aa565",
            "1be464bf51064963853e5bcd13bfb3ad",
            "00c509489e70477285879909827b8102",
            "72767f75b4c84b69be8ddd2fc3b654f8",
            "7297c8092e054fdb8c9a2d4e044e434b",
            "ee98f9c03c714022804edf03bc088e3b",
            "be8fa7813a80411b8fd2be9c7b0136c8",
            "83eb856bbeb447d0988be09daf37332c",
            "01ce1faab1ad497ab2e395e1950ea24b",
            "48c1d12c24d64522ab48c0a95f19dab7",
            "724c0e83e7624a27b365dfff5cac7c2e",
            "a12e7dffa2324425b39374d8eae0be1e",
            "3300bc1ab3b646b2aba5aca61f721c4e",
            "0eb85797f7014f258ada344325c5d9a2",
            "9cab660a664c4eb5ab776d62e9ebbe37",
            "7709efbd2f6a4c0eabf5230b3d52aa55",
            "039ad0eb3b5c4f3997b501efb5d5fb2e",
            "20c8e11d67034b3296df0e097d809831",
            "fe23771f840248e8ba5abaf1690ee7bb",
            "fdbd536d2a5448e89fed86a4dabfbaea",
            "918acb5d01154b708cd37797e7a731b2",
            "0817103780514c2285bb1de226e3d434",
            "64fb71ff40e64a1c951119a6edde8961",
            "faf310fbcc63418eb131f94d4bd5711a",
            "4606fe1118854e9f8ef40f23ade66c48",
            "48acfd99cf214949ba2756d03b0d3510",
            "684b8bc8715243b1ac6e170aeba6cdc7",
            "80ca82c21fb84f319195ecac4c3e4c38",
            "2b1ccae05f5248d68b0d7caa35e6741c",
            "e06d92fe00164b03be9e5cb0618cc995",
            "9832abd5976b41d8bf0e8b6f7e7a79c8",
            "a29f82f6037f4800894f566a2821e964"
          ]
        },
        "id": "FyewK3VBavPp",
        "outputId": "00a42da8-b49e-43f1-bdb6-a476a11eb41e"
      },
      "outputs": [
        {
          "output_type": "display_data",
          "data": {
            "text/plain": [
              "Downloading (…)okenizer_config.json:   0%|          | 0.00/2.00 [00:00<?, ?B/s]"
            ],
            "application/vnd.jupyter.widget-view+json": {
              "version_major": 2,
              "version_minor": 0,
              "model_id": "80d2649073f44c3eb5be4ebb3019f243"
            }
          },
          "metadata": {}
        },
        {
          "output_type": "display_data",
          "data": {
            "text/plain": [
              "Downloading (…)lve/main/config.json:   0%|          | 0.00/459 [00:00<?, ?B/s]"
            ],
            "application/vnd.jupyter.widget-view+json": {
              "version_major": 2,
              "version_minor": 0,
              "model_id": "06cc1a1d3bcd487fad7e623c7bd276ac"
            }
          },
          "metadata": {}
        },
        {
          "output_type": "display_data",
          "data": {
            "text/plain": [
              "Downloading (…)solve/main/vocab.txt:   0%|          | 0.00/530k [00:00<?, ?B/s]"
            ],
            "application/vnd.jupyter.widget-view+json": {
              "version_major": 2,
              "version_minor": 0,
              "model_id": "0450238e81c84703a3d4412eb84a3917"
            }
          },
          "metadata": {}
        },
        {
          "output_type": "display_data",
          "data": {
            "text/plain": [
              "Downloading (…)cial_tokens_map.json:   0%|          | 0.00/112 [00:00<?, ?B/s]"
            ],
            "application/vnd.jupyter.widget-view+json": {
              "version_major": 2,
              "version_minor": 0,
              "model_id": "724c0e83e7624a27b365dfff5cac7c2e"
            }
          },
          "metadata": {}
        },
        {
          "output_type": "display_data",
          "data": {
            "text/plain": [
              "Downloading pytorch_model.bin:   0%|          | 0.00/454M [00:00<?, ?B/s]"
            ],
            "application/vnd.jupyter.widget-view+json": {
              "version_major": 2,
              "version_minor": 0,
              "model_id": "0817103780514c2285bb1de226e3d434"
            }
          },
          "metadata": {}
        }
      ],
      "source": [
        "from transformers import AutoTokenizer, AutoModel\n",
        "\n",
        "tokenizer = AutoTokenizer.from_pretrained(\"nlpaueb/bert-base-greek-uncased-v1\")\n",
        "model = AutoModel.from_pretrained(\"nlpaueb/bert-base-greek-uncased-v1\"  )"
      ]
    },
    {
      "cell_type": "markdown",
      "metadata": {
        "id": "doW4cAyQbDNM"
      },
      "source": [
        "Model #1: Preparing the Dataset"
      ]
    },
    {
      "cell_type": "markdown",
      "metadata": {
        "id": "tw8rTpnWbNwD"
      },
      "source": [
        "## Tokenization\n",
        "Our first step is to tokenize the sentences -- break them up into word and subwords in the format BERT is comfortable with."
      ]
    },
    {
      "cell_type": "markdown",
      "metadata": {
        "id": "YQDz5IAUTZQc"
      },
      "source": [
        "https://www.kaggle.com/code/aishwarya2210/prediction-of-tweets-using-bert-model"
      ]
    },
    {
      "cell_type": "markdown",
      "metadata": {
        "id": "w8NKivrIqvBe"
      },
      "source": [
        "no need to preprocess the text with this tokenizer!"
      ]
    },
    {
      "cell_type": "code",
      "execution_count": null,
      "metadata": {
        "id": "m3c6ml3NbL0r"
      },
      "outputs": [],
      "source": [
        "tokenized = final['Tweet'].apply((lambda x: tokenizer.encode(x, add_special_tokens=True)))"
      ]
    },
    {
      "cell_type": "code",
      "execution_count": null,
      "metadata": {
        "id": "9-JrBBHETNTA",
        "colab": {
          "base_uri": "https://localhost:8080/"
        },
        "outputId": "43db6dca-64d8-49bd-da49-c7e05280791c"
      },
      "outputs": [
        {
          "output_type": "execute_result",
          "data": {
            "text/plain": [
              "0      [101, 239, 9321, 349, 2067, 108, 108, 425, 356...\n",
              "1      [101, 940, 9572, 394, 350, 1856, 351, 362, 426...\n",
              "2      [101, 368, 239, 596, 8422, 3544, 345, 18213, 1...\n",
              "3      [101, 1563, 279, 5418, 269, 8660, 279, 8996, 6...\n",
              "4      [101, 2398, 713, 362, 1711, 360, 3068, 2684, 5...\n",
              "                             ...                        \n",
              "551    [101, 386, 1697, 354, 407, 9744, 380, 29103, 9...\n",
              "552    [101, 366, 377, 374, 1181, 353, 348, 362, 2408...\n",
              "553    [101, 381, 242, 433, 2398, 348, 15922, 2355, 1...\n",
              "554    [101, 631, 239, 110, 1944, 357, 369, 28221, 26...\n",
              "555    [101, 410, 571, 391, 742, 351, 345, 5289, 278,...\n",
              "Name: Tweet, Length: 556, dtype: object"
            ]
          },
          "metadata": {},
          "execution_count": 8
        }
      ],
      "source": [
        "tokenized"
      ]
    },
    {
      "cell_type": "markdown",
      "metadata": {
        "id": "Lv5tkhWEbj51"
      },
      "source": [
        "## Padding\n",
        "After tokenization, tokenized is a list of sentences -- each sentences is represented as a list of tokens. We want BERT to process our examples all at once (as one batch). It's just faster that way. For that reason, we need to pad all lists to the same size, so we can represent the input as one 2-d array, rather than a list of lists (of different lengths)."
      ]
    },
    {
      "cell_type": "code",
      "execution_count": null,
      "metadata": {
        "id": "Mr9Ux8rqbgZE"
      },
      "outputs": [],
      "source": [
        "max_len = 0\n",
        "for i in tokenized.values:\n",
        "    if len(i) > max_len:\n",
        "        max_len = len(i)\n",
        "\n",
        "padded = np.array([i + [0]*(max_len-len(i)) for i in tokenized.values])"
      ]
    },
    {
      "cell_type": "code",
      "execution_count": null,
      "metadata": {
        "colab": {
          "base_uri": "https://localhost:8080/"
        },
        "id": "qJF5U3oabszD",
        "outputId": "5c8acb63-da20-4424-9ce8-b271273278b6"
      },
      "outputs": [
        {
          "output_type": "execute_result",
          "data": {
            "text/plain": [
              "(556, 91)"
            ]
          },
          "metadata": {},
          "execution_count": 10
        }
      ],
      "source": [
        "# Our dataset is now in the padded variable, we can view its dimensions below:\n",
        "\n",
        "np.array(padded).shape"
      ]
    },
    {
      "cell_type": "code",
      "execution_count": null,
      "metadata": {
        "colab": {
          "base_uri": "https://localhost:8080/"
        },
        "id": "17gpzsevTwF9",
        "outputId": "2e5a49cf-974b-49b0-d8ee-c0da01ef746e"
      },
      "outputs": [
        {
          "output_type": "execute_result",
          "data": {
            "text/plain": [
              "array([[ 101,  239, 9321, ...,    0,    0,    0],\n",
              "       [ 101,  940, 9572, ...,    0,    0,    0],\n",
              "       [ 101,  368,  239, ...,    0,    0,    0],\n",
              "       ...,\n",
              "       [ 101,  381,  242, ...,    0,    0,    0],\n",
              "       [ 101,  631,  239, ...,    0,    0,    0],\n",
              "       [ 101,  410,  571, ...,    0,    0,    0]])"
            ]
          },
          "metadata": {},
          "execution_count": 11
        }
      ],
      "source": [
        "padded"
      ]
    },
    {
      "cell_type": "markdown",
      "metadata": {
        "id": "HELs2_BSc1ut"
      },
      "source": [
        "## Masking\n",
        "If we directly send padded to BERT, that would slightly confuse it. We need to create another variable to tell it to ignore (mask) the padding we've added when it's processing its input. That's what attention_mask is:"
      ]
    },
    {
      "cell_type": "code",
      "execution_count": null,
      "metadata": {
        "id": "gKyyO9HkdL6y",
        "colab": {
          "base_uri": "https://localhost:8080/"
        },
        "outputId": "ce76f91a-df28-4bf2-a9cc-d676fe325682"
      },
      "outputs": [
        {
          "output_type": "execute_result",
          "data": {
            "text/plain": [
              "(556, 91)"
            ]
          },
          "metadata": {},
          "execution_count": 12
        }
      ],
      "source": [
        "attention_mask = np.where(padded != 0, 1, 0) #opou den einai 0 vale 1 alliws 0\n",
        "attention_mask.shape"
      ]
    },
    {
      "cell_type": "code",
      "execution_count": null,
      "metadata": {
        "colab": {
          "base_uri": "https://localhost:8080/"
        },
        "id": "cTTVIHU2T1-u",
        "outputId": "b2296fc7-deb5-4fff-9eb9-d67415531cac"
      },
      "outputs": [
        {
          "output_type": "execute_result",
          "data": {
            "text/plain": [
              "array([[1, 1, 1, ..., 0, 0, 0],\n",
              "       [1, 1, 1, ..., 0, 0, 0],\n",
              "       [1, 1, 1, ..., 0, 0, 0],\n",
              "       ...,\n",
              "       [1, 1, 1, ..., 0, 0, 0],\n",
              "       [1, 1, 1, ..., 0, 0, 0],\n",
              "       [1, 1, 1, ..., 0, 0, 0]])"
            ]
          },
          "metadata": {},
          "execution_count": 13
        }
      ],
      "source": [
        "attention_mask"
      ]
    },
    {
      "cell_type": "code",
      "execution_count": null,
      "metadata": {
        "id": "S8N1YW07UD85"
      },
      "outputs": [],
      "source": [
        "# from tensorflow.keras.layers import Input"
      ]
    },
    {
      "cell_type": "code",
      "execution_count": null,
      "metadata": {
        "id": "Cn6gnDDQUG4m"
      },
      "outputs": [],
      "source": [
        "# import tensorflow as tf"
      ]
    },
    {
      "cell_type": "code",
      "execution_count": null,
      "metadata": {
        "id": "1jJJcCC1T5od"
      },
      "outputs": [],
      "source": [
        "# input_ids = Input(shape=(max_len,), dtype=tf.int32, name=\"padded\")\n",
        "# input_mask = Input(shape=(max_len,), dtype=tf.int32, name=\"attention_mask\")\n",
        "# embeddings = model(input_ids, attention_mask = input_mask)[0]\n",
        "\n",
        "\n",
        "# embeddings = bert(input_ids,attention_mask = input_mask)[1] #(0 is the last hidden states,1 means pooler_output)\n",
        "# # out = tf.keras.layers.GlobalMaxPool1D()(embeddings)\n",
        "# out = tf.keras.layers.Dropout(0.1)(embeddings)"
      ]
    },
    {
      "cell_type": "code",
      "execution_count": null,
      "metadata": {
        "colab": {
          "base_uri": "https://localhost:8080/"
        },
        "id": "wt-9QYJNT5SK",
        "outputId": "d2c267a6-b5ee-453a-da31-3f622878c5d3"
      },
      "outputs": [
        {
          "data": {
            "text/plain": [
              "array([1, 1, 1, 1, 1, 1, 1, 1, 1, 1, 1, 1, 1, 1, 1, 1, 1, 1, 1, 1, 1, 1,\n",
              "       1, 1, 1, 1, 1, 1, 1, 1, 1, 1, 1, 1, 1, 1, 1, 1, 1, 1, 1, 1, 1, 1,\n",
              "       0, 0, 0, 0, 0, 0, 0, 0, 0, 0, 0, 0, 0, 0, 0, 0, 0, 0, 0, 0, 0, 0,\n",
              "       0, 0, 0, 0, 0, 0, 0, 0, 0, 0, 0, 0, 0, 0, 0, 0, 0, 0, 0, 0, 0, 0,\n",
              "       0, 0, 0, 0, 0, 0, 0, 0, 0, 0, 0, 0, 0, 0, 0, 0, 0, 0, 0, 0, 0, 0,\n",
              "       0, 0, 0, 0, 0, 0, 0, 0, 0, 0])"
            ]
          },
          "execution_count": 43,
          "metadata": {},
          "output_type": "execute_result"
        }
      ],
      "source": [
        "attention_mask[0]"
      ]
    },
    {
      "cell_type": "code",
      "execution_count": null,
      "metadata": {
        "colab": {
          "base_uri": "https://localhost:8080/"
        },
        "id": "n1ZOg-7JT5Op",
        "outputId": "5672f88a-5497-4eda-d7b5-aeab1b066bf3"
      },
      "outputs": [
        {
          "data": {
            "text/plain": [
              "array([  101,   723,   629,   368,  1106,   433,   351,   600,   374,\n",
              "         239,  3055,   479,   114,   367, 32515,   346,  9269,   267,\n",
              "         344,   349, 29002,   415,  1553,   371, 22326,   265,   108,\n",
              "         361,  3223,   359,  4285,   348, 20290,   278,   364,   422,\n",
              "        1232, 21353,   407, 30145,   411,   148,   100,   102,     0,\n",
              "           0,     0,     0,     0,     0,     0,     0,     0,     0,\n",
              "           0,     0,     0,     0,     0,     0,     0,     0,     0,\n",
              "           0,     0,     0,     0,     0,     0,     0,     0,     0,\n",
              "           0,     0,     0,     0,     0,     0,     0,     0,     0,\n",
              "           0,     0,     0,     0,     0,     0,     0,     0,     0,\n",
              "           0,     0,     0,     0,     0,     0,     0,     0,     0,\n",
              "           0,     0,     0,     0,     0,     0,     0,     0,     0,\n",
              "           0,     0,     0,     0,     0,     0,     0,     0,     0,\n",
              "           0,     0,     0])"
            ]
          },
          "execution_count": 44,
          "metadata": {},
          "output_type": "execute_result"
        }
      ],
      "source": [
        "padded[0]"
      ]
    },
    {
      "cell_type": "markdown",
      "metadata": {
        "id": "LgNnUN4PcvZU"
      },
      "source": [
        "The model() function runs our sentences through BERT. The results of the processing will be returned into last_hidden_states."
      ]
    },
    {
      "cell_type": "code",
      "execution_count": null,
      "metadata": {
        "id": "ySTwcwo-o6GY",
        "colab": {
          "base_uri": "https://localhost:8080/"
        },
        "outputId": "294901d4-ebe8-414e-e95f-f24ac18aec06"
      },
      "outputs": [
        {
          "output_type": "stream",
          "name": "stderr",
          "text": [
            "We strongly recommend passing in an `attention_mask` since your input_ids may be padded. See https://huggingface.co/docs/transformers/troubleshooting#incorrect-output-when-padding-tokens-arent-masked.\n"
          ]
        }
      ],
      "source": [
        "features = np.ndarray([1,768]) #arxikopoihsh alliws??? fix thisssssssssssss!!!!!!!!!!!!!!!!!!!!!!!!!!!!!!!!!!!!!!!\n",
        "#megethos = [ 1, hidden layers] gia na prosthesw apo edw k meta\n",
        "\n",
        "for tweets in padded:\n",
        "  outputs = model(torch.tensor([tweets]))[0]\n",
        "  features = np.vstack([features, outputs[:,0,:].detach().numpy()])\n"
      ]
    },
    {
      "cell_type": "code",
      "execution_count": null,
      "metadata": {
        "id": "3kffQP_PxwKZ"
      },
      "outputs": [],
      "source": [
        "features = features[1:] #ayta einai ta embeddings"
      ]
    },
    {
      "cell_type": "markdown",
      "metadata": {
        "id": "rrNQwMVuI2L5"
      },
      "source": [
        "#Train/Test Split"
      ]
    },
    {
      "cell_type": "code",
      "execution_count": null,
      "metadata": {
        "id": "bPTy2V90xwPi"
      },
      "outputs": [],
      "source": [
        "kfold = StratifiedKFold(n_splits=5, random_state=10, shuffle=True)\n",
        "for i, (train_index, test_index) in enumerate(kfold.split(features, final['class'])):\n",
        "        X_train, X_test, Y_train, Y_test = features[train_index], features[test_index], final['class'][train_index], final['class'][test_index]"
      ]
    },
    {
      "cell_type": "markdown",
      "metadata": {
        "id": "5_un4QiIJxDd"
      },
      "source": [
        "same precedure as a normal embedding"
      ]
    },
    {
      "cell_type": "markdown",
      "metadata": {
        "id": "kIqUospCJfej"
      },
      "source": [
        "## SVM"
      ]
    },
    {
      "cell_type": "code",
      "execution_count": null,
      "metadata": {
        "colab": {
          "base_uri": "https://localhost:8080/"
        },
        "id": "JBrGUtNdxwSU",
        "outputId": "5b1dfdd3-6ba2-4726-dbc1-9aebecdb607a"
      },
      "outputs": [
        {
          "output_type": "stream",
          "name": "stdout",
          "text": [
            "Fitting 3 folds for each of 10 candidates, totalling 30 fits\n",
            "[CV] END .........................C=0.1, gamma=1, kernel=rbf; total time=   0.1s\n",
            "[CV] END .........................C=0.1, gamma=1, kernel=rbf; total time=   0.1s\n",
            "[CV] END .........................C=0.1, gamma=1, kernel=rbf; total time=   0.1s\n",
            "[CV] END ...................C=0.1, gamma=0.01, kernel=linear; total time=   0.0s\n",
            "[CV] END ...................C=0.1, gamma=0.01, kernel=linear; total time=   0.0s\n",
            "[CV] END ...................C=0.1, gamma=0.01, kernel=linear; total time=   0.0s\n",
            "[CV] END .........................C=100, gamma=1, kernel=rbf; total time=   0.1s\n",
            "[CV] END .........................C=100, gamma=1, kernel=rbf; total time=   0.1s\n",
            "[CV] END .........................C=100, gamma=1, kernel=rbf; total time=   0.1s\n",
            "[CV] END .................C=100, gamma=0.0001, kernel=linear; total time=   0.0s\n",
            "[CV] END .................C=100, gamma=0.0001, kernel=linear; total time=   0.0s\n",
            "[CV] END .................C=100, gamma=0.0001, kernel=linear; total time=   0.0s\n",
            "[CV] END ........................C=1, gamma=1, kernel=linear; total time=   0.0s\n",
            "[CV] END ........................C=1, gamma=1, kernel=linear; total time=   0.0s\n",
            "[CV] END ........................C=1, gamma=1, kernel=linear; total time=   0.0s\n",
            "[CV] END ....................C=1000, gamma=0.001, kernel=rbf; total time=   0.0s\n",
            "[CV] END ....................C=1000, gamma=0.001, kernel=rbf; total time=   0.0s\n",
            "[CV] END ....................C=1000, gamma=0.001, kernel=rbf; total time=   0.0s\n",
            "[CV] END ..................C=10, gamma=0.0001, kernel=linear; total time=   0.0s\n",
            "[CV] END ..................C=10, gamma=0.0001, kernel=linear; total time=   0.0s\n",
            "[CV] END ..................C=10, gamma=0.0001, kernel=linear; total time=   0.0s\n",
            "[CV] END ........................C=1000, gamma=1, kernel=rbf; total time=   0.1s\n",
            "[CV] END ........................C=1000, gamma=1, kernel=rbf; total time=   0.1s\n",
            "[CV] END ........................C=1000, gamma=1, kernel=rbf; total time=   0.1s\n",
            "[CV] END ...........................C=1, gamma=1, kernel=rbf; total time=   0.1s\n",
            "[CV] END ...........................C=1, gamma=1, kernel=rbf; total time=   0.1s\n",
            "[CV] END ...........................C=1, gamma=1, kernel=rbf; total time=   0.1s\n",
            "[CV] END ................C=1000, gamma=0.0001, kernel=linear; total time=   0.0s\n",
            "[CV] END ................C=1000, gamma=0.0001, kernel=linear; total time=   0.0s\n",
            "[CV] END ................C=1000, gamma=0.0001, kernel=linear; total time=   0.0s\n",
            "{'kernel': 'rbf', 'gamma': 0.001, 'C': 1000}\n",
            "SVC(C=1000, class_weight='balanced', gamma=0.001)\n",
            "              precision    recall  f1-score   support\n",
            "\n",
            "         0.0       0.93      0.89      0.91        57\n",
            "         1.0       0.89      0.93      0.91        54\n",
            "\n",
            "    accuracy                           0.91       111\n",
            "   macro avg       0.91      0.91      0.91       111\n",
            "weighted avg       0.91      0.91      0.91       111\n",
            "\n"
          ]
        }
      ],
      "source": [
        "\n",
        "\n",
        "\n",
        "# defining parameter range\n",
        "param_grid = {'C': [0.1, 1, 10, 100, 1000],\n",
        "              'gamma': [1, 0.1, 0.01, 0.001, 0.0001, 'scale'],\n",
        "              'kernel': ['rbf', 'linear']}\n",
        "\n",
        "# grid = GridSearchCV(svm.SVC(), param_grid, refit = True, verbose = 3)\n",
        "grid = RandomizedSearchCV(svm.SVC(class_weight='balanced'),  param_grid, cv=3, random_state=42, refit = True, verbose = 2)\n",
        "\n",
        "# fitting the model for grid search\n",
        "grid.fit(X_train, Y_train)\n",
        "# print best parameter after tuning\n",
        "print(grid.best_params_)\n",
        "# print how our model looks after hyper-parameter tuning\n",
        "print(grid.best_estimator_)\n",
        "\n",
        "grid_predictions = grid.predict(X_test)\n",
        "\n",
        "# print classification report\n",
        "print(classification_report(Y_test, grid_predictions))"
      ]
    },
    {
      "cell_type": "markdown",
      "metadata": {
        "id": "FxhOUTD6LVEA"
      },
      "source": [
        "## Random Forest"
      ]
    },
    {
      "cell_type": "code",
      "execution_count": null,
      "metadata": {
        "colab": {
          "base_uri": "https://localhost:8080/"
        },
        "id": "2Uv8jia0xweK",
        "outputId": "72580d45-5827-4ce0-89db-09b16cca1416"
      },
      "outputs": [
        {
          "output_type": "stream",
          "name": "stdout",
          "text": [
            "Fitting 3 folds for each of 10 candidates, totalling 30 fits\n",
            "[CV] END bootstrap=True, criterion=gini, max_depth=100, min_samples_leaf=2, min_samples_split=10, n_estimators=200; total time=   1.0s\n",
            "[CV] END bootstrap=True, criterion=gini, max_depth=100, min_samples_leaf=2, min_samples_split=10, n_estimators=200; total time=   1.6s\n",
            "[CV] END bootstrap=True, criterion=gini, max_depth=100, min_samples_leaf=2, min_samples_split=10, n_estimators=200; total time=   1.5s\n",
            "[CV] END bootstrap=False, criterion=entropy, max_depth=60, min_samples_leaf=4, min_samples_split=10, n_estimators=222; total time=   2.3s\n",
            "[CV] END bootstrap=False, criterion=entropy, max_depth=60, min_samples_leaf=4, min_samples_split=10, n_estimators=222; total time=   1.9s\n",
            "[CV] END bootstrap=False, criterion=entropy, max_depth=60, min_samples_leaf=4, min_samples_split=10, n_estimators=222; total time=   1.8s\n",
            "[CV] END bootstrap=False, criterion=gini, max_depth=110, min_samples_leaf=2, min_samples_split=2, n_estimators=222; total time=   1.6s\n",
            "[CV] END bootstrap=False, criterion=gini, max_depth=110, min_samples_leaf=2, min_samples_split=2, n_estimators=222; total time=   1.5s\n",
            "[CV] END bootstrap=False, criterion=gini, max_depth=110, min_samples_leaf=2, min_samples_split=2, n_estimators=222; total time=   1.5s\n",
            "[CV] END bootstrap=True, criterion=gini, max_depth=60, min_samples_leaf=1, min_samples_split=5, n_estimators=266; total time=   1.7s\n",
            "[CV] END bootstrap=True, criterion=gini, max_depth=60, min_samples_leaf=1, min_samples_split=5, n_estimators=266; total time=   1.9s\n",
            "[CV] END bootstrap=True, criterion=gini, max_depth=60, min_samples_leaf=1, min_samples_split=5, n_estimators=266; total time=   1.7s\n",
            "[CV] END bootstrap=False, criterion=entropy, max_depth=30, min_samples_leaf=1, min_samples_split=10, n_estimators=244; total time=   1.9s\n",
            "[CV] END bootstrap=False, criterion=entropy, max_depth=30, min_samples_leaf=1, min_samples_split=10, n_estimators=244; total time=   2.0s\n",
            "[CV] END bootstrap=False, criterion=entropy, max_depth=30, min_samples_leaf=1, min_samples_split=10, n_estimators=244; total time=   1.9s\n",
            "[CV] END bootstrap=False, criterion=gini, max_depth=None, min_samples_leaf=1, min_samples_split=10, n_estimators=211; total time=   1.4s\n",
            "[CV] END bootstrap=False, criterion=gini, max_depth=None, min_samples_leaf=1, min_samples_split=10, n_estimators=211; total time=   1.6s\n",
            "[CV] END bootstrap=False, criterion=gini, max_depth=None, min_samples_leaf=1, min_samples_split=10, n_estimators=211; total time=   4.1s\n",
            "[CV] END bootstrap=False, criterion=gini, max_depth=90, min_samples_leaf=2, min_samples_split=2, n_estimators=300; total time=   3.6s\n",
            "[CV] END bootstrap=False, criterion=gini, max_depth=90, min_samples_leaf=2, min_samples_split=2, n_estimators=300; total time=   3.2s\n",
            "[CV] END bootstrap=False, criterion=gini, max_depth=90, min_samples_leaf=2, min_samples_split=2, n_estimators=300; total time=   4.3s\n",
            "[CV] END bootstrap=True, criterion=gini, max_depth=20, min_samples_leaf=2, min_samples_split=5, n_estimators=200; total time=   3.8s\n",
            "[CV] END bootstrap=True, criterion=gini, max_depth=20, min_samples_leaf=2, min_samples_split=5, n_estimators=200; total time=   2.6s\n",
            "[CV] END bootstrap=True, criterion=gini, max_depth=20, min_samples_leaf=2, min_samples_split=5, n_estimators=200; total time=   1.2s\n",
            "[CV] END bootstrap=True, criterion=entropy, max_depth=70, min_samples_leaf=4, min_samples_split=2, n_estimators=255; total time=   1.3s\n",
            "[CV] END bootstrap=True, criterion=entropy, max_depth=70, min_samples_leaf=4, min_samples_split=2, n_estimators=255; total time=   1.3s\n",
            "[CV] END bootstrap=True, criterion=entropy, max_depth=70, min_samples_leaf=4, min_samples_split=2, n_estimators=255; total time=   1.3s\n",
            "[CV] END bootstrap=True, criterion=gini, max_depth=90, min_samples_leaf=2, min_samples_split=5, n_estimators=300; total time=   1.4s\n",
            "[CV] END bootstrap=True, criterion=gini, max_depth=90, min_samples_leaf=2, min_samples_split=5, n_estimators=300; total time=   1.4s\n",
            "[CV] END bootstrap=True, criterion=gini, max_depth=90, min_samples_leaf=2, min_samples_split=5, n_estimators=300; total time=   1.5s\n",
            "{'n_estimators': 211, 'min_samples_split': 10, 'min_samples_leaf': 1, 'max_depth': None, 'criterion': 'gini', 'bootstrap': False}\n",
            "RandomForestClassifier(bootstrap=False, class_weight='balanced',\n",
            "                       min_samples_split=10, n_estimators=211, random_state=0)\n",
            "              precision    recall  f1-score   support\n",
            "\n",
            "         0.0       0.83      0.95      0.89        57\n",
            "         1.0       0.93      0.80      0.86        54\n",
            "\n",
            "    accuracy                           0.87       111\n",
            "   macro avg       0.88      0.87      0.87       111\n",
            "weighted avg       0.88      0.87      0.87       111\n",
            "\n"
          ]
        }
      ],
      "source": [
        "# defining parameter range\n",
        "\n",
        "# Number of trees in random forest\n",
        "n_estimators = [int(x) for x in np.linspace(start = 200, stop = 300, num = 10)]\n",
        "# Maximum number of levels in tree\n",
        "max_depth = [int(x) for x in np.linspace(10, 110, num = 11)]\n",
        "max_depth.append(None)\n",
        "# Minimum number of samples required to split a node\n",
        "min_samples_split = [2, 5, 10]\n",
        "# Minimum number of samples required at each leaf node\n",
        "min_samples_leaf = [1, 2, 4]\n",
        "# Method of selecting samples for training each tree\n",
        "bootstrap = [True, False]\n",
        "\n",
        "# Create the random grid\n",
        "random_grid = {'n_estimators': n_estimators,\n",
        "               'criterion': ['gini', 'entropy'],\n",
        "               'max_depth': max_depth,\n",
        "               'min_samples_split': min_samples_split,\n",
        "               'min_samples_leaf': min_samples_leaf,\n",
        "               'bootstrap': bootstrap}\n",
        "\n",
        "\n",
        "from sklearn.ensemble import RandomForestClassifier\n",
        "RandomForest = RandomForestClassifier(random_state =0, class_weight='balanced')\n",
        "\n",
        "grid = RandomizedSearchCV(RandomForest, random_grid, cv=3, random_state=42, refit = True, verbose = 2)\n",
        "# fitting the model for grid search\n",
        "grid.fit(X_train, Y_train)\n",
        "# print best parameter after tuning\n",
        "print(grid.best_params_)\n",
        "# print how our model looks after hyper-parameter tuning\n",
        "print(grid.best_estimator_)\n",
        "\n",
        "grid_predictions = grid.predict(X_test)\n",
        "\n",
        "# print classification report\n",
        "print(classification_report(Y_test, grid_predictions))"
      ]
    },
    {
      "cell_type": "markdown",
      "metadata": {
        "id": "5J0SvcsbLgkT"
      },
      "source": [
        "## SGDClassifier"
      ]
    },
    {
      "cell_type": "code",
      "execution_count": null,
      "metadata": {
        "colab": {
          "base_uri": "https://localhost:8080/"
        },
        "id": "5JpcQ_pcLfnw",
        "outputId": "bb0e5103-34c2-495d-d7ce-568ff1d00697"
      },
      "outputs": [
        {
          "output_type": "stream",
          "name": "stdout",
          "text": [
            "Fitting 3 folds for each of 10 candidates, totalling 30 fits\n",
            "[CV] END alpha=0.001, loss=squared_hinge, penalty=elasticnet; total time=   0.0s\n",
            "[CV] END alpha=0.001, loss=squared_hinge, penalty=elasticnet; total time=   0.0s\n",
            "[CV] END alpha=0.001, loss=squared_hinge, penalty=elasticnet; total time=   0.0s\n",
            "[CV] END ...............alpha=0.0001, loss=hinge, penalty=l2; total time=   0.0s\n",
            "[CV] END ...............alpha=0.0001, loss=hinge, penalty=l2; total time=   0.0s\n",
            "[CV] END ...............alpha=0.0001, loss=hinge, penalty=l2; total time=   0.0s\n",
            "[CV] END ........alpha=0.001, loss=hinge, penalty=elasticnet; total time=   0.1s\n",
            "[CV] END ........alpha=0.001, loss=hinge, penalty=elasticnet; total time=   0.0s\n",
            "[CV] END ........alpha=0.001, loss=hinge, penalty=elasticnet; total time=   0.0s\n",
            "[CV] END ......alpha=0.001, loss=squared_hinge, penalty=none; total time=   0.0s\n",
            "[CV] END ......alpha=0.001, loss=squared_hinge, penalty=none; total time=   0.0s\n",
            "[CV] END ......alpha=0.001, loss=squared_hinge, penalty=none; total time=   0.0s\n",
            "[CV] END ..alpha=0.0001, loss=perceptron, penalty=elasticnet; total time=   0.0s\n",
            "[CV] END ..alpha=0.0001, loss=perceptron, penalty=elasticnet; total time=   0.0s\n",
            "[CV] END ..alpha=0.0001, loss=perceptron, penalty=elasticnet; total time=   0.0s\n",
            "[CV] END ........alpha=0.001, loss=squared_hinge, penalty=l2; total time=   0.0s\n",
            "[CV] END ........alpha=0.001, loss=squared_hinge, penalty=l2; total time=   0.0s\n",
            "[CV] END ........alpha=0.001, loss=squared_hinge, penalty=l2; total time=   0.0s\n",
            "[CV] END alpha=0.0001, loss=squared_hinge, penalty=elasticnet; total time=   0.0s\n",
            "[CV] END alpha=0.0001, loss=squared_hinge, penalty=elasticnet; total time=   0.1s\n",
            "[CV] END alpha=0.0001, loss=squared_hinge, penalty=elasticnet; total time=   0.1s\n",
            "[CV] END ..alpha=0.1, loss=squared_hinge, penalty=elasticnet; total time=   0.0s\n",
            "[CV] END ..alpha=0.1, loss=squared_hinge, penalty=elasticnet; total time=   0.0s\n",
            "[CV] END ..alpha=0.1, loss=squared_hinge, penalty=elasticnet; total time=   0.0s\n",
            "[CV] END .................alpha=0.0001, loss=log, penalty=l2; total time=   0.0s\n",
            "[CV] END .................alpha=0.0001, loss=log, penalty=l2; total time=   0.0s\n",
            "[CV] END .................alpha=0.0001, loss=log, penalty=l2; total time=   0.0s\n",
            "[CV] END ......alpha=0.0001, loss=modified_huber, penalty=l2; total time=   0.0s\n",
            "[CV] END ......alpha=0.0001, loss=modified_huber, penalty=l2; total time=   0.0s\n",
            "[CV] END ......alpha=0.0001, loss=modified_huber, penalty=l2; total time=   0.0s\n",
            "{'penalty': 'l2', 'loss': 'hinge', 'alpha': 0.0001}\n",
            "SGDClassifier(class_weight='balanced')\n",
            "              precision    recall  f1-score   support\n",
            "\n",
            "         0.0       0.89      0.86      0.88        57\n",
            "         1.0       0.86      0.89      0.87        54\n",
            "\n",
            "    accuracy                           0.87       111\n",
            "   macro avg       0.87      0.87      0.87       111\n",
            "weighted avg       0.87      0.87      0.87       111\n",
            "\n"
          ]
        }
      ],
      "source": [
        "from sklearn.linear_model import SGDClassifier\n",
        "\n",
        "SGDC = SGDClassifier(class_weight='balanced')\n",
        "\n",
        "# Create the random grid\n",
        "random_grid = { \"loss\" : [\"hinge\", \"log\", \"squared_hinge\", \"modified_huber\", \"perceptron\"],\n",
        "                \"alpha\" : [0.0001, 0.001, 0.01, 0.1],\n",
        "                \"penalty\" : [\"l2\", \"l1\", \"elasticnet\", \"none\"]}\n",
        "\n",
        "grid = RandomizedSearchCV(SGDC, random_grid, cv=3, random_state=42, refit = True, verbose = 2)\n",
        "\n",
        "\n",
        "# fitting the model for grid search\n",
        "grid.fit(X_train, Y_train)\n",
        "# print best parameter after tuning\n",
        "print(grid.best_params_)\n",
        "# print how our model looks after hyper-parameter tuning\n",
        "print(grid.best_estimator_)\n",
        "\n",
        "grid_predictions = grid.predict(X_test)\n",
        "\n",
        "# print classification report\n",
        "print(classification_report(Y_test, grid_predictions))"
      ]
    },
    {
      "cell_type": "markdown",
      "metadata": {
        "id": "6YFlVLMiLrSK"
      },
      "source": [
        "## XGBoost"
      ]
    },
    {
      "cell_type": "code",
      "execution_count": null,
      "metadata": {
        "colab": {
          "base_uri": "https://localhost:8080/"
        },
        "id": "7GHHPAwKLfjy",
        "outputId": "f0309e97-481b-4a81-9e7a-4810e38c5685"
      },
      "outputs": [
        {
          "output_type": "stream",
          "name": "stdout",
          "text": [
            "Fitting 3 folds for each of 10 candidates, totalling 30 fits\n",
            "[CV] END gamma=0.2, learning_rate=0.2, max_depth=5, min_child_weight=3, n_estimators=500; total time=   2.1s\n",
            "[CV] END gamma=0.2, learning_rate=0.2, max_depth=5, min_child_weight=3, n_estimators=500; total time=   2.3s\n",
            "[CV] END gamma=0.2, learning_rate=0.2, max_depth=5, min_child_weight=3, n_estimators=500; total time=   2.2s\n",
            "[CV] END gamma=0.3, learning_rate=0.15, max_depth=6, min_child_weight=7, n_estimators=1500; total time=   3.6s\n",
            "[CV] END gamma=0.3, learning_rate=0.15, max_depth=6, min_child_weight=7, n_estimators=1500; total time=   4.7s\n",
            "[CV] END gamma=0.3, learning_rate=0.15, max_depth=6, min_child_weight=7, n_estimators=1500; total time=   3.5s\n",
            "[CV] END gamma=0.2, learning_rate=0.05, max_depth=10, min_child_weight=1, n_estimators=100; total time=   7.1s\n",
            "[CV] END gamma=0.2, learning_rate=0.05, max_depth=10, min_child_weight=1, n_estimators=100; total time=   7.9s\n",
            "[CV] END gamma=0.2, learning_rate=0.05, max_depth=10, min_child_weight=1, n_estimators=100; total time=   7.7s\n",
            "[CV] END gamma=0.3, learning_rate=0.05, max_depth=15, min_child_weight=5, n_estimators=1500; total time=   6.4s\n",
            "[CV] END gamma=0.3, learning_rate=0.05, max_depth=15, min_child_weight=5, n_estimators=1500; total time=   7.5s\n",
            "[CV] END gamma=0.3, learning_rate=0.05, max_depth=15, min_child_weight=5, n_estimators=1500; total time=   6.8s\n",
            "[CV] END gamma=0.2, learning_rate=0.2, max_depth=5, min_child_weight=5, n_estimators=100; total time=   1.1s\n",
            "[CV] END gamma=0.2, learning_rate=0.2, max_depth=5, min_child_weight=5, n_estimators=100; total time=   1.2s\n",
            "[CV] END gamma=0.2, learning_rate=0.2, max_depth=5, min_child_weight=5, n_estimators=100; total time=   1.2s\n",
            "[CV] END gamma=0.2, learning_rate=0.15, max_depth=15, min_child_weight=7, n_estimators=100; total time=   1.1s\n",
            "[CV] END gamma=0.2, learning_rate=0.15, max_depth=15, min_child_weight=7, n_estimators=100; total time=   1.8s\n",
            "[CV] END gamma=0.2, learning_rate=0.15, max_depth=15, min_child_weight=7, n_estimators=100; total time=   1.7s\n",
            "[CV] END gamma=0.4, learning_rate=0.1, max_depth=5, min_child_weight=1, n_estimators=1500; total time=   9.9s\n",
            "[CV] END gamma=0.4, learning_rate=0.1, max_depth=5, min_child_weight=1, n_estimators=1500; total time=  12.5s\n",
            "[CV] END gamma=0.4, learning_rate=0.1, max_depth=5, min_child_weight=1, n_estimators=1500; total time=  11.7s\n",
            "[CV] END gamma=0.2, learning_rate=0.15, max_depth=6, min_child_weight=1, n_estimators=1500; total time=   9.8s\n",
            "[CV] END gamma=0.2, learning_rate=0.15, max_depth=6, min_child_weight=1, n_estimators=1500; total time=   8.7s\n",
            "[CV] END gamma=0.2, learning_rate=0.15, max_depth=6, min_child_weight=1, n_estimators=1500; total time=  10.0s\n",
            "[CV] END gamma=0.4, learning_rate=0.05, max_depth=5, min_child_weight=7, n_estimators=1100; total time=   4.6s\n",
            "[CV] END gamma=0.4, learning_rate=0.05, max_depth=5, min_child_weight=7, n_estimators=1100; total time=   6.3s\n",
            "[CV] END gamma=0.4, learning_rate=0.05, max_depth=5, min_child_weight=7, n_estimators=1100; total time=   5.6s\n",
            "[CV] END gamma=0.0, learning_rate=0.1, max_depth=5, min_child_weight=1, n_estimators=500; total time=   7.5s\n",
            "[CV] END gamma=0.0, learning_rate=0.1, max_depth=5, min_child_weight=1, n_estimators=500; total time=   6.2s\n",
            "[CV] END gamma=0.0, learning_rate=0.1, max_depth=5, min_child_weight=1, n_estimators=500; total time=   6.7s\n",
            "{'n_estimators': 100, 'min_child_weight': 7, 'max_depth': 15, 'learning_rate': 0.15, 'gamma': 0.2}\n",
            "XGBClassifier(base_score=None, booster=None, callbacks=None,\n",
            "              colsample_bylevel=None, colsample_bynode=None,\n",
            "              colsample_bytree=None, device=None, early_stopping_rounds=None,\n",
            "              enable_categorical=False, eval_metric=None, feature_types=None,\n",
            "              gamma=0.2, grow_policy=None, importance_type=None,\n",
            "              interaction_constraints=None, learning_rate=0.15, max_bin=None,\n",
            "              max_cat_threshold=None, max_cat_to_onehot=None,\n",
            "              max_delta_step=None, max_depth=15, max_leaves=None,\n",
            "              min_child_weight=7, missing=nan, monotone_constraints=None,\n",
            "              multi_strategy=None, n_estimators=100, n_jobs=None,\n",
            "              num_parallel_tree=None, random_state=None, ...)\n",
            "              precision    recall  f1-score   support\n",
            "\n",
            "         0.0       0.83      0.91      0.87        57\n",
            "         1.0       0.90      0.80      0.84        54\n",
            "\n",
            "    accuracy                           0.86       111\n",
            "   macro avg       0.86      0.85      0.85       111\n",
            "weighted avg       0.86      0.86      0.86       111\n",
            "\n"
          ]
        }
      ],
      "source": [
        "from xgboost import XGBClassifier\n",
        "from sklearn.metrics import f1_score\n",
        "from sklearn.utils.class_weight import compute_sample_weight\n",
        "\n",
        "sample_weights = compute_sample_weight(\n",
        "    class_weight='balanced',\n",
        "    y=Y_train\n",
        ")\n",
        "\n",
        "xgb = XGBClassifier()\n",
        "\n",
        "# Create the random grid\n",
        "random_grid = { \"learning_rate\" : [0.05,0.1,0.15,0.20],\n",
        "                 \"n_estimators\" : [100, 500, 900, 1100, 1500],\n",
        "                 \"max_depth\" : [ 3, 5, 6, 10, 15],\n",
        "                 \"min_child_weight\" : [ 1, 3, 5, 7 ],\n",
        "                 \"gamma\" : [ 0.0, 0.1, 0.2 , 0.3, 0.4 ]}\n",
        "\n",
        "grid = RandomizedSearchCV(xgb, random_grid, cv=3, random_state=42, refit = True, verbose = 2)\n",
        "\n",
        "# fitting the model for grid search\n",
        "grid.fit(X_train, Y_train, sample_weight=sample_weights)\n",
        "# print best parameter after tuning\n",
        "print(grid.best_params_)\n",
        "# print how our model looks after hyper-parameter tuning\n",
        "print(grid.best_estimator_)\n",
        "\n",
        "grid_predictions = grid.predict(X_test)\n",
        "\n",
        "# print classification report\n",
        "print(classification_report(Y_test, grid_predictions))"
      ]
    },
    {
      "cell_type": "code",
      "execution_count": null,
      "metadata": {
        "id": "MM-c-yWFLfWr"
      },
      "outputs": [],
      "source": []
    },
    {
      "cell_type": "code",
      "execution_count": null,
      "metadata": {
        "id": "veT8NnZUxwj1"
      },
      "outputs": [],
      "source": []
    },
    {
      "cell_type": "markdown",
      "metadata": {
        "id": "sKvr_zbWqn0Y"
      },
      "source": [
        "https://huggingface.co/docs/transformers/model_doc/roberta"
      ]
    },
    {
      "cell_type": "code",
      "execution_count": null,
      "metadata": {
        "id": "O8qnEDROo6Jl"
      },
      "outputs": [],
      "source": [
        "# from transformers import RobertaConfig, RobertaModel, TFRobertaModel"
      ]
    },
    {
      "cell_type": "code",
      "execution_count": null,
      "metadata": {
        "id": "UGh1p8n-o64K"
      },
      "outputs": [],
      "source": [
        "# config = RobertaConfig.from_pretrained(model)\n",
        "\n",
        "# config.output_hidden_states = False\n",
        "\n",
        "# model = TFRobertaModel.from_pretrained(model, from_pt=True, config = config)\n",
        "\n",
        "# embedding_layer = model.roberta(input_ids,attention_mask=attention_mask,token_type_ids=segs)[0]\n",
        "\n",
        "# Features = embedding_layer[:,0,:].numpy()"
      ]
    },
    {
      "cell_type": "code",
      "execution_count": null,
      "metadata": {
        "id": "ytOhGGiMQbIs"
      },
      "outputs": [],
      "source": [
        "# config = RobertaConfig.from_pretrained(\"nlpaueb/bert-base-greek-uncased-v1\")\n",
        "\n",
        "# config.output_hidden_states = False"
      ]
    },
    {
      "cell_type": "code",
      "execution_count": null,
      "metadata": {
        "id": "evT2tgEgQh7n"
      },
      "outputs": [],
      "source": [
        "# model = TFRobertaModel.from_pretrained(\"nlpaueb/bert-base-greek-uncased-v1\", from_pt=True, config = config)\n",
        "\n",
        "# embedding_layer = model.roberta(padded,attention_mask=list(attention_mask) )[0]\n",
        "\n",
        "# Features = embedding_layer[:,0,:].numpy()"
      ]
    },
    {
      "cell_type": "code",
      "execution_count": null,
      "metadata": {
        "id": "hboRv3uuRSyb"
      },
      "outputs": [],
      "source": []
    }
  ],
  "metadata": {
    "colab": {
      "provenance": [],
      "toc_visible": true,
      "authorship_tag": "ABX9TyPYB5B2pl8DykKOT5OIVlpS"
    },
    "kernelspec": {
      "display_name": "Python 3",
      "name": "python3"
    },
    "language_info": {
      "name": "python"
    },
    "widgets": {
      "application/vnd.jupyter.widget-state+json": {
        "80d2649073f44c3eb5be4ebb3019f243": {
          "model_module": "@jupyter-widgets/controls",
          "model_name": "HBoxModel",
          "model_module_version": "1.5.0",
          "state": {
            "_dom_classes": [],
            "_model_module": "@jupyter-widgets/controls",
            "_model_module_version": "1.5.0",
            "_model_name": "HBoxModel",
            "_view_count": null,
            "_view_module": "@jupyter-widgets/controls",
            "_view_module_version": "1.5.0",
            "_view_name": "HBoxView",
            "box_style": "",
            "children": [
              "IPY_MODEL_271cdf2d5b604e0fa8d895d51992c637",
              "IPY_MODEL_039cf63c73b44a16b3c9e6adfdaf094d",
              "IPY_MODEL_8624338b21554f15876d4bcdc736cd3f"
            ],
            "layout": "IPY_MODEL_9b61f6b533c04b08a3fc5d0959b82697"
          }
        },
        "271cdf2d5b604e0fa8d895d51992c637": {
          "model_module": "@jupyter-widgets/controls",
          "model_name": "HTMLModel",
          "model_module_version": "1.5.0",
          "state": {
            "_dom_classes": [],
            "_model_module": "@jupyter-widgets/controls",
            "_model_module_version": "1.5.0",
            "_model_name": "HTMLModel",
            "_view_count": null,
            "_view_module": "@jupyter-widgets/controls",
            "_view_module_version": "1.5.0",
            "_view_name": "HTMLView",
            "description": "",
            "description_tooltip": null,
            "layout": "IPY_MODEL_68ca276b935c423ea93c223080dbe3d8",
            "placeholder": "​",
            "style": "IPY_MODEL_e4cb0246af854e8091676559610be5f4",
            "value": "Downloading (…)okenizer_config.json: 100%"
          }
        },
        "039cf63c73b44a16b3c9e6adfdaf094d": {
          "model_module": "@jupyter-widgets/controls",
          "model_name": "FloatProgressModel",
          "model_module_version": "1.5.0",
          "state": {
            "_dom_classes": [],
            "_model_module": "@jupyter-widgets/controls",
            "_model_module_version": "1.5.0",
            "_model_name": "FloatProgressModel",
            "_view_count": null,
            "_view_module": "@jupyter-widgets/controls",
            "_view_module_version": "1.5.0",
            "_view_name": "ProgressView",
            "bar_style": "success",
            "description": "",
            "description_tooltip": null,
            "layout": "IPY_MODEL_f9ec173ee8774f7880ae0479ec6256eb",
            "max": 2,
            "min": 0,
            "orientation": "horizontal",
            "style": "IPY_MODEL_9a09f047b6164f8b9479236cbc7aa91c",
            "value": 2
          }
        },
        "8624338b21554f15876d4bcdc736cd3f": {
          "model_module": "@jupyter-widgets/controls",
          "model_name": "HTMLModel",
          "model_module_version": "1.5.0",
          "state": {
            "_dom_classes": [],
            "_model_module": "@jupyter-widgets/controls",
            "_model_module_version": "1.5.0",
            "_model_name": "HTMLModel",
            "_view_count": null,
            "_view_module": "@jupyter-widgets/controls",
            "_view_module_version": "1.5.0",
            "_view_name": "HTMLView",
            "description": "",
            "description_tooltip": null,
            "layout": "IPY_MODEL_8a7b0a33fb6145e1bfbf83b7cf8b27f3",
            "placeholder": "​",
            "style": "IPY_MODEL_4d095418a491433f8b53bbbc05f54456",
            "value": " 2.00/2.00 [00:00&lt;00:00, 63.2B/s]"
          }
        },
        "9b61f6b533c04b08a3fc5d0959b82697": {
          "model_module": "@jupyter-widgets/base",
          "model_name": "LayoutModel",
          "model_module_version": "1.2.0",
          "state": {
            "_model_module": "@jupyter-widgets/base",
            "_model_module_version": "1.2.0",
            "_model_name": "LayoutModel",
            "_view_count": null,
            "_view_module": "@jupyter-widgets/base",
            "_view_module_version": "1.2.0",
            "_view_name": "LayoutView",
            "align_content": null,
            "align_items": null,
            "align_self": null,
            "border": null,
            "bottom": null,
            "display": null,
            "flex": null,
            "flex_flow": null,
            "grid_area": null,
            "grid_auto_columns": null,
            "grid_auto_flow": null,
            "grid_auto_rows": null,
            "grid_column": null,
            "grid_gap": null,
            "grid_row": null,
            "grid_template_areas": null,
            "grid_template_columns": null,
            "grid_template_rows": null,
            "height": null,
            "justify_content": null,
            "justify_items": null,
            "left": null,
            "margin": null,
            "max_height": null,
            "max_width": null,
            "min_height": null,
            "min_width": null,
            "object_fit": null,
            "object_position": null,
            "order": null,
            "overflow": null,
            "overflow_x": null,
            "overflow_y": null,
            "padding": null,
            "right": null,
            "top": null,
            "visibility": null,
            "width": null
          }
        },
        "68ca276b935c423ea93c223080dbe3d8": {
          "model_module": "@jupyter-widgets/base",
          "model_name": "LayoutModel",
          "model_module_version": "1.2.0",
          "state": {
            "_model_module": "@jupyter-widgets/base",
            "_model_module_version": "1.2.0",
            "_model_name": "LayoutModel",
            "_view_count": null,
            "_view_module": "@jupyter-widgets/base",
            "_view_module_version": "1.2.0",
            "_view_name": "LayoutView",
            "align_content": null,
            "align_items": null,
            "align_self": null,
            "border": null,
            "bottom": null,
            "display": null,
            "flex": null,
            "flex_flow": null,
            "grid_area": null,
            "grid_auto_columns": null,
            "grid_auto_flow": null,
            "grid_auto_rows": null,
            "grid_column": null,
            "grid_gap": null,
            "grid_row": null,
            "grid_template_areas": null,
            "grid_template_columns": null,
            "grid_template_rows": null,
            "height": null,
            "justify_content": null,
            "justify_items": null,
            "left": null,
            "margin": null,
            "max_height": null,
            "max_width": null,
            "min_height": null,
            "min_width": null,
            "object_fit": null,
            "object_position": null,
            "order": null,
            "overflow": null,
            "overflow_x": null,
            "overflow_y": null,
            "padding": null,
            "right": null,
            "top": null,
            "visibility": null,
            "width": null
          }
        },
        "e4cb0246af854e8091676559610be5f4": {
          "model_module": "@jupyter-widgets/controls",
          "model_name": "DescriptionStyleModel",
          "model_module_version": "1.5.0",
          "state": {
            "_model_module": "@jupyter-widgets/controls",
            "_model_module_version": "1.5.0",
            "_model_name": "DescriptionStyleModel",
            "_view_count": null,
            "_view_module": "@jupyter-widgets/base",
            "_view_module_version": "1.2.0",
            "_view_name": "StyleView",
            "description_width": ""
          }
        },
        "f9ec173ee8774f7880ae0479ec6256eb": {
          "model_module": "@jupyter-widgets/base",
          "model_name": "LayoutModel",
          "model_module_version": "1.2.0",
          "state": {
            "_model_module": "@jupyter-widgets/base",
            "_model_module_version": "1.2.0",
            "_model_name": "LayoutModel",
            "_view_count": null,
            "_view_module": "@jupyter-widgets/base",
            "_view_module_version": "1.2.0",
            "_view_name": "LayoutView",
            "align_content": null,
            "align_items": null,
            "align_self": null,
            "border": null,
            "bottom": null,
            "display": null,
            "flex": null,
            "flex_flow": null,
            "grid_area": null,
            "grid_auto_columns": null,
            "grid_auto_flow": null,
            "grid_auto_rows": null,
            "grid_column": null,
            "grid_gap": null,
            "grid_row": null,
            "grid_template_areas": null,
            "grid_template_columns": null,
            "grid_template_rows": null,
            "height": null,
            "justify_content": null,
            "justify_items": null,
            "left": null,
            "margin": null,
            "max_height": null,
            "max_width": null,
            "min_height": null,
            "min_width": null,
            "object_fit": null,
            "object_position": null,
            "order": null,
            "overflow": null,
            "overflow_x": null,
            "overflow_y": null,
            "padding": null,
            "right": null,
            "top": null,
            "visibility": null,
            "width": null
          }
        },
        "9a09f047b6164f8b9479236cbc7aa91c": {
          "model_module": "@jupyter-widgets/controls",
          "model_name": "ProgressStyleModel",
          "model_module_version": "1.5.0",
          "state": {
            "_model_module": "@jupyter-widgets/controls",
            "_model_module_version": "1.5.0",
            "_model_name": "ProgressStyleModel",
            "_view_count": null,
            "_view_module": "@jupyter-widgets/base",
            "_view_module_version": "1.2.0",
            "_view_name": "StyleView",
            "bar_color": null,
            "description_width": ""
          }
        },
        "8a7b0a33fb6145e1bfbf83b7cf8b27f3": {
          "model_module": "@jupyter-widgets/base",
          "model_name": "LayoutModel",
          "model_module_version": "1.2.0",
          "state": {
            "_model_module": "@jupyter-widgets/base",
            "_model_module_version": "1.2.0",
            "_model_name": "LayoutModel",
            "_view_count": null,
            "_view_module": "@jupyter-widgets/base",
            "_view_module_version": "1.2.0",
            "_view_name": "LayoutView",
            "align_content": null,
            "align_items": null,
            "align_self": null,
            "border": null,
            "bottom": null,
            "display": null,
            "flex": null,
            "flex_flow": null,
            "grid_area": null,
            "grid_auto_columns": null,
            "grid_auto_flow": null,
            "grid_auto_rows": null,
            "grid_column": null,
            "grid_gap": null,
            "grid_row": null,
            "grid_template_areas": null,
            "grid_template_columns": null,
            "grid_template_rows": null,
            "height": null,
            "justify_content": null,
            "justify_items": null,
            "left": null,
            "margin": null,
            "max_height": null,
            "max_width": null,
            "min_height": null,
            "min_width": null,
            "object_fit": null,
            "object_position": null,
            "order": null,
            "overflow": null,
            "overflow_x": null,
            "overflow_y": null,
            "padding": null,
            "right": null,
            "top": null,
            "visibility": null,
            "width": null
          }
        },
        "4d095418a491433f8b53bbbc05f54456": {
          "model_module": "@jupyter-widgets/controls",
          "model_name": "DescriptionStyleModel",
          "model_module_version": "1.5.0",
          "state": {
            "_model_module": "@jupyter-widgets/controls",
            "_model_module_version": "1.5.0",
            "_model_name": "DescriptionStyleModel",
            "_view_count": null,
            "_view_module": "@jupyter-widgets/base",
            "_view_module_version": "1.2.0",
            "_view_name": "StyleView",
            "description_width": ""
          }
        },
        "06cc1a1d3bcd487fad7e623c7bd276ac": {
          "model_module": "@jupyter-widgets/controls",
          "model_name": "HBoxModel",
          "model_module_version": "1.5.0",
          "state": {
            "_dom_classes": [],
            "_model_module": "@jupyter-widgets/controls",
            "_model_module_version": "1.5.0",
            "_model_name": "HBoxModel",
            "_view_count": null,
            "_view_module": "@jupyter-widgets/controls",
            "_view_module_version": "1.5.0",
            "_view_name": "HBoxView",
            "box_style": "",
            "children": [
              "IPY_MODEL_e6d45d7a5dfb4a68b2e9cb37e0cbb35f",
              "IPY_MODEL_5e9106e717d4419594a0cf6fc33c6ee0",
              "IPY_MODEL_22fe48dd75fe49f0a68d5b10ae3e6912"
            ],
            "layout": "IPY_MODEL_df4ee49cb1a94f688708bbdfbf05745b"
          }
        },
        "e6d45d7a5dfb4a68b2e9cb37e0cbb35f": {
          "model_module": "@jupyter-widgets/controls",
          "model_name": "HTMLModel",
          "model_module_version": "1.5.0",
          "state": {
            "_dom_classes": [],
            "_model_module": "@jupyter-widgets/controls",
            "_model_module_version": "1.5.0",
            "_model_name": "HTMLModel",
            "_view_count": null,
            "_view_module": "@jupyter-widgets/controls",
            "_view_module_version": "1.5.0",
            "_view_name": "HTMLView",
            "description": "",
            "description_tooltip": null,
            "layout": "IPY_MODEL_ed66a21ce71b47ceaee08e22770d66eb",
            "placeholder": "​",
            "style": "IPY_MODEL_26414fb2827049b391b53a9e2f855d5c",
            "value": "Downloading (…)lve/main/config.json: 100%"
          }
        },
        "5e9106e717d4419594a0cf6fc33c6ee0": {
          "model_module": "@jupyter-widgets/controls",
          "model_name": "FloatProgressModel",
          "model_module_version": "1.5.0",
          "state": {
            "_dom_classes": [],
            "_model_module": "@jupyter-widgets/controls",
            "_model_module_version": "1.5.0",
            "_model_name": "FloatProgressModel",
            "_view_count": null,
            "_view_module": "@jupyter-widgets/controls",
            "_view_module_version": "1.5.0",
            "_view_name": "ProgressView",
            "bar_style": "success",
            "description": "",
            "description_tooltip": null,
            "layout": "IPY_MODEL_fa2a9ae9a897449790f33ddd9ba60cda",
            "max": 459,
            "min": 0,
            "orientation": "horizontal",
            "style": "IPY_MODEL_9769fc998e224b69a3212121e38c72e2",
            "value": 459
          }
        },
        "22fe48dd75fe49f0a68d5b10ae3e6912": {
          "model_module": "@jupyter-widgets/controls",
          "model_name": "HTMLModel",
          "model_module_version": "1.5.0",
          "state": {
            "_dom_classes": [],
            "_model_module": "@jupyter-widgets/controls",
            "_model_module_version": "1.5.0",
            "_model_name": "HTMLModel",
            "_view_count": null,
            "_view_module": "@jupyter-widgets/controls",
            "_view_module_version": "1.5.0",
            "_view_name": "HTMLView",
            "description": "",
            "description_tooltip": null,
            "layout": "IPY_MODEL_019138d27c23407980bccfdf0de5b3c0",
            "placeholder": "​",
            "style": "IPY_MODEL_7cd275af43ec4f56bcf4981bed1fdb3c",
            "value": " 459/459 [00:00&lt;00:00, 19.9kB/s]"
          }
        },
        "df4ee49cb1a94f688708bbdfbf05745b": {
          "model_module": "@jupyter-widgets/base",
          "model_name": "LayoutModel",
          "model_module_version": "1.2.0",
          "state": {
            "_model_module": "@jupyter-widgets/base",
            "_model_module_version": "1.2.0",
            "_model_name": "LayoutModel",
            "_view_count": null,
            "_view_module": "@jupyter-widgets/base",
            "_view_module_version": "1.2.0",
            "_view_name": "LayoutView",
            "align_content": null,
            "align_items": null,
            "align_self": null,
            "border": null,
            "bottom": null,
            "display": null,
            "flex": null,
            "flex_flow": null,
            "grid_area": null,
            "grid_auto_columns": null,
            "grid_auto_flow": null,
            "grid_auto_rows": null,
            "grid_column": null,
            "grid_gap": null,
            "grid_row": null,
            "grid_template_areas": null,
            "grid_template_columns": null,
            "grid_template_rows": null,
            "height": null,
            "justify_content": null,
            "justify_items": null,
            "left": null,
            "margin": null,
            "max_height": null,
            "max_width": null,
            "min_height": null,
            "min_width": null,
            "object_fit": null,
            "object_position": null,
            "order": null,
            "overflow": null,
            "overflow_x": null,
            "overflow_y": null,
            "padding": null,
            "right": null,
            "top": null,
            "visibility": null,
            "width": null
          }
        },
        "ed66a21ce71b47ceaee08e22770d66eb": {
          "model_module": "@jupyter-widgets/base",
          "model_name": "LayoutModel",
          "model_module_version": "1.2.0",
          "state": {
            "_model_module": "@jupyter-widgets/base",
            "_model_module_version": "1.2.0",
            "_model_name": "LayoutModel",
            "_view_count": null,
            "_view_module": "@jupyter-widgets/base",
            "_view_module_version": "1.2.0",
            "_view_name": "LayoutView",
            "align_content": null,
            "align_items": null,
            "align_self": null,
            "border": null,
            "bottom": null,
            "display": null,
            "flex": null,
            "flex_flow": null,
            "grid_area": null,
            "grid_auto_columns": null,
            "grid_auto_flow": null,
            "grid_auto_rows": null,
            "grid_column": null,
            "grid_gap": null,
            "grid_row": null,
            "grid_template_areas": null,
            "grid_template_columns": null,
            "grid_template_rows": null,
            "height": null,
            "justify_content": null,
            "justify_items": null,
            "left": null,
            "margin": null,
            "max_height": null,
            "max_width": null,
            "min_height": null,
            "min_width": null,
            "object_fit": null,
            "object_position": null,
            "order": null,
            "overflow": null,
            "overflow_x": null,
            "overflow_y": null,
            "padding": null,
            "right": null,
            "top": null,
            "visibility": null,
            "width": null
          }
        },
        "26414fb2827049b391b53a9e2f855d5c": {
          "model_module": "@jupyter-widgets/controls",
          "model_name": "DescriptionStyleModel",
          "model_module_version": "1.5.0",
          "state": {
            "_model_module": "@jupyter-widgets/controls",
            "_model_module_version": "1.5.0",
            "_model_name": "DescriptionStyleModel",
            "_view_count": null,
            "_view_module": "@jupyter-widgets/base",
            "_view_module_version": "1.2.0",
            "_view_name": "StyleView",
            "description_width": ""
          }
        },
        "fa2a9ae9a897449790f33ddd9ba60cda": {
          "model_module": "@jupyter-widgets/base",
          "model_name": "LayoutModel",
          "model_module_version": "1.2.0",
          "state": {
            "_model_module": "@jupyter-widgets/base",
            "_model_module_version": "1.2.0",
            "_model_name": "LayoutModel",
            "_view_count": null,
            "_view_module": "@jupyter-widgets/base",
            "_view_module_version": "1.2.0",
            "_view_name": "LayoutView",
            "align_content": null,
            "align_items": null,
            "align_self": null,
            "border": null,
            "bottom": null,
            "display": null,
            "flex": null,
            "flex_flow": null,
            "grid_area": null,
            "grid_auto_columns": null,
            "grid_auto_flow": null,
            "grid_auto_rows": null,
            "grid_column": null,
            "grid_gap": null,
            "grid_row": null,
            "grid_template_areas": null,
            "grid_template_columns": null,
            "grid_template_rows": null,
            "height": null,
            "justify_content": null,
            "justify_items": null,
            "left": null,
            "margin": null,
            "max_height": null,
            "max_width": null,
            "min_height": null,
            "min_width": null,
            "object_fit": null,
            "object_position": null,
            "order": null,
            "overflow": null,
            "overflow_x": null,
            "overflow_y": null,
            "padding": null,
            "right": null,
            "top": null,
            "visibility": null,
            "width": null
          }
        },
        "9769fc998e224b69a3212121e38c72e2": {
          "model_module": "@jupyter-widgets/controls",
          "model_name": "ProgressStyleModel",
          "model_module_version": "1.5.0",
          "state": {
            "_model_module": "@jupyter-widgets/controls",
            "_model_module_version": "1.5.0",
            "_model_name": "ProgressStyleModel",
            "_view_count": null,
            "_view_module": "@jupyter-widgets/base",
            "_view_module_version": "1.2.0",
            "_view_name": "StyleView",
            "bar_color": null,
            "description_width": ""
          }
        },
        "019138d27c23407980bccfdf0de5b3c0": {
          "model_module": "@jupyter-widgets/base",
          "model_name": "LayoutModel",
          "model_module_version": "1.2.0",
          "state": {
            "_model_module": "@jupyter-widgets/base",
            "_model_module_version": "1.2.0",
            "_model_name": "LayoutModel",
            "_view_count": null,
            "_view_module": "@jupyter-widgets/base",
            "_view_module_version": "1.2.0",
            "_view_name": "LayoutView",
            "align_content": null,
            "align_items": null,
            "align_self": null,
            "border": null,
            "bottom": null,
            "display": null,
            "flex": null,
            "flex_flow": null,
            "grid_area": null,
            "grid_auto_columns": null,
            "grid_auto_flow": null,
            "grid_auto_rows": null,
            "grid_column": null,
            "grid_gap": null,
            "grid_row": null,
            "grid_template_areas": null,
            "grid_template_columns": null,
            "grid_template_rows": null,
            "height": null,
            "justify_content": null,
            "justify_items": null,
            "left": null,
            "margin": null,
            "max_height": null,
            "max_width": null,
            "min_height": null,
            "min_width": null,
            "object_fit": null,
            "object_position": null,
            "order": null,
            "overflow": null,
            "overflow_x": null,
            "overflow_y": null,
            "padding": null,
            "right": null,
            "top": null,
            "visibility": null,
            "width": null
          }
        },
        "7cd275af43ec4f56bcf4981bed1fdb3c": {
          "model_module": "@jupyter-widgets/controls",
          "model_name": "DescriptionStyleModel",
          "model_module_version": "1.5.0",
          "state": {
            "_model_module": "@jupyter-widgets/controls",
            "_model_module_version": "1.5.0",
            "_model_name": "DescriptionStyleModel",
            "_view_count": null,
            "_view_module": "@jupyter-widgets/base",
            "_view_module_version": "1.2.0",
            "_view_name": "StyleView",
            "description_width": ""
          }
        },
        "0450238e81c84703a3d4412eb84a3917": {
          "model_module": "@jupyter-widgets/controls",
          "model_name": "HBoxModel",
          "model_module_version": "1.5.0",
          "state": {
            "_dom_classes": [],
            "_model_module": "@jupyter-widgets/controls",
            "_model_module_version": "1.5.0",
            "_model_name": "HBoxModel",
            "_view_count": null,
            "_view_module": "@jupyter-widgets/controls",
            "_view_module_version": "1.5.0",
            "_view_name": "HBoxView",
            "box_style": "",
            "children": [
              "IPY_MODEL_fcdbeaf38a7a4b9a868a2492fd4aa565",
              "IPY_MODEL_1be464bf51064963853e5bcd13bfb3ad",
              "IPY_MODEL_00c509489e70477285879909827b8102"
            ],
            "layout": "IPY_MODEL_72767f75b4c84b69be8ddd2fc3b654f8"
          }
        },
        "fcdbeaf38a7a4b9a868a2492fd4aa565": {
          "model_module": "@jupyter-widgets/controls",
          "model_name": "HTMLModel",
          "model_module_version": "1.5.0",
          "state": {
            "_dom_classes": [],
            "_model_module": "@jupyter-widgets/controls",
            "_model_module_version": "1.5.0",
            "_model_name": "HTMLModel",
            "_view_count": null,
            "_view_module": "@jupyter-widgets/controls",
            "_view_module_version": "1.5.0",
            "_view_name": "HTMLView",
            "description": "",
            "description_tooltip": null,
            "layout": "IPY_MODEL_7297c8092e054fdb8c9a2d4e044e434b",
            "placeholder": "​",
            "style": "IPY_MODEL_ee98f9c03c714022804edf03bc088e3b",
            "value": "Downloading (…)solve/main/vocab.txt: 100%"
          }
        },
        "1be464bf51064963853e5bcd13bfb3ad": {
          "model_module": "@jupyter-widgets/controls",
          "model_name": "FloatProgressModel",
          "model_module_version": "1.5.0",
          "state": {
            "_dom_classes": [],
            "_model_module": "@jupyter-widgets/controls",
            "_model_module_version": "1.5.0",
            "_model_name": "FloatProgressModel",
            "_view_count": null,
            "_view_module": "@jupyter-widgets/controls",
            "_view_module_version": "1.5.0",
            "_view_name": "ProgressView",
            "bar_style": "success",
            "description": "",
            "description_tooltip": null,
            "layout": "IPY_MODEL_be8fa7813a80411b8fd2be9c7b0136c8",
            "max": 529930,
            "min": 0,
            "orientation": "horizontal",
            "style": "IPY_MODEL_83eb856bbeb447d0988be09daf37332c",
            "value": 529930
          }
        },
        "00c509489e70477285879909827b8102": {
          "model_module": "@jupyter-widgets/controls",
          "model_name": "HTMLModel",
          "model_module_version": "1.5.0",
          "state": {
            "_dom_classes": [],
            "_model_module": "@jupyter-widgets/controls",
            "_model_module_version": "1.5.0",
            "_model_name": "HTMLModel",
            "_view_count": null,
            "_view_module": "@jupyter-widgets/controls",
            "_view_module_version": "1.5.0",
            "_view_name": "HTMLView",
            "description": "",
            "description_tooltip": null,
            "layout": "IPY_MODEL_01ce1faab1ad497ab2e395e1950ea24b",
            "placeholder": "​",
            "style": "IPY_MODEL_48c1d12c24d64522ab48c0a95f19dab7",
            "value": " 530k/530k [00:00&lt;00:00, 5.00MB/s]"
          }
        },
        "72767f75b4c84b69be8ddd2fc3b654f8": {
          "model_module": "@jupyter-widgets/base",
          "model_name": "LayoutModel",
          "model_module_version": "1.2.0",
          "state": {
            "_model_module": "@jupyter-widgets/base",
            "_model_module_version": "1.2.0",
            "_model_name": "LayoutModel",
            "_view_count": null,
            "_view_module": "@jupyter-widgets/base",
            "_view_module_version": "1.2.0",
            "_view_name": "LayoutView",
            "align_content": null,
            "align_items": null,
            "align_self": null,
            "border": null,
            "bottom": null,
            "display": null,
            "flex": null,
            "flex_flow": null,
            "grid_area": null,
            "grid_auto_columns": null,
            "grid_auto_flow": null,
            "grid_auto_rows": null,
            "grid_column": null,
            "grid_gap": null,
            "grid_row": null,
            "grid_template_areas": null,
            "grid_template_columns": null,
            "grid_template_rows": null,
            "height": null,
            "justify_content": null,
            "justify_items": null,
            "left": null,
            "margin": null,
            "max_height": null,
            "max_width": null,
            "min_height": null,
            "min_width": null,
            "object_fit": null,
            "object_position": null,
            "order": null,
            "overflow": null,
            "overflow_x": null,
            "overflow_y": null,
            "padding": null,
            "right": null,
            "top": null,
            "visibility": null,
            "width": null
          }
        },
        "7297c8092e054fdb8c9a2d4e044e434b": {
          "model_module": "@jupyter-widgets/base",
          "model_name": "LayoutModel",
          "model_module_version": "1.2.0",
          "state": {
            "_model_module": "@jupyter-widgets/base",
            "_model_module_version": "1.2.0",
            "_model_name": "LayoutModel",
            "_view_count": null,
            "_view_module": "@jupyter-widgets/base",
            "_view_module_version": "1.2.0",
            "_view_name": "LayoutView",
            "align_content": null,
            "align_items": null,
            "align_self": null,
            "border": null,
            "bottom": null,
            "display": null,
            "flex": null,
            "flex_flow": null,
            "grid_area": null,
            "grid_auto_columns": null,
            "grid_auto_flow": null,
            "grid_auto_rows": null,
            "grid_column": null,
            "grid_gap": null,
            "grid_row": null,
            "grid_template_areas": null,
            "grid_template_columns": null,
            "grid_template_rows": null,
            "height": null,
            "justify_content": null,
            "justify_items": null,
            "left": null,
            "margin": null,
            "max_height": null,
            "max_width": null,
            "min_height": null,
            "min_width": null,
            "object_fit": null,
            "object_position": null,
            "order": null,
            "overflow": null,
            "overflow_x": null,
            "overflow_y": null,
            "padding": null,
            "right": null,
            "top": null,
            "visibility": null,
            "width": null
          }
        },
        "ee98f9c03c714022804edf03bc088e3b": {
          "model_module": "@jupyter-widgets/controls",
          "model_name": "DescriptionStyleModel",
          "model_module_version": "1.5.0",
          "state": {
            "_model_module": "@jupyter-widgets/controls",
            "_model_module_version": "1.5.0",
            "_model_name": "DescriptionStyleModel",
            "_view_count": null,
            "_view_module": "@jupyter-widgets/base",
            "_view_module_version": "1.2.0",
            "_view_name": "StyleView",
            "description_width": ""
          }
        },
        "be8fa7813a80411b8fd2be9c7b0136c8": {
          "model_module": "@jupyter-widgets/base",
          "model_name": "LayoutModel",
          "model_module_version": "1.2.0",
          "state": {
            "_model_module": "@jupyter-widgets/base",
            "_model_module_version": "1.2.0",
            "_model_name": "LayoutModel",
            "_view_count": null,
            "_view_module": "@jupyter-widgets/base",
            "_view_module_version": "1.2.0",
            "_view_name": "LayoutView",
            "align_content": null,
            "align_items": null,
            "align_self": null,
            "border": null,
            "bottom": null,
            "display": null,
            "flex": null,
            "flex_flow": null,
            "grid_area": null,
            "grid_auto_columns": null,
            "grid_auto_flow": null,
            "grid_auto_rows": null,
            "grid_column": null,
            "grid_gap": null,
            "grid_row": null,
            "grid_template_areas": null,
            "grid_template_columns": null,
            "grid_template_rows": null,
            "height": null,
            "justify_content": null,
            "justify_items": null,
            "left": null,
            "margin": null,
            "max_height": null,
            "max_width": null,
            "min_height": null,
            "min_width": null,
            "object_fit": null,
            "object_position": null,
            "order": null,
            "overflow": null,
            "overflow_x": null,
            "overflow_y": null,
            "padding": null,
            "right": null,
            "top": null,
            "visibility": null,
            "width": null
          }
        },
        "83eb856bbeb447d0988be09daf37332c": {
          "model_module": "@jupyter-widgets/controls",
          "model_name": "ProgressStyleModel",
          "model_module_version": "1.5.0",
          "state": {
            "_model_module": "@jupyter-widgets/controls",
            "_model_module_version": "1.5.0",
            "_model_name": "ProgressStyleModel",
            "_view_count": null,
            "_view_module": "@jupyter-widgets/base",
            "_view_module_version": "1.2.0",
            "_view_name": "StyleView",
            "bar_color": null,
            "description_width": ""
          }
        },
        "01ce1faab1ad497ab2e395e1950ea24b": {
          "model_module": "@jupyter-widgets/base",
          "model_name": "LayoutModel",
          "model_module_version": "1.2.0",
          "state": {
            "_model_module": "@jupyter-widgets/base",
            "_model_module_version": "1.2.0",
            "_model_name": "LayoutModel",
            "_view_count": null,
            "_view_module": "@jupyter-widgets/base",
            "_view_module_version": "1.2.0",
            "_view_name": "LayoutView",
            "align_content": null,
            "align_items": null,
            "align_self": null,
            "border": null,
            "bottom": null,
            "display": null,
            "flex": null,
            "flex_flow": null,
            "grid_area": null,
            "grid_auto_columns": null,
            "grid_auto_flow": null,
            "grid_auto_rows": null,
            "grid_column": null,
            "grid_gap": null,
            "grid_row": null,
            "grid_template_areas": null,
            "grid_template_columns": null,
            "grid_template_rows": null,
            "height": null,
            "justify_content": null,
            "justify_items": null,
            "left": null,
            "margin": null,
            "max_height": null,
            "max_width": null,
            "min_height": null,
            "min_width": null,
            "object_fit": null,
            "object_position": null,
            "order": null,
            "overflow": null,
            "overflow_x": null,
            "overflow_y": null,
            "padding": null,
            "right": null,
            "top": null,
            "visibility": null,
            "width": null
          }
        },
        "48c1d12c24d64522ab48c0a95f19dab7": {
          "model_module": "@jupyter-widgets/controls",
          "model_name": "DescriptionStyleModel",
          "model_module_version": "1.5.0",
          "state": {
            "_model_module": "@jupyter-widgets/controls",
            "_model_module_version": "1.5.0",
            "_model_name": "DescriptionStyleModel",
            "_view_count": null,
            "_view_module": "@jupyter-widgets/base",
            "_view_module_version": "1.2.0",
            "_view_name": "StyleView",
            "description_width": ""
          }
        },
        "724c0e83e7624a27b365dfff5cac7c2e": {
          "model_module": "@jupyter-widgets/controls",
          "model_name": "HBoxModel",
          "model_module_version": "1.5.0",
          "state": {
            "_dom_classes": [],
            "_model_module": "@jupyter-widgets/controls",
            "_model_module_version": "1.5.0",
            "_model_name": "HBoxModel",
            "_view_count": null,
            "_view_module": "@jupyter-widgets/controls",
            "_view_module_version": "1.5.0",
            "_view_name": "HBoxView",
            "box_style": "",
            "children": [
              "IPY_MODEL_a12e7dffa2324425b39374d8eae0be1e",
              "IPY_MODEL_3300bc1ab3b646b2aba5aca61f721c4e",
              "IPY_MODEL_0eb85797f7014f258ada344325c5d9a2"
            ],
            "layout": "IPY_MODEL_9cab660a664c4eb5ab776d62e9ebbe37"
          }
        },
        "a12e7dffa2324425b39374d8eae0be1e": {
          "model_module": "@jupyter-widgets/controls",
          "model_name": "HTMLModel",
          "model_module_version": "1.5.0",
          "state": {
            "_dom_classes": [],
            "_model_module": "@jupyter-widgets/controls",
            "_model_module_version": "1.5.0",
            "_model_name": "HTMLModel",
            "_view_count": null,
            "_view_module": "@jupyter-widgets/controls",
            "_view_module_version": "1.5.0",
            "_view_name": "HTMLView",
            "description": "",
            "description_tooltip": null,
            "layout": "IPY_MODEL_7709efbd2f6a4c0eabf5230b3d52aa55",
            "placeholder": "​",
            "style": "IPY_MODEL_039ad0eb3b5c4f3997b501efb5d5fb2e",
            "value": "Downloading (…)cial_tokens_map.json: 100%"
          }
        },
        "3300bc1ab3b646b2aba5aca61f721c4e": {
          "model_module": "@jupyter-widgets/controls",
          "model_name": "FloatProgressModel",
          "model_module_version": "1.5.0",
          "state": {
            "_dom_classes": [],
            "_model_module": "@jupyter-widgets/controls",
            "_model_module_version": "1.5.0",
            "_model_name": "FloatProgressModel",
            "_view_count": null,
            "_view_module": "@jupyter-widgets/controls",
            "_view_module_version": "1.5.0",
            "_view_name": "ProgressView",
            "bar_style": "success",
            "description": "",
            "description_tooltip": null,
            "layout": "IPY_MODEL_20c8e11d67034b3296df0e097d809831",
            "max": 112,
            "min": 0,
            "orientation": "horizontal",
            "style": "IPY_MODEL_fe23771f840248e8ba5abaf1690ee7bb",
            "value": 112
          }
        },
        "0eb85797f7014f258ada344325c5d9a2": {
          "model_module": "@jupyter-widgets/controls",
          "model_name": "HTMLModel",
          "model_module_version": "1.5.0",
          "state": {
            "_dom_classes": [],
            "_model_module": "@jupyter-widgets/controls",
            "_model_module_version": "1.5.0",
            "_model_name": "HTMLModel",
            "_view_count": null,
            "_view_module": "@jupyter-widgets/controls",
            "_view_module_version": "1.5.0",
            "_view_name": "HTMLView",
            "description": "",
            "description_tooltip": null,
            "layout": "IPY_MODEL_fdbd536d2a5448e89fed86a4dabfbaea",
            "placeholder": "​",
            "style": "IPY_MODEL_918acb5d01154b708cd37797e7a731b2",
            "value": " 112/112 [00:00&lt;00:00, 5.97kB/s]"
          }
        },
        "9cab660a664c4eb5ab776d62e9ebbe37": {
          "model_module": "@jupyter-widgets/base",
          "model_name": "LayoutModel",
          "model_module_version": "1.2.0",
          "state": {
            "_model_module": "@jupyter-widgets/base",
            "_model_module_version": "1.2.0",
            "_model_name": "LayoutModel",
            "_view_count": null,
            "_view_module": "@jupyter-widgets/base",
            "_view_module_version": "1.2.0",
            "_view_name": "LayoutView",
            "align_content": null,
            "align_items": null,
            "align_self": null,
            "border": null,
            "bottom": null,
            "display": null,
            "flex": null,
            "flex_flow": null,
            "grid_area": null,
            "grid_auto_columns": null,
            "grid_auto_flow": null,
            "grid_auto_rows": null,
            "grid_column": null,
            "grid_gap": null,
            "grid_row": null,
            "grid_template_areas": null,
            "grid_template_columns": null,
            "grid_template_rows": null,
            "height": null,
            "justify_content": null,
            "justify_items": null,
            "left": null,
            "margin": null,
            "max_height": null,
            "max_width": null,
            "min_height": null,
            "min_width": null,
            "object_fit": null,
            "object_position": null,
            "order": null,
            "overflow": null,
            "overflow_x": null,
            "overflow_y": null,
            "padding": null,
            "right": null,
            "top": null,
            "visibility": null,
            "width": null
          }
        },
        "7709efbd2f6a4c0eabf5230b3d52aa55": {
          "model_module": "@jupyter-widgets/base",
          "model_name": "LayoutModel",
          "model_module_version": "1.2.0",
          "state": {
            "_model_module": "@jupyter-widgets/base",
            "_model_module_version": "1.2.0",
            "_model_name": "LayoutModel",
            "_view_count": null,
            "_view_module": "@jupyter-widgets/base",
            "_view_module_version": "1.2.0",
            "_view_name": "LayoutView",
            "align_content": null,
            "align_items": null,
            "align_self": null,
            "border": null,
            "bottom": null,
            "display": null,
            "flex": null,
            "flex_flow": null,
            "grid_area": null,
            "grid_auto_columns": null,
            "grid_auto_flow": null,
            "grid_auto_rows": null,
            "grid_column": null,
            "grid_gap": null,
            "grid_row": null,
            "grid_template_areas": null,
            "grid_template_columns": null,
            "grid_template_rows": null,
            "height": null,
            "justify_content": null,
            "justify_items": null,
            "left": null,
            "margin": null,
            "max_height": null,
            "max_width": null,
            "min_height": null,
            "min_width": null,
            "object_fit": null,
            "object_position": null,
            "order": null,
            "overflow": null,
            "overflow_x": null,
            "overflow_y": null,
            "padding": null,
            "right": null,
            "top": null,
            "visibility": null,
            "width": null
          }
        },
        "039ad0eb3b5c4f3997b501efb5d5fb2e": {
          "model_module": "@jupyter-widgets/controls",
          "model_name": "DescriptionStyleModel",
          "model_module_version": "1.5.0",
          "state": {
            "_model_module": "@jupyter-widgets/controls",
            "_model_module_version": "1.5.0",
            "_model_name": "DescriptionStyleModel",
            "_view_count": null,
            "_view_module": "@jupyter-widgets/base",
            "_view_module_version": "1.2.0",
            "_view_name": "StyleView",
            "description_width": ""
          }
        },
        "20c8e11d67034b3296df0e097d809831": {
          "model_module": "@jupyter-widgets/base",
          "model_name": "LayoutModel",
          "model_module_version": "1.2.0",
          "state": {
            "_model_module": "@jupyter-widgets/base",
            "_model_module_version": "1.2.0",
            "_model_name": "LayoutModel",
            "_view_count": null,
            "_view_module": "@jupyter-widgets/base",
            "_view_module_version": "1.2.0",
            "_view_name": "LayoutView",
            "align_content": null,
            "align_items": null,
            "align_self": null,
            "border": null,
            "bottom": null,
            "display": null,
            "flex": null,
            "flex_flow": null,
            "grid_area": null,
            "grid_auto_columns": null,
            "grid_auto_flow": null,
            "grid_auto_rows": null,
            "grid_column": null,
            "grid_gap": null,
            "grid_row": null,
            "grid_template_areas": null,
            "grid_template_columns": null,
            "grid_template_rows": null,
            "height": null,
            "justify_content": null,
            "justify_items": null,
            "left": null,
            "margin": null,
            "max_height": null,
            "max_width": null,
            "min_height": null,
            "min_width": null,
            "object_fit": null,
            "object_position": null,
            "order": null,
            "overflow": null,
            "overflow_x": null,
            "overflow_y": null,
            "padding": null,
            "right": null,
            "top": null,
            "visibility": null,
            "width": null
          }
        },
        "fe23771f840248e8ba5abaf1690ee7bb": {
          "model_module": "@jupyter-widgets/controls",
          "model_name": "ProgressStyleModel",
          "model_module_version": "1.5.0",
          "state": {
            "_model_module": "@jupyter-widgets/controls",
            "_model_module_version": "1.5.0",
            "_model_name": "ProgressStyleModel",
            "_view_count": null,
            "_view_module": "@jupyter-widgets/base",
            "_view_module_version": "1.2.0",
            "_view_name": "StyleView",
            "bar_color": null,
            "description_width": ""
          }
        },
        "fdbd536d2a5448e89fed86a4dabfbaea": {
          "model_module": "@jupyter-widgets/base",
          "model_name": "LayoutModel",
          "model_module_version": "1.2.0",
          "state": {
            "_model_module": "@jupyter-widgets/base",
            "_model_module_version": "1.2.0",
            "_model_name": "LayoutModel",
            "_view_count": null,
            "_view_module": "@jupyter-widgets/base",
            "_view_module_version": "1.2.0",
            "_view_name": "LayoutView",
            "align_content": null,
            "align_items": null,
            "align_self": null,
            "border": null,
            "bottom": null,
            "display": null,
            "flex": null,
            "flex_flow": null,
            "grid_area": null,
            "grid_auto_columns": null,
            "grid_auto_flow": null,
            "grid_auto_rows": null,
            "grid_column": null,
            "grid_gap": null,
            "grid_row": null,
            "grid_template_areas": null,
            "grid_template_columns": null,
            "grid_template_rows": null,
            "height": null,
            "justify_content": null,
            "justify_items": null,
            "left": null,
            "margin": null,
            "max_height": null,
            "max_width": null,
            "min_height": null,
            "min_width": null,
            "object_fit": null,
            "object_position": null,
            "order": null,
            "overflow": null,
            "overflow_x": null,
            "overflow_y": null,
            "padding": null,
            "right": null,
            "top": null,
            "visibility": null,
            "width": null
          }
        },
        "918acb5d01154b708cd37797e7a731b2": {
          "model_module": "@jupyter-widgets/controls",
          "model_name": "DescriptionStyleModel",
          "model_module_version": "1.5.0",
          "state": {
            "_model_module": "@jupyter-widgets/controls",
            "_model_module_version": "1.5.0",
            "_model_name": "DescriptionStyleModel",
            "_view_count": null,
            "_view_module": "@jupyter-widgets/base",
            "_view_module_version": "1.2.0",
            "_view_name": "StyleView",
            "description_width": ""
          }
        },
        "0817103780514c2285bb1de226e3d434": {
          "model_module": "@jupyter-widgets/controls",
          "model_name": "HBoxModel",
          "model_module_version": "1.5.0",
          "state": {
            "_dom_classes": [],
            "_model_module": "@jupyter-widgets/controls",
            "_model_module_version": "1.5.0",
            "_model_name": "HBoxModel",
            "_view_count": null,
            "_view_module": "@jupyter-widgets/controls",
            "_view_module_version": "1.5.0",
            "_view_name": "HBoxView",
            "box_style": "",
            "children": [
              "IPY_MODEL_64fb71ff40e64a1c951119a6edde8961",
              "IPY_MODEL_faf310fbcc63418eb131f94d4bd5711a",
              "IPY_MODEL_4606fe1118854e9f8ef40f23ade66c48"
            ],
            "layout": "IPY_MODEL_48acfd99cf214949ba2756d03b0d3510"
          }
        },
        "64fb71ff40e64a1c951119a6edde8961": {
          "model_module": "@jupyter-widgets/controls",
          "model_name": "HTMLModel",
          "model_module_version": "1.5.0",
          "state": {
            "_dom_classes": [],
            "_model_module": "@jupyter-widgets/controls",
            "_model_module_version": "1.5.0",
            "_model_name": "HTMLModel",
            "_view_count": null,
            "_view_module": "@jupyter-widgets/controls",
            "_view_module_version": "1.5.0",
            "_view_name": "HTMLView",
            "description": "",
            "description_tooltip": null,
            "layout": "IPY_MODEL_684b8bc8715243b1ac6e170aeba6cdc7",
            "placeholder": "​",
            "style": "IPY_MODEL_80ca82c21fb84f319195ecac4c3e4c38",
            "value": "Downloading pytorch_model.bin: 100%"
          }
        },
        "faf310fbcc63418eb131f94d4bd5711a": {
          "model_module": "@jupyter-widgets/controls",
          "model_name": "FloatProgressModel",
          "model_module_version": "1.5.0",
          "state": {
            "_dom_classes": [],
            "_model_module": "@jupyter-widgets/controls",
            "_model_module_version": "1.5.0",
            "_model_name": "FloatProgressModel",
            "_view_count": null,
            "_view_module": "@jupyter-widgets/controls",
            "_view_module_version": "1.5.0",
            "_view_name": "ProgressView",
            "bar_style": "success",
            "description": "",
            "description_tooltip": null,
            "layout": "IPY_MODEL_2b1ccae05f5248d68b0d7caa35e6741c",
            "max": 454248854,
            "min": 0,
            "orientation": "horizontal",
            "style": "IPY_MODEL_e06d92fe00164b03be9e5cb0618cc995",
            "value": 454248854
          }
        },
        "4606fe1118854e9f8ef40f23ade66c48": {
          "model_module": "@jupyter-widgets/controls",
          "model_name": "HTMLModel",
          "model_module_version": "1.5.0",
          "state": {
            "_dom_classes": [],
            "_model_module": "@jupyter-widgets/controls",
            "_model_module_version": "1.5.0",
            "_model_name": "HTMLModel",
            "_view_count": null,
            "_view_module": "@jupyter-widgets/controls",
            "_view_module_version": "1.5.0",
            "_view_name": "HTMLView",
            "description": "",
            "description_tooltip": null,
            "layout": "IPY_MODEL_9832abd5976b41d8bf0e8b6f7e7a79c8",
            "placeholder": "​",
            "style": "IPY_MODEL_a29f82f6037f4800894f566a2821e964",
            "value": " 454M/454M [00:20&lt;00:00, 27.5MB/s]"
          }
        },
        "48acfd99cf214949ba2756d03b0d3510": {
          "model_module": "@jupyter-widgets/base",
          "model_name": "LayoutModel",
          "model_module_version": "1.2.0",
          "state": {
            "_model_module": "@jupyter-widgets/base",
            "_model_module_version": "1.2.0",
            "_model_name": "LayoutModel",
            "_view_count": null,
            "_view_module": "@jupyter-widgets/base",
            "_view_module_version": "1.2.0",
            "_view_name": "LayoutView",
            "align_content": null,
            "align_items": null,
            "align_self": null,
            "border": null,
            "bottom": null,
            "display": null,
            "flex": null,
            "flex_flow": null,
            "grid_area": null,
            "grid_auto_columns": null,
            "grid_auto_flow": null,
            "grid_auto_rows": null,
            "grid_column": null,
            "grid_gap": null,
            "grid_row": null,
            "grid_template_areas": null,
            "grid_template_columns": null,
            "grid_template_rows": null,
            "height": null,
            "justify_content": null,
            "justify_items": null,
            "left": null,
            "margin": null,
            "max_height": null,
            "max_width": null,
            "min_height": null,
            "min_width": null,
            "object_fit": null,
            "object_position": null,
            "order": null,
            "overflow": null,
            "overflow_x": null,
            "overflow_y": null,
            "padding": null,
            "right": null,
            "top": null,
            "visibility": null,
            "width": null
          }
        },
        "684b8bc8715243b1ac6e170aeba6cdc7": {
          "model_module": "@jupyter-widgets/base",
          "model_name": "LayoutModel",
          "model_module_version": "1.2.0",
          "state": {
            "_model_module": "@jupyter-widgets/base",
            "_model_module_version": "1.2.0",
            "_model_name": "LayoutModel",
            "_view_count": null,
            "_view_module": "@jupyter-widgets/base",
            "_view_module_version": "1.2.0",
            "_view_name": "LayoutView",
            "align_content": null,
            "align_items": null,
            "align_self": null,
            "border": null,
            "bottom": null,
            "display": null,
            "flex": null,
            "flex_flow": null,
            "grid_area": null,
            "grid_auto_columns": null,
            "grid_auto_flow": null,
            "grid_auto_rows": null,
            "grid_column": null,
            "grid_gap": null,
            "grid_row": null,
            "grid_template_areas": null,
            "grid_template_columns": null,
            "grid_template_rows": null,
            "height": null,
            "justify_content": null,
            "justify_items": null,
            "left": null,
            "margin": null,
            "max_height": null,
            "max_width": null,
            "min_height": null,
            "min_width": null,
            "object_fit": null,
            "object_position": null,
            "order": null,
            "overflow": null,
            "overflow_x": null,
            "overflow_y": null,
            "padding": null,
            "right": null,
            "top": null,
            "visibility": null,
            "width": null
          }
        },
        "80ca82c21fb84f319195ecac4c3e4c38": {
          "model_module": "@jupyter-widgets/controls",
          "model_name": "DescriptionStyleModel",
          "model_module_version": "1.5.0",
          "state": {
            "_model_module": "@jupyter-widgets/controls",
            "_model_module_version": "1.5.0",
            "_model_name": "DescriptionStyleModel",
            "_view_count": null,
            "_view_module": "@jupyter-widgets/base",
            "_view_module_version": "1.2.0",
            "_view_name": "StyleView",
            "description_width": ""
          }
        },
        "2b1ccae05f5248d68b0d7caa35e6741c": {
          "model_module": "@jupyter-widgets/base",
          "model_name": "LayoutModel",
          "model_module_version": "1.2.0",
          "state": {
            "_model_module": "@jupyter-widgets/base",
            "_model_module_version": "1.2.0",
            "_model_name": "LayoutModel",
            "_view_count": null,
            "_view_module": "@jupyter-widgets/base",
            "_view_module_version": "1.2.0",
            "_view_name": "LayoutView",
            "align_content": null,
            "align_items": null,
            "align_self": null,
            "border": null,
            "bottom": null,
            "display": null,
            "flex": null,
            "flex_flow": null,
            "grid_area": null,
            "grid_auto_columns": null,
            "grid_auto_flow": null,
            "grid_auto_rows": null,
            "grid_column": null,
            "grid_gap": null,
            "grid_row": null,
            "grid_template_areas": null,
            "grid_template_columns": null,
            "grid_template_rows": null,
            "height": null,
            "justify_content": null,
            "justify_items": null,
            "left": null,
            "margin": null,
            "max_height": null,
            "max_width": null,
            "min_height": null,
            "min_width": null,
            "object_fit": null,
            "object_position": null,
            "order": null,
            "overflow": null,
            "overflow_x": null,
            "overflow_y": null,
            "padding": null,
            "right": null,
            "top": null,
            "visibility": null,
            "width": null
          }
        },
        "e06d92fe00164b03be9e5cb0618cc995": {
          "model_module": "@jupyter-widgets/controls",
          "model_name": "ProgressStyleModel",
          "model_module_version": "1.5.0",
          "state": {
            "_model_module": "@jupyter-widgets/controls",
            "_model_module_version": "1.5.0",
            "_model_name": "ProgressStyleModel",
            "_view_count": null,
            "_view_module": "@jupyter-widgets/base",
            "_view_module_version": "1.2.0",
            "_view_name": "StyleView",
            "bar_color": null,
            "description_width": ""
          }
        },
        "9832abd5976b41d8bf0e8b6f7e7a79c8": {
          "model_module": "@jupyter-widgets/base",
          "model_name": "LayoutModel",
          "model_module_version": "1.2.0",
          "state": {
            "_model_module": "@jupyter-widgets/base",
            "_model_module_version": "1.2.0",
            "_model_name": "LayoutModel",
            "_view_count": null,
            "_view_module": "@jupyter-widgets/base",
            "_view_module_version": "1.2.0",
            "_view_name": "LayoutView",
            "align_content": null,
            "align_items": null,
            "align_self": null,
            "border": null,
            "bottom": null,
            "display": null,
            "flex": null,
            "flex_flow": null,
            "grid_area": null,
            "grid_auto_columns": null,
            "grid_auto_flow": null,
            "grid_auto_rows": null,
            "grid_column": null,
            "grid_gap": null,
            "grid_row": null,
            "grid_template_areas": null,
            "grid_template_columns": null,
            "grid_template_rows": null,
            "height": null,
            "justify_content": null,
            "justify_items": null,
            "left": null,
            "margin": null,
            "max_height": null,
            "max_width": null,
            "min_height": null,
            "min_width": null,
            "object_fit": null,
            "object_position": null,
            "order": null,
            "overflow": null,
            "overflow_x": null,
            "overflow_y": null,
            "padding": null,
            "right": null,
            "top": null,
            "visibility": null,
            "width": null
          }
        },
        "a29f82f6037f4800894f566a2821e964": {
          "model_module": "@jupyter-widgets/controls",
          "model_name": "DescriptionStyleModel",
          "model_module_version": "1.5.0",
          "state": {
            "_model_module": "@jupyter-widgets/controls",
            "_model_module_version": "1.5.0",
            "_model_name": "DescriptionStyleModel",
            "_view_count": null,
            "_view_module": "@jupyter-widgets/base",
            "_view_module_version": "1.2.0",
            "_view_name": "StyleView",
            "description_width": ""
          }
        }
      }
    }
  },
  "nbformat": 4,
  "nbformat_minor": 0
}