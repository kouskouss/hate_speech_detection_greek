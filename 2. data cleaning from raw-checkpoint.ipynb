{
 "cells": [
  {
   "cell_type": "code",
   "execution_count": 268,
   "id": "986b8014",
   "metadata": {},
   "outputs": [
    {
     "name": "stdout",
     "output_type": "stream",
     "text": [
      "                                                   Tweet                   ID  \\\n",
      "0      @AnteleidP ο φεμινισμός στα καλυτερά του η τύπ...  1639402451525574658   \n",
      "1      @mpefana O φεμινισμός κατα κύριο λόγο χρησιμοπ...  1639395777075191808   \n",
      "2      @HardCan75384103 Από ποιον χρησιμοποιείται πρω...  1639394074741334016   \n",
      "3      @mpefana Ο φεμινισμός φίλη μου χρησιμοποιείται...  1639392989033136129   \n",
      "4      @MNychta @ek_tou_kanapeos Δηλαδή και στον φεμι...  1639388831102148609   \n",
      "...                                                  ...                  ...   \n",
      "25160  @nikos_sverkos @AvgiOnline Σήμερα: Τα παιδιά π...  1636338432803840002   \n",
      "25161  @Andreasrouc @nikos_sverkos @AvgiOnline Για το...  1636338432803840002   \n",
      "25162  @KiriakosSavvo @nikos_sverkos @AvgiOnline Μπορ...  1636338432803840002   \n",
      "25163  @nikos_sverkos @AvgiOnline Καλό το αφήγημα αλλ...  1636338432803840002   \n",
      "25164  @nikos_sverkos @AvgiOnline Αυτοι που σπανε τα ...  1636338432803840002   \n",
      "\n",
      "       Label  \n",
      "0        NaN  \n",
      "1        NaN  \n",
      "2        NaN  \n",
      "3        NaN  \n",
      "4        NaN  \n",
      "...      ...  \n",
      "25160    NaN  \n",
      "25161    NaN  \n",
      "25162    NaN  \n",
      "25163    NaN  \n",
      "25164    NaN  \n",
      "\n",
      "[25165 rows x 3 columns]\n"
     ]
    }
   ],
   "source": [
    "import pandas as pd\n",
    "import numpy as np\n",
    "\n",
    "tweets = pd.read_csv(r'C:\\Users\\konst\\Documents\\THESIS HATE SPEECH DETECTION 2023\\TWEETS.csv')\n",
    "print(tweets)"
   ]
  },
  {
   "cell_type": "markdown",
   "id": "5f602358",
   "metadata": {},
   "source": [
    "# functions"
   ]
  },
  {
   "cell_type": "code",
   "execution_count": 269,
   "id": "e7283957",
   "metadata": {},
   "outputs": [],
   "source": [
    "import re\n",
    "\n",
    "def remove_usernames(tweet):\n",
    "    tweet = re.sub('@[^\\s]+','',tweet) #remove usernames\n",
    "    return tweet\n",
    "\n",
    "def remove_links(tweet):\n",
    "    tweet = re.sub('http[^\\s]+','',tweet) #remove links\n",
    "    return tweet\n",
    "\n",
    "def remove_short_tweets(tweet): #remove tweets with under 15 words\n",
    "    tweet = remove_usernames(remove_links(tweet))\n",
    "    if len(tweet.split())<16:\n",
    "        return np.nan \n",
    "    else:\n",
    "        return tweet\n",
    "\n",
    "def remove_emoji(text): #remove emojis\n",
    "    dem = demoji.findall(text)\n",
    "    for item in dem.keys():\n",
    "        text = text.replace(item, '')\n",
    "    return text"
   ]
  },
  {
   "cell_type": "code",
   "execution_count": 197,
   "id": "4903e248",
   "metadata": {},
   "outputs": [],
   "source": [
    "# def remove_short_tweets(tweet):\n",
    "    \n",
    "#     if len(tweet.split())<16:\n",
    "#         return np.nan \n",
    "#     else:\n",
    "#         return tweet"
   ]
  },
  {
   "cell_type": "code",
   "execution_count": 236,
   "id": "f995b989",
   "metadata": {},
   "outputs": [
    {
     "data": {
      "text/plain": [
       "['Βιβλιοκριτική\\xa0/\\xa0Φεμινισμός για το 99%\\nhttps://t.co/KnVHjWtYb0',\n",
       " 'Ψόφα πατριαρχία https://t.co/i0ABOCC6KC',\n",
       " 'Αλλά όχι μόνο αυτές. Στεκόμαστε περήφανα κορίτσια όλες, ενάντια στη βαθιά ριζωμένη πατριαρχία, ενάντια στη κακοποίηση και τη βία, ενάντια στις επαγγελματικές διακρίσεις και τα απαρχαιωμένα μυαλά ✊',\n",
       " 'Κι αν αρχισουν να σας μιλανε για υποτιθεμενα προνομια, επισης θυμηστε τις οτι συνταγματικα ΚΑΙ οι γυναικες ειναι υποχρεωμενες να πηγαινουν στρατο για να διατηρησουν το δικαιωμα του ψηφιζειν και ψηφισεσθαι... αλλα τελικα εξαιρουνται\\n\\nΠοια πατριαρχια και φαντασματα;;',\n",
       " 'Σε μια χώρα όπου οι πλείστοι και οι πλείστες ερμηνεύουν έννοιες όπως ο φεμινισμός και η ισότητα των φύλων σε \"τούτη εν φαουσα/ δρακουνα\", εύχομαι ευτυχισμένη μέρα της γυναίκας...',\n",
       " 'Ξέρετε ποιες γυναίκες θαυμάζουμε σήμερα; \\nΑυτές που θυσίασαν τις ζωές τους για να μεγαλώσουμε εμείς, αυτές που μας βοήθησαν να καταλάβουμε τι σημαίνει αγάπη, αυτές που έτρωγαν ξύλο αλλά δεν έφευγαν για τα παιδιά, αυτές που πάλευαν με τη βαθιά πατριαρχία και τα στερεότυπα. https://t.co/uO1fNwc9Kq']"
      ]
     },
     "execution_count": 236,
     "metadata": {},
     "output_type": "execute_result"
    }
   ],
   "source": [
    "list(set(list(tweets.iloc[450:456]['Tweet']))) "
   ]
  },
  {
   "cell_type": "code",
   "execution_count": 237,
   "id": "eca80c9d",
   "metadata": {},
   "outputs": [
    {
     "data": {
      "text/plain": [
       "pandas.core.frame.DataFrame"
      ]
     },
     "execution_count": 237,
     "metadata": {},
     "output_type": "execute_result"
    }
   ],
   "source": [
    "type(tweets)"
   ]
  },
  {
   "cell_type": "markdown",
   "id": "0682469e",
   "metadata": {},
   "source": [
    "# clean tweets from duplicates (spam or same id)"
   ]
  },
  {
   "cell_type": "markdown",
   "id": "864abd9a",
   "metadata": {},
   "source": [
    "# drop the duplicates from the ids"
   ]
  },
  {
   "cell_type": "code",
   "execution_count": 270,
   "id": "7369f09a",
   "metadata": {},
   "outputs": [],
   "source": [
    "df1 = tweets.drop_duplicates(subset=[\"ID\"])"
   ]
  },
  {
   "cell_type": "code",
   "execution_count": 271,
   "id": "fc7308df",
   "metadata": {},
   "outputs": [],
   "source": [
    "df1.reset_index(inplace=True)"
   ]
  },
  {
   "cell_type": "code",
   "execution_count": 272,
   "id": "f7fae4a2",
   "metadata": {},
   "outputs": [],
   "source": [
    "df1 = df1[['Tweet', 'Label']]"
   ]
  },
  {
   "cell_type": "code",
   "execution_count": 273,
   "id": "a7cdc142",
   "metadata": {},
   "outputs": [
    {
     "data": {
      "text/html": [
       "<div>\n",
       "<style scoped>\n",
       "    .dataframe tbody tr th:only-of-type {\n",
       "        vertical-align: middle;\n",
       "    }\n",
       "\n",
       "    .dataframe tbody tr th {\n",
       "        vertical-align: top;\n",
       "    }\n",
       "\n",
       "    .dataframe thead th {\n",
       "        text-align: right;\n",
       "    }\n",
       "</style>\n",
       "<table border=\"1\" class=\"dataframe\">\n",
       "  <thead>\n",
       "    <tr style=\"text-align: right;\">\n",
       "      <th></th>\n",
       "      <th>Tweet</th>\n",
       "      <th>Label</th>\n",
       "    </tr>\n",
       "  </thead>\n",
       "  <tbody>\n",
       "    <tr>\n",
       "      <th>0</th>\n",
       "      <td>@AnteleidP ο φεμινισμός στα καλυτερά του η τύπ...</td>\n",
       "      <td>NaN</td>\n",
       "    </tr>\n",
       "    <tr>\n",
       "      <th>1</th>\n",
       "      <td>@mpefana O φεμινισμός κατα κύριο λόγο χρησιμοπ...</td>\n",
       "      <td>NaN</td>\n",
       "    </tr>\n",
       "    <tr>\n",
       "      <th>2</th>\n",
       "      <td>@HardCan75384103 Από ποιον χρησιμοποιείται πρω...</td>\n",
       "      <td>NaN</td>\n",
       "    </tr>\n",
       "    <tr>\n",
       "      <th>3</th>\n",
       "      <td>@mpefana Ο φεμινισμός φίλη μου χρησιμοποιείται...</td>\n",
       "      <td>NaN</td>\n",
       "    </tr>\n",
       "    <tr>\n",
       "      <th>4</th>\n",
       "      <td>@MNychta @ek_tou_kanapeos Δηλαδή και στον φεμι...</td>\n",
       "      <td>NaN</td>\n",
       "    </tr>\n",
       "    <tr>\n",
       "      <th>...</th>\n",
       "      <td>...</td>\n",
       "      <td>...</td>\n",
       "    </tr>\n",
       "    <tr>\n",
       "      <th>23348</th>\n",
       "      <td>@AdonisGeorgiadi @blueskytvgr Δεν ντρέπεσαι κά...</td>\n",
       "      <td>NaN</td>\n",
       "    </tr>\n",
       "    <tr>\n",
       "      <th>23349</th>\n",
       "      <td>@ellada24 Έξω ρε μπασταρδε</td>\n",
       "      <td>NaN</td>\n",
       "    </tr>\n",
       "    <tr>\n",
       "      <th>23350</th>\n",
       "      <td>@katrinken η παρεα σας χθες ηταν ο ενας πιο μο...</td>\n",
       "      <td>NaN</td>\n",
       "    </tr>\n",
       "    <tr>\n",
       "      <th>23351</th>\n",
       "      <td>@katrinken Συνδεσέτον  με Κάϊρο.</td>\n",
       "      <td>NaN</td>\n",
       "    </tr>\n",
       "    <tr>\n",
       "      <th>23352</th>\n",
       "      <td>@nikos_sverkos @aisa_pera @AvgiOnline Ο ορισμό...</td>\n",
       "      <td>NaN</td>\n",
       "    </tr>\n",
       "  </tbody>\n",
       "</table>\n",
       "<p>23353 rows × 2 columns</p>\n",
       "</div>"
      ],
      "text/plain": [
       "                                                   Tweet  Label\n",
       "0      @AnteleidP ο φεμινισμός στα καλυτερά του η τύπ...    NaN\n",
       "1      @mpefana O φεμινισμός κατα κύριο λόγο χρησιμοπ...    NaN\n",
       "2      @HardCan75384103 Από ποιον χρησιμοποιείται πρω...    NaN\n",
       "3      @mpefana Ο φεμινισμός φίλη μου χρησιμοποιείται...    NaN\n",
       "4      @MNychta @ek_tou_kanapeos Δηλαδή και στον φεμι...    NaN\n",
       "...                                                  ...    ...\n",
       "23348  @AdonisGeorgiadi @blueskytvgr Δεν ντρέπεσαι κά...    NaN\n",
       "23349                         @ellada24 Έξω ρε μπασταρδε    NaN\n",
       "23350  @katrinken η παρεα σας χθες ηταν ο ενας πιο μο...    NaN\n",
       "23351                   @katrinken Συνδεσέτον  με Κάϊρο.    NaN\n",
       "23352  @nikos_sverkos @aisa_pera @AvgiOnline Ο ορισμό...    NaN\n",
       "\n",
       "[23353 rows x 2 columns]"
      ]
     },
     "execution_count": 273,
     "metadata": {},
     "output_type": "execute_result"
    }
   ],
   "source": [
    "df1"
   ]
  },
  {
   "cell_type": "code",
   "execution_count": 274,
   "id": "a91ffac6",
   "metadata": {},
   "outputs": [],
   "source": [
    "#new column with tweets without links or tags so we can extract the same content\n",
    "df1['clean Tweet'] = df1['Tweet'].apply(remove_usernames) \n",
    "df1['clean Tweet'] = df1['clean Tweet'].apply(remove_links)\n",
    "df1['clean Tweet'] = df1['clean Tweet'].apply(remove_short_tweets)\n",
    "\n",
    "df1.dropna(subset = ['clean Tweet'], inplace=True)\n",
    "\n",
    "# drop duplicates from the same context -- there are some spams\n",
    "df1.drop_duplicates(subset='clean Tweet', inplace=True)\n",
    "df1.reset_index(inplace=True)\n",
    "df1 = df1[['Tweet', 'Label']]\n"
   ]
  },
  {
   "cell_type": "code",
   "execution_count": 275,
   "id": "e92a407f",
   "metadata": {},
   "outputs": [
    {
     "data": {
      "text/html": [
       "<div>\n",
       "<style scoped>\n",
       "    .dataframe tbody tr th:only-of-type {\n",
       "        vertical-align: middle;\n",
       "    }\n",
       "\n",
       "    .dataframe tbody tr th {\n",
       "        vertical-align: top;\n",
       "    }\n",
       "\n",
       "    .dataframe thead th {\n",
       "        text-align: right;\n",
       "    }\n",
       "</style>\n",
       "<table border=\"1\" class=\"dataframe\">\n",
       "  <thead>\n",
       "    <tr style=\"text-align: right;\">\n",
       "      <th></th>\n",
       "      <th>Tweet</th>\n",
       "      <th>Label</th>\n",
       "    </tr>\n",
       "  </thead>\n",
       "  <tbody>\n",
       "    <tr>\n",
       "      <th>0</th>\n",
       "      <td>@mpefana O φεμινισμός κατα κύριο λόγο χρησιμοπ...</td>\n",
       "      <td>NaN</td>\n",
       "    </tr>\n",
       "    <tr>\n",
       "      <th>1</th>\n",
       "      <td>@HardCan75384103 Από ποιον χρησιμοποιείται πρω...</td>\n",
       "      <td>NaN</td>\n",
       "    </tr>\n",
       "    <tr>\n",
       "      <th>2</th>\n",
       "      <td>@mpefana Ο φεμινισμός φίλη μου χρησιμοποιείται...</td>\n",
       "      <td>NaN</td>\n",
       "    </tr>\n",
       "    <tr>\n",
       "      <th>3</th>\n",
       "      <td>@ek_tou_kanapeos Οι 3ο κυματικές φεμινίστριες ...</td>\n",
       "      <td>NaN</td>\n",
       "    </tr>\n",
       "    <tr>\n",
       "      <th>4</th>\n",
       "      <td>Έτσι Στέλλα μου πολεμά την πατριαρχία με σχόλι...</td>\n",
       "      <td>NaN</td>\n",
       "    </tr>\n",
       "    <tr>\n",
       "      <th>...</th>\n",
       "      <td>...</td>\n",
       "      <td>...</td>\n",
       "    </tr>\n",
       "    <tr>\n",
       "      <th>13064</th>\n",
       "      <td>Ζηλεύω την ικανότητα στελεχών της ΝΔ που λένε ...</td>\n",
       "      <td>NaN</td>\n",
       "    </tr>\n",
       "    <tr>\n",
       "      <th>13065</th>\n",
       "      <td>@cp_khma @Chatzinikol69 @FikisGi @__SLaNG___ Θ...</td>\n",
       "      <td>NaN</td>\n",
       "    </tr>\n",
       "    <tr>\n",
       "      <th>13066</th>\n",
       "      <td>@NIKOSPA67882989 @MsLouellaDeVil Πολύ ωραία, τ...</td>\n",
       "      <td>NaN</td>\n",
       "    </tr>\n",
       "    <tr>\n",
       "      <th>13067</th>\n",
       "      <td>@AdonisGeorgiadi @blueskytvgr Δεν ντρέπεσαι κά...</td>\n",
       "      <td>NaN</td>\n",
       "    </tr>\n",
       "    <tr>\n",
       "      <th>13068</th>\n",
       "      <td>@katrinken η παρεα σας χθες ηταν ο ενας πιο μο...</td>\n",
       "      <td>NaN</td>\n",
       "    </tr>\n",
       "  </tbody>\n",
       "</table>\n",
       "<p>13069 rows × 2 columns</p>\n",
       "</div>"
      ],
      "text/plain": [
       "                                                   Tweet  Label\n",
       "0      @mpefana O φεμινισμός κατα κύριο λόγο χρησιμοπ...    NaN\n",
       "1      @HardCan75384103 Από ποιον χρησιμοποιείται πρω...    NaN\n",
       "2      @mpefana Ο φεμινισμός φίλη μου χρησιμοποιείται...    NaN\n",
       "3      @ek_tou_kanapeos Οι 3ο κυματικές φεμινίστριες ...    NaN\n",
       "4      Έτσι Στέλλα μου πολεμά την πατριαρχία με σχόλι...    NaN\n",
       "...                                                  ...    ...\n",
       "13064  Ζηλεύω την ικανότητα στελεχών της ΝΔ που λένε ...    NaN\n",
       "13065  @cp_khma @Chatzinikol69 @FikisGi @__SLaNG___ Θ...    NaN\n",
       "13066  @NIKOSPA67882989 @MsLouellaDeVil Πολύ ωραία, τ...    NaN\n",
       "13067  @AdonisGeorgiadi @blueskytvgr Δεν ντρέπεσαι κά...    NaN\n",
       "13068  @katrinken η παρεα σας χθες ηταν ο ενας πιο μο...    NaN\n",
       "\n",
       "[13069 rows x 2 columns]"
      ]
     },
     "execution_count": 275,
     "metadata": {},
     "output_type": "execute_result"
    }
   ],
   "source": [
    "df1 #clean with the same tweets either from spams or same ids"
   ]
  },
  {
   "cell_type": "markdown",
   "id": "0252f0fd",
   "metadata": {},
   "source": [
    "# shuffle the tweets "
   ]
  },
  {
   "cell_type": "code",
   "execution_count": 276,
   "id": "8237efec",
   "metadata": {},
   "outputs": [],
   "source": [
    "# it returns a same shuffled dataframe\n",
    "# cause of the random state parameter\n",
    "df1 = df1.sample(frac=1, random_state=1).reset_index()"
   ]
  },
  {
   "cell_type": "code",
   "execution_count": 278,
   "id": "87cd7017",
   "metadata": {},
   "outputs": [],
   "source": [
    "df1 = df1[['Tweet', 'Label']]"
   ]
  },
  {
   "cell_type": "code",
   "execution_count": 296,
   "id": "d0a73301",
   "metadata": {},
   "outputs": [
    {
     "data": {
      "text/html": [
       "<div>\n",
       "<style scoped>\n",
       "    .dataframe tbody tr th:only-of-type {\n",
       "        vertical-align: middle;\n",
       "    }\n",
       "\n",
       "    .dataframe tbody tr th {\n",
       "        vertical-align: top;\n",
       "    }\n",
       "\n",
       "    .dataframe thead th {\n",
       "        text-align: right;\n",
       "    }\n",
       "</style>\n",
       "<table border=\"1\" class=\"dataframe\">\n",
       "  <thead>\n",
       "    <tr style=\"text-align: right;\">\n",
       "      <th></th>\n",
       "      <th>Tweet</th>\n",
       "      <th>Label</th>\n",
       "    </tr>\n",
       "  </thead>\n",
       "  <tbody>\n",
       "    <tr>\n",
       "      <th>0</th>\n",
       "      <td>@PDimitris100 @machiavelli_gr Ας κανουν οτι θε...</td>\n",
       "      <td>NaN</td>\n",
       "    </tr>\n",
       "    <tr>\n",
       "      <th>1</th>\n",
       "      <td>Η απορία της ημέρας!!\\n\\nΓιατί σε φωτογραφία π...</td>\n",
       "      <td>NaN</td>\n",
       "    </tr>\n",
       "    <tr>\n",
       "      <th>2</th>\n",
       "      <td>Ρε κόψτε την σύνδεση με τον βλακα Καραγιάννη έ...</td>\n",
       "      <td>NaN</td>\n",
       "    </tr>\n",
       "    <tr>\n",
       "      <th>3</th>\n",
       "      <td>Πολύ βολικό πάντως που λίγο πριν το τροχαίο μι...</td>\n",
       "      <td>NaN</td>\n",
       "    </tr>\n",
       "    <tr>\n",
       "      <th>4</th>\n",
       "      <td>@tsalt76 Μόνο από τον ΠΑΟΚ σας πήραν μήπως σας...</td>\n",
       "      <td>NaN</td>\n",
       "    </tr>\n",
       "    <tr>\n",
       "      <th>...</th>\n",
       "      <td>...</td>\n",
       "      <td>...</td>\n",
       "    </tr>\n",
       "    <tr>\n",
       "      <th>13064</th>\n",
       "      <td>@RingoPiranha Τρατζικ ο Μπουγάς,το κουνελάκι,ο...</td>\n",
       "      <td>NaN</td>\n",
       "    </tr>\n",
       "    <tr>\n",
       "      <th>13065</th>\n",
       "      <td>@AdonisGeorgiadi Μα τι μεγαλόψυχος είσαι ρε Σπ...</td>\n",
       "      <td>NaN</td>\n",
       "    </tr>\n",
       "    <tr>\n",
       "      <th>13066</th>\n",
       "      <td>@Orchid2Black Μα βόλτα στο ΤικΤοκ και θα ενημε...</td>\n",
       "      <td>NaN</td>\n",
       "    </tr>\n",
       "    <tr>\n",
       "      <th>13067</th>\n",
       "      <td>@CZachariadis Αυτοί που μιλούν για δικαιώματα ...</td>\n",
       "      <td>NaN</td>\n",
       "    </tr>\n",
       "    <tr>\n",
       "      <th>13068</th>\n",
       "      <td>@poirazis @st_procopiou Πάντως αυτή που υπερασ...</td>\n",
       "      <td>NaN</td>\n",
       "    </tr>\n",
       "  </tbody>\n",
       "</table>\n",
       "<p>13069 rows × 2 columns</p>\n",
       "</div>"
      ],
      "text/plain": [
       "                                                   Tweet  Label\n",
       "0      @PDimitris100 @machiavelli_gr Ας κανουν οτι θε...    NaN\n",
       "1      Η απορία της ημέρας!!\\n\\nΓιατί σε φωτογραφία π...    NaN\n",
       "2      Ρε κόψτε την σύνδεση με τον βλακα Καραγιάννη έ...    NaN\n",
       "3      Πολύ βολικό πάντως που λίγο πριν το τροχαίο μι...    NaN\n",
       "4      @tsalt76 Μόνο από τον ΠΑΟΚ σας πήραν μήπως σας...    NaN\n",
       "...                                                  ...    ...\n",
       "13064  @RingoPiranha Τρατζικ ο Μπουγάς,το κουνελάκι,ο...    NaN\n",
       "13065  @AdonisGeorgiadi Μα τι μεγαλόψυχος είσαι ρε Σπ...    NaN\n",
       "13066  @Orchid2Black Μα βόλτα στο ΤικΤοκ και θα ενημε...    NaN\n",
       "13067  @CZachariadis Αυτοί που μιλούν για δικαιώματα ...    NaN\n",
       "13068  @poirazis @st_procopiou Πάντως αυτή που υπερασ...    NaN\n",
       "\n",
       "[13069 rows x 2 columns]"
      ]
     },
     "execution_count": 296,
     "metadata": {},
     "output_type": "execute_result"
    }
   ],
   "source": [
    "df1"
   ]
  },
  {
   "cell_type": "code",
   "execution_count": 297,
   "id": "ad639e8e",
   "metadata": {},
   "outputs": [],
   "source": [
    "df1.to_csv('TWEETS_final.csv', index=False, encoding='utf-8-sig')"
   ]
  },
  {
   "cell_type": "code",
   "execution_count": 298,
   "id": "bbaaf942",
   "metadata": {},
   "outputs": [],
   "source": [
    "tweets_final = pd.read_csv(r'C:\\Users\\konst\\Documents\\THESIS HATE SPEECH DETECTION 2023\\TWEETS_final.csv')"
   ]
  },
  {
   "cell_type": "code",
   "execution_count": 299,
   "id": "53978063",
   "metadata": {},
   "outputs": [
    {
     "data": {
      "text/html": [
       "<div>\n",
       "<style scoped>\n",
       "    .dataframe tbody tr th:only-of-type {\n",
       "        vertical-align: middle;\n",
       "    }\n",
       "\n",
       "    .dataframe tbody tr th {\n",
       "        vertical-align: top;\n",
       "    }\n",
       "\n",
       "    .dataframe thead th {\n",
       "        text-align: right;\n",
       "    }\n",
       "</style>\n",
       "<table border=\"1\" class=\"dataframe\">\n",
       "  <thead>\n",
       "    <tr style=\"text-align: right;\">\n",
       "      <th></th>\n",
       "      <th>Tweet</th>\n",
       "      <th>Label</th>\n",
       "    </tr>\n",
       "  </thead>\n",
       "  <tbody>\n",
       "    <tr>\n",
       "      <th>0</th>\n",
       "      <td>@PDimitris100 @machiavelli_gr Ας κανουν οτι θε...</td>\n",
       "      <td>NaN</td>\n",
       "    </tr>\n",
       "    <tr>\n",
       "      <th>1</th>\n",
       "      <td>Η απορία της ημέρας!!\\n\\nΓιατί σε φωτογραφία π...</td>\n",
       "      <td>NaN</td>\n",
       "    </tr>\n",
       "    <tr>\n",
       "      <th>2</th>\n",
       "      <td>Ρε κόψτε την σύνδεση με τον βλακα Καραγιάννη έ...</td>\n",
       "      <td>NaN</td>\n",
       "    </tr>\n",
       "    <tr>\n",
       "      <th>3</th>\n",
       "      <td>Πολύ βολικό πάντως που λίγο πριν το τροχαίο μι...</td>\n",
       "      <td>NaN</td>\n",
       "    </tr>\n",
       "    <tr>\n",
       "      <th>4</th>\n",
       "      <td>@tsalt76 Μόνο από τον ΠΑΟΚ σας πήραν μήπως σας...</td>\n",
       "      <td>NaN</td>\n",
       "    </tr>\n",
       "    <tr>\n",
       "      <th>...</th>\n",
       "      <td>...</td>\n",
       "      <td>...</td>\n",
       "    </tr>\n",
       "    <tr>\n",
       "      <th>13064</th>\n",
       "      <td>@RingoPiranha Τρατζικ ο Μπουγάς,το κουνελάκι,ο...</td>\n",
       "      <td>NaN</td>\n",
       "    </tr>\n",
       "    <tr>\n",
       "      <th>13065</th>\n",
       "      <td>@AdonisGeorgiadi Μα τι μεγαλόψυχος είσαι ρε Σπ...</td>\n",
       "      <td>NaN</td>\n",
       "    </tr>\n",
       "    <tr>\n",
       "      <th>13066</th>\n",
       "      <td>@Orchid2Black Μα βόλτα στο ΤικΤοκ και θα ενημε...</td>\n",
       "      <td>NaN</td>\n",
       "    </tr>\n",
       "    <tr>\n",
       "      <th>13067</th>\n",
       "      <td>@CZachariadis Αυτοί που μιλούν για δικαιώματα ...</td>\n",
       "      <td>NaN</td>\n",
       "    </tr>\n",
       "    <tr>\n",
       "      <th>13068</th>\n",
       "      <td>@poirazis @st_procopiou Πάντως αυτή που υπερασ...</td>\n",
       "      <td>NaN</td>\n",
       "    </tr>\n",
       "  </tbody>\n",
       "</table>\n",
       "<p>13069 rows × 2 columns</p>\n",
       "</div>"
      ],
      "text/plain": [
       "                                                   Tweet  Label\n",
       "0      @PDimitris100 @machiavelli_gr Ας κανουν οτι θε...    NaN\n",
       "1      Η απορία της ημέρας!!\\n\\nΓιατί σε φωτογραφία π...    NaN\n",
       "2      Ρε κόψτε την σύνδεση με τον βλακα Καραγιάννη έ...    NaN\n",
       "3      Πολύ βολικό πάντως που λίγο πριν το τροχαίο μι...    NaN\n",
       "4      @tsalt76 Μόνο από τον ΠΑΟΚ σας πήραν μήπως σας...    NaN\n",
       "...                                                  ...    ...\n",
       "13064  @RingoPiranha Τρατζικ ο Μπουγάς,το κουνελάκι,ο...    NaN\n",
       "13065  @AdonisGeorgiadi Μα τι μεγαλόψυχος είσαι ρε Σπ...    NaN\n",
       "13066  @Orchid2Black Μα βόλτα στο ΤικΤοκ και θα ενημε...    NaN\n",
       "13067  @CZachariadis Αυτοί που μιλούν για δικαιώματα ...    NaN\n",
       "13068  @poirazis @st_procopiou Πάντως αυτή που υπερασ...    NaN\n",
       "\n",
       "[13069 rows x 2 columns]"
      ]
     },
     "execution_count": 299,
     "metadata": {},
     "output_type": "execute_result"
    }
   ],
   "source": [
    "tweets_final "
   ]
  },
  {
   "cell_type": "markdown",
   "id": "918c8c80",
   "metadata": {},
   "source": [
    "# tweets without mentions"
   ]
  },
  {
   "cell_type": "code",
   "execution_count": 300,
   "id": "7a4ff7a2",
   "metadata": {},
   "outputs": [],
   "source": [
    "tweets_clean_no_tags = tweets_final\n",
    "tweets_clean_no_tags['Tweet'] = tweets_clean_no_tags['Tweet'].apply(remove_usernames)"
   ]
  },
  {
   "cell_type": "code",
   "execution_count": 301,
   "id": "7b7ca607",
   "metadata": {},
   "outputs": [
    {
     "data": {
      "text/html": [
       "<div>\n",
       "<style scoped>\n",
       "    .dataframe tbody tr th:only-of-type {\n",
       "        vertical-align: middle;\n",
       "    }\n",
       "\n",
       "    .dataframe tbody tr th {\n",
       "        vertical-align: top;\n",
       "    }\n",
       "\n",
       "    .dataframe thead th {\n",
       "        text-align: right;\n",
       "    }\n",
       "</style>\n",
       "<table border=\"1\" class=\"dataframe\">\n",
       "  <thead>\n",
       "    <tr style=\"text-align: right;\">\n",
       "      <th></th>\n",
       "      <th>Tweet</th>\n",
       "      <th>Label</th>\n",
       "    </tr>\n",
       "  </thead>\n",
       "  <tbody>\n",
       "    <tr>\n",
       "      <th>0</th>\n",
       "      <td>Ας κανουν οτι θελουν δε με αφορα αλλα η ακρι...</td>\n",
       "      <td>NaN</td>\n",
       "    </tr>\n",
       "    <tr>\n",
       "      <th>1</th>\n",
       "      <td>Η απορία της ημέρας!!\\n\\nΓιατί σε φωτογραφία π...</td>\n",
       "      <td>NaN</td>\n",
       "    </tr>\n",
       "    <tr>\n",
       "      <th>2</th>\n",
       "      <td>Ρε κόψτε την σύνδεση με τον βλακα Καραγιάννη έ...</td>\n",
       "      <td>NaN</td>\n",
       "    </tr>\n",
       "    <tr>\n",
       "      <th>3</th>\n",
       "      <td>Πολύ βολικό πάντως που λίγο πριν το τροχαίο μι...</td>\n",
       "      <td>NaN</td>\n",
       "    </tr>\n",
       "    <tr>\n",
       "      <th>4</th>\n",
       "      <td>Μόνο από τον ΠΑΟΚ σας πήραν μήπως σας πήραν β...</td>\n",
       "      <td>NaN</td>\n",
       "    </tr>\n",
       "    <tr>\n",
       "      <th>...</th>\n",
       "      <td>...</td>\n",
       "      <td>...</td>\n",
       "    </tr>\n",
       "    <tr>\n",
       "      <th>13064</th>\n",
       "      <td>Τρατζικ ο Μπουγάς,το κουνελάκι,οι ψηστες, ένα...</td>\n",
       "      <td>NaN</td>\n",
       "    </tr>\n",
       "    <tr>\n",
       "      <th>13065</th>\n",
       "      <td>Μα τι μεγαλόψυχος είσαι ρε Σπύρο; Τι Ανθρωπος...</td>\n",
       "      <td>NaN</td>\n",
       "    </tr>\n",
       "    <tr>\n",
       "      <th>13066</th>\n",
       "      <td>Μα βόλτα στο ΤικΤοκ και θα ενημερωθείς άμεσα ...</td>\n",
       "      <td>NaN</td>\n",
       "    </tr>\n",
       "    <tr>\n",
       "      <th>13067</th>\n",
       "      <td>Αυτοί που μιλούν για δικαιώματα και ελευθερία...</td>\n",
       "      <td>NaN</td>\n",
       "    </tr>\n",
       "    <tr>\n",
       "      <th>13068</th>\n",
       "      <td>Πάντως αυτή που υπερασπίζονται την πατριαρχί...</td>\n",
       "      <td>NaN</td>\n",
       "    </tr>\n",
       "  </tbody>\n",
       "</table>\n",
       "<p>13069 rows × 2 columns</p>\n",
       "</div>"
      ],
      "text/plain": [
       "                                                   Tweet  Label\n",
       "0        Ας κανουν οτι θελουν δε με αφορα αλλα η ακρι...    NaN\n",
       "1      Η απορία της ημέρας!!\\n\\nΓιατί σε φωτογραφία π...    NaN\n",
       "2      Ρε κόψτε την σύνδεση με τον βλακα Καραγιάννη έ...    NaN\n",
       "3      Πολύ βολικό πάντως που λίγο πριν το τροχαίο μι...    NaN\n",
       "4       Μόνο από τον ΠΑΟΚ σας πήραν μήπως σας πήραν β...    NaN\n",
       "...                                                  ...    ...\n",
       "13064   Τρατζικ ο Μπουγάς,το κουνελάκι,οι ψηστες, ένα...    NaN\n",
       "13065   Μα τι μεγαλόψυχος είσαι ρε Σπύρο; Τι Ανθρωπος...    NaN\n",
       "13066   Μα βόλτα στο ΤικΤοκ και θα ενημερωθείς άμεσα ...    NaN\n",
       "13067   Αυτοί που μιλούν για δικαιώματα και ελευθερία...    NaN\n",
       "13068    Πάντως αυτή που υπερασπίζονται την πατριαρχί...    NaN\n",
       "\n",
       "[13069 rows x 2 columns]"
      ]
     },
     "execution_count": 301,
     "metadata": {},
     "output_type": "execute_result"
    }
   ],
   "source": [
    "tweets_clean_no_tags"
   ]
  },
  {
   "cell_type": "code",
   "execution_count": 302,
   "id": "ca7e01c1",
   "metadata": {},
   "outputs": [],
   "source": [
    "tweets_clean_no_tags.to_csv('TWEETS_notags.csv', index=False, encoding='utf-8-sig')"
   ]
  },
  {
   "cell_type": "code",
   "execution_count": 303,
   "id": "3635cd1b",
   "metadata": {},
   "outputs": [],
   "source": [
    "df2 = pd.read_csv('TWEETS_notags.csv')"
   ]
  },
  {
   "cell_type": "code",
   "execution_count": 304,
   "id": "7efd2280",
   "metadata": {},
   "outputs": [
    {
     "data": {
      "text/html": [
       "<div>\n",
       "<style scoped>\n",
       "    .dataframe tbody tr th:only-of-type {\n",
       "        vertical-align: middle;\n",
       "    }\n",
       "\n",
       "    .dataframe tbody tr th {\n",
       "        vertical-align: top;\n",
       "    }\n",
       "\n",
       "    .dataframe thead th {\n",
       "        text-align: right;\n",
       "    }\n",
       "</style>\n",
       "<table border=\"1\" class=\"dataframe\">\n",
       "  <thead>\n",
       "    <tr style=\"text-align: right;\">\n",
       "      <th></th>\n",
       "      <th>Tweet</th>\n",
       "      <th>Label</th>\n",
       "    </tr>\n",
       "  </thead>\n",
       "  <tbody>\n",
       "    <tr>\n",
       "      <th>0</th>\n",
       "      <td>Ας κανουν οτι θελουν δε με αφορα αλλα η ακρι...</td>\n",
       "      <td>NaN</td>\n",
       "    </tr>\n",
       "    <tr>\n",
       "      <th>1</th>\n",
       "      <td>Η απορία της ημέρας!!\\n\\nΓιατί σε φωτογραφία π...</td>\n",
       "      <td>NaN</td>\n",
       "    </tr>\n",
       "    <tr>\n",
       "      <th>2</th>\n",
       "      <td>Ρε κόψτε την σύνδεση με τον βλακα Καραγιάννη έ...</td>\n",
       "      <td>NaN</td>\n",
       "    </tr>\n",
       "    <tr>\n",
       "      <th>3</th>\n",
       "      <td>Πολύ βολικό πάντως που λίγο πριν το τροχαίο μι...</td>\n",
       "      <td>NaN</td>\n",
       "    </tr>\n",
       "    <tr>\n",
       "      <th>4</th>\n",
       "      <td>Μόνο από τον ΠΑΟΚ σας πήραν μήπως σας πήραν β...</td>\n",
       "      <td>NaN</td>\n",
       "    </tr>\n",
       "    <tr>\n",
       "      <th>...</th>\n",
       "      <td>...</td>\n",
       "      <td>...</td>\n",
       "    </tr>\n",
       "    <tr>\n",
       "      <th>13064</th>\n",
       "      <td>Τρατζικ ο Μπουγάς,το κουνελάκι,οι ψηστες, ένα...</td>\n",
       "      <td>NaN</td>\n",
       "    </tr>\n",
       "    <tr>\n",
       "      <th>13065</th>\n",
       "      <td>Μα τι μεγαλόψυχος είσαι ρε Σπύρο; Τι Ανθρωπος...</td>\n",
       "      <td>NaN</td>\n",
       "    </tr>\n",
       "    <tr>\n",
       "      <th>13066</th>\n",
       "      <td>Μα βόλτα στο ΤικΤοκ και θα ενημερωθείς άμεσα ...</td>\n",
       "      <td>NaN</td>\n",
       "    </tr>\n",
       "    <tr>\n",
       "      <th>13067</th>\n",
       "      <td>Αυτοί που μιλούν για δικαιώματα και ελευθερία...</td>\n",
       "      <td>NaN</td>\n",
       "    </tr>\n",
       "    <tr>\n",
       "      <th>13068</th>\n",
       "      <td>Πάντως αυτή που υπερασπίζονται την πατριαρχί...</td>\n",
       "      <td>NaN</td>\n",
       "    </tr>\n",
       "  </tbody>\n",
       "</table>\n",
       "<p>13069 rows × 2 columns</p>\n",
       "</div>"
      ],
      "text/plain": [
       "                                                   Tweet  Label\n",
       "0        Ας κανουν οτι θελουν δε με αφορα αλλα η ακρι...    NaN\n",
       "1      Η απορία της ημέρας!!\\n\\nΓιατί σε φωτογραφία π...    NaN\n",
       "2      Ρε κόψτε την σύνδεση με τον βλακα Καραγιάννη έ...    NaN\n",
       "3      Πολύ βολικό πάντως που λίγο πριν το τροχαίο μι...    NaN\n",
       "4       Μόνο από τον ΠΑΟΚ σας πήραν μήπως σας πήραν β...    NaN\n",
       "...                                                  ...    ...\n",
       "13064   Τρατζικ ο Μπουγάς,το κουνελάκι,οι ψηστες, ένα...    NaN\n",
       "13065   Μα τι μεγαλόψυχος είσαι ρε Σπύρο; Τι Ανθρωπος...    NaN\n",
       "13066   Μα βόλτα στο ΤικΤοκ και θα ενημερωθείς άμεσα ...    NaN\n",
       "13067   Αυτοί που μιλούν για δικαιώματα και ελευθερία...    NaN\n",
       "13068    Πάντως αυτή που υπερασπίζονται την πατριαρχί...    NaN\n",
       "\n",
       "[13069 rows x 2 columns]"
      ]
     },
     "execution_count": 304,
     "metadata": {},
     "output_type": "execute_result"
    }
   ],
   "source": [
    "df2"
   ]
  },
  {
   "cell_type": "markdown",
   "id": "e9549ce7",
   "metadata": {},
   "source": [
    "# tweets without links"
   ]
  },
  {
   "cell_type": "code",
   "execution_count": 305,
   "id": "f319173a",
   "metadata": {},
   "outputs": [],
   "source": [
    "tweets_clean_no_tags_no_links = df2\n",
    "tweets_clean_no_tags_no_links['Tweet'] = tweets_clean_no_tags_no_links['Tweet'].apply(remove_links)"
   ]
  },
  {
   "cell_type": "code",
   "execution_count": 306,
   "id": "2fbc5e8c",
   "metadata": {},
   "outputs": [
    {
     "data": {
      "text/html": [
       "<div>\n",
       "<style scoped>\n",
       "    .dataframe tbody tr th:only-of-type {\n",
       "        vertical-align: middle;\n",
       "    }\n",
       "\n",
       "    .dataframe tbody tr th {\n",
       "        vertical-align: top;\n",
       "    }\n",
       "\n",
       "    .dataframe thead th {\n",
       "        text-align: right;\n",
       "    }\n",
       "</style>\n",
       "<table border=\"1\" class=\"dataframe\">\n",
       "  <thead>\n",
       "    <tr style=\"text-align: right;\">\n",
       "      <th></th>\n",
       "      <th>Tweet</th>\n",
       "      <th>Label</th>\n",
       "    </tr>\n",
       "  </thead>\n",
       "  <tbody>\n",
       "    <tr>\n",
       "      <th>0</th>\n",
       "      <td>Ας κανουν οτι θελουν δε με αφορα αλλα η ακρι...</td>\n",
       "      <td>NaN</td>\n",
       "    </tr>\n",
       "    <tr>\n",
       "      <th>1</th>\n",
       "      <td>Η απορία της ημέρας!!\\n\\nΓιατί σε φωτογραφία π...</td>\n",
       "      <td>NaN</td>\n",
       "    </tr>\n",
       "    <tr>\n",
       "      <th>2</th>\n",
       "      <td>Ρε κόψτε την σύνδεση με τον βλακα Καραγιάννη έ...</td>\n",
       "      <td>NaN</td>\n",
       "    </tr>\n",
       "    <tr>\n",
       "      <th>3</th>\n",
       "      <td>Πολύ βολικό πάντως που λίγο πριν το τροχαίο μι...</td>\n",
       "      <td>NaN</td>\n",
       "    </tr>\n",
       "    <tr>\n",
       "      <th>4</th>\n",
       "      <td>Μόνο από τον ΠΑΟΚ σας πήραν μήπως σας πήραν β...</td>\n",
       "      <td>NaN</td>\n",
       "    </tr>\n",
       "    <tr>\n",
       "      <th>...</th>\n",
       "      <td>...</td>\n",
       "      <td>...</td>\n",
       "    </tr>\n",
       "    <tr>\n",
       "      <th>13064</th>\n",
       "      <td>Τρατζικ ο Μπουγάς,το κουνελάκι,οι ψηστες, ένα...</td>\n",
       "      <td>NaN</td>\n",
       "    </tr>\n",
       "    <tr>\n",
       "      <th>13065</th>\n",
       "      <td>Μα τι μεγαλόψυχος είσαι ρε Σπύρο; Τι Ανθρωπος...</td>\n",
       "      <td>NaN</td>\n",
       "    </tr>\n",
       "    <tr>\n",
       "      <th>13066</th>\n",
       "      <td>Μα βόλτα στο ΤικΤοκ και θα ενημερωθείς άμεσα ...</td>\n",
       "      <td>NaN</td>\n",
       "    </tr>\n",
       "    <tr>\n",
       "      <th>13067</th>\n",
       "      <td>Αυτοί που μιλούν για δικαιώματα και ελευθερία...</td>\n",
       "      <td>NaN</td>\n",
       "    </tr>\n",
       "    <tr>\n",
       "      <th>13068</th>\n",
       "      <td>Πάντως αυτή που υπερασπίζονται την πατριαρχί...</td>\n",
       "      <td>NaN</td>\n",
       "    </tr>\n",
       "  </tbody>\n",
       "</table>\n",
       "<p>13069 rows × 2 columns</p>\n",
       "</div>"
      ],
      "text/plain": [
       "                                                   Tweet  Label\n",
       "0        Ας κανουν οτι θελουν δε με αφορα αλλα η ακρι...    NaN\n",
       "1      Η απορία της ημέρας!!\\n\\nΓιατί σε φωτογραφία π...    NaN\n",
       "2      Ρε κόψτε την σύνδεση με τον βλακα Καραγιάννη έ...    NaN\n",
       "3      Πολύ βολικό πάντως που λίγο πριν το τροχαίο μι...    NaN\n",
       "4       Μόνο από τον ΠΑΟΚ σας πήραν μήπως σας πήραν β...    NaN\n",
       "...                                                  ...    ...\n",
       "13064   Τρατζικ ο Μπουγάς,το κουνελάκι,οι ψηστες, ένα...    NaN\n",
       "13065   Μα τι μεγαλόψυχος είσαι ρε Σπύρο; Τι Ανθρωπος...    NaN\n",
       "13066   Μα βόλτα στο ΤικΤοκ και θα ενημερωθείς άμεσα ...    NaN\n",
       "13067   Αυτοί που μιλούν για δικαιώματα και ελευθερία...    NaN\n",
       "13068    Πάντως αυτή που υπερασπίζονται την πατριαρχί...    NaN\n",
       "\n",
       "[13069 rows x 2 columns]"
      ]
     },
     "execution_count": 306,
     "metadata": {},
     "output_type": "execute_result"
    }
   ],
   "source": [
    "tweets_clean_no_tags_no_links"
   ]
  },
  {
   "cell_type": "code",
   "execution_count": 290,
   "id": "9d6f4321",
   "metadata": {},
   "outputs": [],
   "source": [
    "# tweets_clean_no_tags_no_links.to_csv('TWEETS_nolinks2.csv', index=False, encoding='utf-8-sig')"
   ]
  },
  {
   "cell_type": "code",
   "execution_count": null,
   "id": "2505fdd0",
   "metadata": {},
   "outputs": [],
   "source": [
    " "
   ]
  },
  {
   "cell_type": "code",
   "execution_count": 291,
   "id": "9e455168",
   "metadata": {},
   "outputs": [],
   "source": [
    "# tweets_clean_no_tags_no_links['Tweet'] = tweets_clean_no_tags_no_links['Tweet'].apply(remove_short_tweets)"
   ]
  },
  {
   "cell_type": "code",
   "execution_count": 292,
   "id": "ece8bdad",
   "metadata": {},
   "outputs": [],
   "source": [
    "# tweets_clean_no_tags_no_links['Tweet'].isnull().sum()"
   ]
  },
  {
   "cell_type": "code",
   "execution_count": 293,
   "id": "be9df08e",
   "metadata": {},
   "outputs": [],
   "source": [
    "# tweets_clean_no_tags_no_links.dropna(subset = ['Tweet'], inplace=True)\n",
    "\n",
    "# # drop duplicates from the same context -- there are some spams\n",
    "# tweets_clean_no_tags_no_links.drop_duplicates(subset='Tweet', inplace=True)\n",
    "# tweets_clean_no_tags_no_links.reset_index(inplace=True)\n",
    "# tweets_clean_no_tags_no_links = tweets_clean_no_tags_no_links[['Tweet', 'Label']]"
   ]
  },
  {
   "cell_type": "code",
   "execution_count": null,
   "id": "c19cda5e",
   "metadata": {},
   "outputs": [],
   "source": []
  },
  {
   "cell_type": "code",
   "execution_count": 307,
   "id": "c66dd08a",
   "metadata": {},
   "outputs": [
    {
     "data": {
      "text/html": [
       "<div>\n",
       "<style scoped>\n",
       "    .dataframe tbody tr th:only-of-type {\n",
       "        vertical-align: middle;\n",
       "    }\n",
       "\n",
       "    .dataframe tbody tr th {\n",
       "        vertical-align: top;\n",
       "    }\n",
       "\n",
       "    .dataframe thead th {\n",
       "        text-align: right;\n",
       "    }\n",
       "</style>\n",
       "<table border=\"1\" class=\"dataframe\">\n",
       "  <thead>\n",
       "    <tr style=\"text-align: right;\">\n",
       "      <th></th>\n",
       "      <th>Tweet</th>\n",
       "      <th>Label</th>\n",
       "    </tr>\n",
       "  </thead>\n",
       "  <tbody>\n",
       "    <tr>\n",
       "      <th>0</th>\n",
       "      <td>Ας κανουν οτι θελουν δε με αφορα αλλα η ακρι...</td>\n",
       "      <td>NaN</td>\n",
       "    </tr>\n",
       "    <tr>\n",
       "      <th>1</th>\n",
       "      <td>Η απορία της ημέρας!!\\n\\nΓιατί σε φωτογραφία π...</td>\n",
       "      <td>NaN</td>\n",
       "    </tr>\n",
       "    <tr>\n",
       "      <th>2</th>\n",
       "      <td>Ρε κόψτε την σύνδεση με τον βλακα Καραγιάννη έ...</td>\n",
       "      <td>NaN</td>\n",
       "    </tr>\n",
       "    <tr>\n",
       "      <th>3</th>\n",
       "      <td>Πολύ βολικό πάντως που λίγο πριν το τροχαίο μι...</td>\n",
       "      <td>NaN</td>\n",
       "    </tr>\n",
       "    <tr>\n",
       "      <th>4</th>\n",
       "      <td>Μόνο από τον ΠΑΟΚ σας πήραν μήπως σας πήραν β...</td>\n",
       "      <td>NaN</td>\n",
       "    </tr>\n",
       "    <tr>\n",
       "      <th>...</th>\n",
       "      <td>...</td>\n",
       "      <td>...</td>\n",
       "    </tr>\n",
       "    <tr>\n",
       "      <th>13064</th>\n",
       "      <td>Τρατζικ ο Μπουγάς,το κουνελάκι,οι ψηστες, ένα...</td>\n",
       "      <td>NaN</td>\n",
       "    </tr>\n",
       "    <tr>\n",
       "      <th>13065</th>\n",
       "      <td>Μα τι μεγαλόψυχος είσαι ρε Σπύρο; Τι Ανθρωπος...</td>\n",
       "      <td>NaN</td>\n",
       "    </tr>\n",
       "    <tr>\n",
       "      <th>13066</th>\n",
       "      <td>Μα βόλτα στο ΤικΤοκ και θα ενημερωθείς άμεσα ...</td>\n",
       "      <td>NaN</td>\n",
       "    </tr>\n",
       "    <tr>\n",
       "      <th>13067</th>\n",
       "      <td>Αυτοί που μιλούν για δικαιώματα και ελευθερία...</td>\n",
       "      <td>NaN</td>\n",
       "    </tr>\n",
       "    <tr>\n",
       "      <th>13068</th>\n",
       "      <td>Πάντως αυτή που υπερασπίζονται την πατριαρχί...</td>\n",
       "      <td>NaN</td>\n",
       "    </tr>\n",
       "  </tbody>\n",
       "</table>\n",
       "<p>13069 rows × 2 columns</p>\n",
       "</div>"
      ],
      "text/plain": [
       "                                                   Tweet  Label\n",
       "0        Ας κανουν οτι θελουν δε με αφορα αλλα η ακρι...    NaN\n",
       "1      Η απορία της ημέρας!!\\n\\nΓιατί σε φωτογραφία π...    NaN\n",
       "2      Ρε κόψτε την σύνδεση με τον βλακα Καραγιάννη έ...    NaN\n",
       "3      Πολύ βολικό πάντως που λίγο πριν το τροχαίο μι...    NaN\n",
       "4       Μόνο από τον ΠΑΟΚ σας πήραν μήπως σας πήραν β...    NaN\n",
       "...                                                  ...    ...\n",
       "13064   Τρατζικ ο Μπουγάς,το κουνελάκι,οι ψηστες, ένα...    NaN\n",
       "13065   Μα τι μεγαλόψυχος είσαι ρε Σπύρο; Τι Ανθρωπος...    NaN\n",
       "13066   Μα βόλτα στο ΤικΤοκ και θα ενημερωθείς άμεσα ...    NaN\n",
       "13067   Αυτοί που μιλούν για δικαιώματα και ελευθερία...    NaN\n",
       "13068    Πάντως αυτή που υπερασπίζονται την πατριαρχί...    NaN\n",
       "\n",
       "[13069 rows x 2 columns]"
      ]
     },
     "execution_count": 307,
     "metadata": {},
     "output_type": "execute_result"
    }
   ],
   "source": [
    "tweets_clean_no_tags_no_links"
   ]
  },
  {
   "cell_type": "code",
   "execution_count": 309,
   "id": "55f00e85",
   "metadata": {},
   "outputs": [],
   "source": [
    "tweets_clean_no_tags_no_links.to_csv('TWEETS_nolinks.csv', index=False, encoding='utf-8-sig')"
   ]
  },
  {
   "cell_type": "markdown",
   "id": "7b7fb739",
   "metadata": {},
   "source": [
    "# tweets no emojis"
   ]
  },
  {
   "cell_type": "code",
   "execution_count": 310,
   "id": "6218a36d",
   "metadata": {},
   "outputs": [],
   "source": [
    "# pip install demoji"
   ]
  },
  {
   "cell_type": "code",
   "execution_count": 311,
   "id": "1cd9e839",
   "metadata": {},
   "outputs": [],
   "source": [
    "import demoji "
   ]
  },
  {
   "cell_type": "code",
   "execution_count": 312,
   "id": "5bc0bdfc",
   "metadata": {},
   "outputs": [
    {
     "name": "stderr",
     "output_type": "stream",
     "text": [
      "C:\\Users\\konst\\AppData\\Local\\Temp\\ipykernel_15924\\2299328559.py:1: FutureWarning: The demoji.download_codes attribute is deprecated and will be removed from demoji in a future version. It is an unused attribute as emoji codes are now distributed directly with the demoji package.\n",
      "  demoji.download_codes()\n"
     ]
    }
   ],
   "source": [
    "demoji.download_codes()"
   ]
  },
  {
   "cell_type": "code",
   "execution_count": 313,
   "id": "5ffffb90",
   "metadata": {},
   "outputs": [],
   "source": [
    "# example = tweets_clean_no_tags_no_links.iloc[1]\n",
    "# example"
   ]
  },
  {
   "cell_type": "code",
   "execution_count": 314,
   "id": "09109f01",
   "metadata": {},
   "outputs": [],
   "source": [
    "# remove_emoji(example['Tweet'])"
   ]
  },
  {
   "cell_type": "code",
   "execution_count": 315,
   "id": "8b0dcd4c",
   "metadata": {},
   "outputs": [],
   "source": [
    "tweets_clean_no_tags_no_links_no_emoji = tweets_clean_no_tags_no_links\n",
    "tweets_clean_no_tags_no_links_no_emoji['Tweet'] = tweets_clean_no_tags_no_links_no_emoji['Tweet'].apply(remove_emoji)"
   ]
  },
  {
   "cell_type": "code",
   "execution_count": 316,
   "id": "e00adb04",
   "metadata": {},
   "outputs": [
    {
     "data": {
      "text/html": [
       "<div>\n",
       "<style scoped>\n",
       "    .dataframe tbody tr th:only-of-type {\n",
       "        vertical-align: middle;\n",
       "    }\n",
       "\n",
       "    .dataframe tbody tr th {\n",
       "        vertical-align: top;\n",
       "    }\n",
       "\n",
       "    .dataframe thead th {\n",
       "        text-align: right;\n",
       "    }\n",
       "</style>\n",
       "<table border=\"1\" class=\"dataframe\">\n",
       "  <thead>\n",
       "    <tr style=\"text-align: right;\">\n",
       "      <th></th>\n",
       "      <th>Tweet</th>\n",
       "      <th>Label</th>\n",
       "    </tr>\n",
       "  </thead>\n",
       "  <tbody>\n",
       "    <tr>\n",
       "      <th>0</th>\n",
       "      <td>Ας κανουν οτι θελουν δε με αφορα αλλα η ακρι...</td>\n",
       "      <td>NaN</td>\n",
       "    </tr>\n",
       "    <tr>\n",
       "      <th>1</th>\n",
       "      <td>Η απορία της ημέρας!!\\n\\nΓιατί σε φωτογραφία π...</td>\n",
       "      <td>NaN</td>\n",
       "    </tr>\n",
       "    <tr>\n",
       "      <th>2</th>\n",
       "      <td>Ρε κόψτε την σύνδεση με τον βλακα Καραγιάννη έ...</td>\n",
       "      <td>NaN</td>\n",
       "    </tr>\n",
       "    <tr>\n",
       "      <th>3</th>\n",
       "      <td>Πολύ βολικό πάντως που λίγο πριν το τροχαίο μι...</td>\n",
       "      <td>NaN</td>\n",
       "    </tr>\n",
       "    <tr>\n",
       "      <th>4</th>\n",
       "      <td>Μόνο από τον ΠΑΟΚ σας πήραν μήπως σας πήραν β...</td>\n",
       "      <td>NaN</td>\n",
       "    </tr>\n",
       "    <tr>\n",
       "      <th>...</th>\n",
       "      <td>...</td>\n",
       "      <td>...</td>\n",
       "    </tr>\n",
       "    <tr>\n",
       "      <th>13064</th>\n",
       "      <td>Τρατζικ ο Μπουγάς,το κουνελάκι,οι ψηστες, ένα...</td>\n",
       "      <td>NaN</td>\n",
       "    </tr>\n",
       "    <tr>\n",
       "      <th>13065</th>\n",
       "      <td>Μα τι μεγαλόψυχος είσαι ρε Σπύρο; Τι Ανθρωπος...</td>\n",
       "      <td>NaN</td>\n",
       "    </tr>\n",
       "    <tr>\n",
       "      <th>13066</th>\n",
       "      <td>Μα βόλτα στο ΤικΤοκ και θα ενημερωθείς άμεσα ...</td>\n",
       "      <td>NaN</td>\n",
       "    </tr>\n",
       "    <tr>\n",
       "      <th>13067</th>\n",
       "      <td>Αυτοί που μιλούν για δικαιώματα και ελευθερία...</td>\n",
       "      <td>NaN</td>\n",
       "    </tr>\n",
       "    <tr>\n",
       "      <th>13068</th>\n",
       "      <td>Πάντως αυτή που υπερασπίζονται την πατριαρχί...</td>\n",
       "      <td>NaN</td>\n",
       "    </tr>\n",
       "  </tbody>\n",
       "</table>\n",
       "<p>13069 rows × 2 columns</p>\n",
       "</div>"
      ],
      "text/plain": [
       "                                                   Tweet  Label\n",
       "0        Ας κανουν οτι θελουν δε με αφορα αλλα η ακρι...    NaN\n",
       "1      Η απορία της ημέρας!!\\n\\nΓιατί σε φωτογραφία π...    NaN\n",
       "2      Ρε κόψτε την σύνδεση με τον βλακα Καραγιάννη έ...    NaN\n",
       "3      Πολύ βολικό πάντως που λίγο πριν το τροχαίο μι...    NaN\n",
       "4       Μόνο από τον ΠΑΟΚ σας πήραν μήπως σας πήραν β...    NaN\n",
       "...                                                  ...    ...\n",
       "13064   Τρατζικ ο Μπουγάς,το κουνελάκι,οι ψηστες, ένα...    NaN\n",
       "13065   Μα τι μεγαλόψυχος είσαι ρε Σπύρο; Τι Ανθρωπος...    NaN\n",
       "13066   Μα βόλτα στο ΤικΤοκ και θα ενημερωθείς άμεσα ...    NaN\n",
       "13067   Αυτοί που μιλούν για δικαιώματα και ελευθερία...    NaN\n",
       "13068    Πάντως αυτή που υπερασπίζονται την πατριαρχί...    NaN\n",
       "\n",
       "[13069 rows x 2 columns]"
      ]
     },
     "execution_count": 316,
     "metadata": {},
     "output_type": "execute_result"
    }
   ],
   "source": [
    "tweets_clean_no_tags_no_links_no_emoji"
   ]
  },
  {
   "cell_type": "code",
   "execution_count": 317,
   "id": "4e0ffb18",
   "metadata": {},
   "outputs": [],
   "source": [
    "tweets_clean_no_tags_no_links_no_emoji.to_csv('TWEETS_noemojis.csv', index=False, encoding='utf-8-sig')"
   ]
  },
  {
   "cell_type": "code",
   "execution_count": null,
   "id": "ab16a590",
   "metadata": {},
   "outputs": [],
   "source": []
  },
  {
   "cell_type": "code",
   "execution_count": null,
   "id": "075d8e2e",
   "metadata": {},
   "outputs": [],
   "source": []
  },
  {
   "cell_type": "code",
   "execution_count": null,
   "id": "fc764463",
   "metadata": {},
   "outputs": [],
   "source": []
  }
 ],
 "metadata": {
  "kernelspec": {
   "display_name": "Python 3 (ipykernel)",
   "language": "python",
   "name": "python3"
  },
  "language_info": {
   "codemirror_mode": {
    "name": "ipython",
    "version": 3
   },
   "file_extension": ".py",
   "mimetype": "text/x-python",
   "name": "python",
   "nbconvert_exporter": "python",
   "pygments_lexer": "ipython3",
   "version": "3.10.6"
  }
 },
 "nbformat": 4,
 "nbformat_minor": 5
}
